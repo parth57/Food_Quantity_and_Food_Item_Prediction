{
 "cells": [
  {
   "cell_type": "code",
   "execution_count": 333,
   "metadata": {},
   "outputs": [
    {
     "data": {
      "text/html": [
       "        <script type=\"text/javascript\">\n",
       "        window.PlotlyConfig = {MathJaxConfig: 'local'};\n",
       "        if (window.MathJax) {MathJax.Hub.Config({SVG: {font: \"STIX-Web\"}});}\n",
       "        if (typeof require !== 'undefined') {\n",
       "        require.undef(\"plotly\");\n",
       "        requirejs.config({\n",
       "            paths: {\n",
       "                'plotly': ['https://cdn.plot.ly/plotly-latest.min']\n",
       "            }\n",
       "        });\n",
       "        require(['plotly'], function(Plotly) {\n",
       "            window._Plotly = Plotly;\n",
       "        });\n",
       "        }\n",
       "        </script>\n",
       "        "
      ]
     },
     "metadata": {},
     "output_type": "display_data"
    }
   ],
   "source": [
    "import pandas as pd\n",
    "import numpy as np\n",
    "import matplotlib.pyplot as plt\n",
    "import seaborn as sns\n",
    "import cufflinks as cf\n",
    "cf.go_offline()\n",
    "from sklearn.model_selection import train_test_split\n",
    "from sklearn.preprocessing import OneHotEncoder,LabelEncoder\n",
    "from sklearn.pipeline import Pipeline\n",
    "from sklearn.preprocessing import StandardScaler\n",
    "from sklearn.ensemble import RandomForestRegressor\n",
    "from sklearn.linear_model import LinearRegression\n",
    "from sklearn.neighbors import KNeighborsRegressor\n",
    "from xgboost import XGBRegressor\n",
    "from sklearn.impute import SimpleImputer\n",
    "from sklearn.metrics import mean_absolute_error,mean_squared_error\n",
    "import warnings\n",
    "warnings.filterwarnings('ignore')"
   ]
  },
  {
   "cell_type": "code",
   "execution_count": 334,
   "metadata": {},
   "outputs": [],
   "source": [
    "df = pd.read_csv('Restaurant.csv')"
   ]
  },
  {
   "cell_type": "markdown",
   "metadata": {},
   "source": [
    "# Exploratory Data Analysis"
   ]
  },
  {
   "cell_type": "code",
   "execution_count": 335,
   "metadata": {},
   "outputs": [
    {
     "data": {
      "text/html": [
       "<div>\n",
       "<style scoped>\n",
       "    .dataframe tbody tr th:only-of-type {\n",
       "        vertical-align: middle;\n",
       "    }\n",
       "\n",
       "    .dataframe tbody tr th {\n",
       "        vertical-align: top;\n",
       "    }\n",
       "\n",
       "    .dataframe thead th {\n",
       "        text-align: right;\n",
       "    }\n",
       "</style>\n",
       "<table border=\"1\" class=\"dataframe\">\n",
       "  <thead>\n",
       "    <tr style=\"text-align: right;\">\n",
       "      <th></th>\n",
       "      <th>StoreCode</th>\n",
       "      <th>DTS</th>\n",
       "      <th>Shift</th>\n",
       "      <th>Day Type</th>\n",
       "      <th>Day</th>\n",
       "      <th>Month</th>\n",
       "      <th>Date</th>\n",
       "      <th>Year</th>\n",
       "      <th>Time</th>\n",
       "      <th>TicketCode</th>\n",
       "      <th>PartySize</th>\n",
       "      <th>MenuCateogry</th>\n",
       "      <th>MenuItem</th>\n",
       "      <th>ItemPrice</th>\n",
       "      <th>ItemQty</th>\n",
       "    </tr>\n",
       "  </thead>\n",
       "  <tbody>\n",
       "    <tr>\n",
       "      <th>0</th>\n",
       "      <td>YALEV6B6K3</td>\n",
       "      <td>01/01/2019 11:30AM</td>\n",
       "      <td>Lunch</td>\n",
       "      <td>Weekday</td>\n",
       "      <td>Tuesday</td>\n",
       "      <td>1</td>\n",
       "      <td>1</td>\n",
       "      <td>2019</td>\n",
       "      <td>11:30AM</td>\n",
       "      <td>YALE0001</td>\n",
       "      <td>4</td>\n",
       "      <td>Starter</td>\n",
       "      <td>GOBI MANCHURIAN</td>\n",
       "      <td>14.0</td>\n",
       "      <td>1</td>\n",
       "    </tr>\n",
       "    <tr>\n",
       "      <th>1</th>\n",
       "      <td>YALEV6B6K3</td>\n",
       "      <td>01/01/2019 11:30AM</td>\n",
       "      <td>Lunch</td>\n",
       "      <td>Weekday</td>\n",
       "      <td>Tuesday</td>\n",
       "      <td>1</td>\n",
       "      <td>1</td>\n",
       "      <td>2019</td>\n",
       "      <td>11:30AM</td>\n",
       "      <td>YALE0001</td>\n",
       "      <td>4</td>\n",
       "      <td>Starter</td>\n",
       "      <td>TASTY FLATBREAD</td>\n",
       "      <td>11.0</td>\n",
       "      <td>1</td>\n",
       "    </tr>\n",
       "    <tr>\n",
       "      <th>2</th>\n",
       "      <td>YALEV6B6K3</td>\n",
       "      <td>01/01/2019 11:30AM</td>\n",
       "      <td>Lunch</td>\n",
       "      <td>Weekday</td>\n",
       "      <td>Tuesday</td>\n",
       "      <td>1</td>\n",
       "      <td>1</td>\n",
       "      <td>2019</td>\n",
       "      <td>11:30AM</td>\n",
       "      <td>YALE0001</td>\n",
       "      <td>4</td>\n",
       "      <td>VEGETABLE SPECIALS</td>\n",
       "      <td>SARSON DA SAAG</td>\n",
       "      <td>15.0</td>\n",
       "      <td>1</td>\n",
       "    </tr>\n",
       "    <tr>\n",
       "      <th>3</th>\n",
       "      <td>YALEV6B6K3</td>\n",
       "      <td>01/01/2019 11:30AM</td>\n",
       "      <td>Lunch</td>\n",
       "      <td>Weekday</td>\n",
       "      <td>Tuesday</td>\n",
       "      <td>1</td>\n",
       "      <td>1</td>\n",
       "      <td>2019</td>\n",
       "      <td>11:30AM</td>\n",
       "      <td>YALE0001</td>\n",
       "      <td>4</td>\n",
       "      <td>VEGETABLE SPECIALS</td>\n",
       "      <td>PANEER VINDALOO</td>\n",
       "      <td>16.0</td>\n",
       "      <td>1</td>\n",
       "    </tr>\n",
       "    <tr>\n",
       "      <th>4</th>\n",
       "      <td>YALEV6B6K3</td>\n",
       "      <td>01/01/2019 11:30AM</td>\n",
       "      <td>Lunch</td>\n",
       "      <td>Weekday</td>\n",
       "      <td>Tuesday</td>\n",
       "      <td>1</td>\n",
       "      <td>1</td>\n",
       "      <td>2019</td>\n",
       "      <td>11:30AM</td>\n",
       "      <td>YALE0001</td>\n",
       "      <td>4</td>\n",
       "      <td>BREADS</td>\n",
       "      <td>GARLIC NAAN</td>\n",
       "      <td>3.5</td>\n",
       "      <td>2</td>\n",
       "    </tr>\n",
       "  </tbody>\n",
       "</table>\n",
       "</div>"
      ],
      "text/plain": [
       "    StoreCode                 DTS  Shift Day Type      Day  Month  Date  Year  \\\n",
       "0  YALEV6B6K3  01/01/2019 11:30AM  Lunch  Weekday  Tuesday      1     1  2019   \n",
       "1  YALEV6B6K3  01/01/2019 11:30AM  Lunch  Weekday  Tuesday      1     1  2019   \n",
       "2  YALEV6B6K3  01/01/2019 11:30AM  Lunch  Weekday  Tuesday      1     1  2019   \n",
       "3  YALEV6B6K3  01/01/2019 11:30AM  Lunch  Weekday  Tuesday      1     1  2019   \n",
       "4  YALEV6B6K3  01/01/2019 11:30AM  Lunch  Weekday  Tuesday      1     1  2019   \n",
       "\n",
       "      Time TicketCode PartySize        MenuCateogry         MenuItem  \\\n",
       "0  11:30AM   YALE0001         4             Starter  GOBI MANCHURIAN   \n",
       "1  11:30AM   YALE0001         4             Starter  TASTY FLATBREAD   \n",
       "2  11:30AM   YALE0001         4  VEGETABLE SPECIALS   SARSON DA SAAG   \n",
       "3  11:30AM   YALE0001         4  VEGETABLE SPECIALS  PANEER VINDALOO   \n",
       "4  11:30AM   YALE0001         4              BREADS      GARLIC NAAN   \n",
       "\n",
       "   ItemPrice  ItemQty  \n",
       "0       14.0        1  \n",
       "1       11.0        1  \n",
       "2       15.0        1  \n",
       "3       16.0        1  \n",
       "4        3.5        2  "
      ]
     },
     "execution_count": 335,
     "metadata": {},
     "output_type": "execute_result"
    }
   ],
   "source": [
    "# First few rows of the dataset\n",
    "df.head()"
   ]
  },
  {
   "cell_type": "markdown",
   "metadata": {},
   "source": [
    "DATA VISUALIZATION"
   ]
  },
  {
   "cell_type": "code",
   "execution_count": 336,
   "metadata": {},
   "outputs": [
    {
     "data": {
      "image/png": "[encoded data removed]",
      "text/plain": [
       "<Figure size 900x900 with 30 Axes>"
      ]
     },
     "metadata": {},
     "output_type": "display_data"
    }
   ],
   "source": [
    "#Seaborn's pairplot showing pairwise relation between numerical Data\n",
    "sns.pairplot(df,palette = 'rainbow')\n",
    "plt.tight_layout()"
   ]
  },
  {
   "cell_type": "code",
   "execution_count": 337,
   "metadata": {},
   "outputs": [
    {
     "data": {
      "image/png": "[encoded data removed]",
      "text/plain": [
       "<Figure size 432x288 with 1 Axes>"
      ]
     },
     "metadata": {},
     "output_type": "display_data"
    }
   ],
   "source": [
    "#So during Lunch the food was consumed more at Weekends\n",
    "#And during Dinner more food was consumed at Weekdays \n",
    "sns.barplot(x = 'Shift',y = 'ItemQty',data = df,hue = 'Day Type',palette= 'rainbow')\n",
    "plt.legend(bbox_to_anchor=(1, 1))\n",
    "plt.tight_layout()"
   ]
  },
  {
   "cell_type": "code",
   "execution_count": 338,
   "metadata": {},
   "outputs": [
    {
     "data": {
      "image/png": "[encoded data removed]",
      "text/plain": [
       "<Figure size 864x432 with 1 Axes>"
      ]
     },
     "metadata": {},
     "output_type": "display_data"
    }
   ],
   "source": [
    "#So during Lunch 'BREADS' were consumed the highest\n",
    "#And 'LAMB SPECIALITIES the lowest'\n",
    "\n",
    "# During Dinner also 'BREADS' were consumed the highest\n",
    "#And 'VEGETABLE SPECIALS' the lowest\n",
    "sns.set_style('whitegrid')\n",
    "plt.figure(figsize = (12,6))\n",
    "sns.barplot(x = 'Shift',y = 'ItemQty',data = df,hue = 'MenuCateogry',palette= 'rainbow')\n",
    "plt.legend(bbox_to_anchor = (1,1))\n",
    "plt.tight_layout()"
   ]
  },
  {
   "cell_type": "code",
   "execution_count": 339,
   "metadata": {},
   "outputs": [
    {
     "data": {
      "image/png": "[encoded data removed]",
      "text/plain": [
       "<Figure size 864x432 with 1 Axes>"
      ]
     },
     "metadata": {},
     "output_type": "display_data"
    }
   ],
   "source": [
    "#The highest price was for the Lamb Special Ties and Seafood Special Ties\n",
    "#One intersting fact is that Lamb Special food was not consumed at Dinner\n",
    "#Although price of food at Dinner and Lunch for a particular category was same\n",
    "#But for Starter,Vegetable Special,Rice Special it was different \n",
    "sns.set_style('whitegrid')\n",
    "plt.figure(figsize = (12,6))\n",
    "sns.barplot(x = 'MenuCateogry',y = 'ItemPrice',data = df,hue = 'Shift',palette= 'rainbow')\n",
    "plt.legend(bbox_to_anchor=(1, 1))\n",
    "plt.tight_layout()"
   ]
  },
  {
   "cell_type": "code",
   "execution_count": 340,
   "metadata": {},
   "outputs": [
    {
     "data": {
      "image/png": "[encoded data removed]",
      "text/plain": [
       "<Figure size 864x432 with 1 Axes>"
      ]
     },
     "metadata": {},
     "output_type": "display_data"
    }
   ],
   "source": [
    "#Mostly 5 persons cosnumed food from the restaurants\n",
    "#And it was consumed during Dinner\n",
    "\n",
    "sns.set_style('whitegrid')\n",
    "plt.figure(figsize = (12,6))\n",
    "sns.countplot(x = 'PartySize',data = df,hue = 'Shift')\n",
    "plt.legend(bbox_to_anchor=(1, 1))\n",
    "plt.tight_layout()"
   ]
  },
  {
   "cell_type": "code",
   "execution_count": 341,
   "metadata": {},
   "outputs": [
    {
     "data": {
      "text/plain": [
       "<Figure size 864x432 with 0 Axes>"
      ]
     },
     "execution_count": 341,
     "metadata": {},
     "output_type": "execute_result"
    },
    {
     "data": {
      "image/png": "[encoded data removed]",
      "text/plain": [
       "<Figure size 432x288 with 1 Axes>"
      ]
     },
     "metadata": {},
     "output_type": "display_data"
    },
    {
     "data": {
      "text/plain": [
       "<Figure size 864x432 with 0 Axes>"
      ]
     },
     "metadata": {},
     "output_type": "display_data"
    }
   ],
   "source": [
    "sns.swarmplot(x = 'Day Type',y = 'ItemPrice',hue = 'Shift',data = df,palette = 'Set1',split = True)\n",
    "plt.legend(bbox_to_anchor=(1, 1))\n",
    "plt.tight_layout()\n",
    "sns.set_style('whitegrid')\n",
    "plt.figure(figsize = (12,6))"
   ]
  },
  {
   "cell_type": "code",
   "execution_count": 342,
   "metadata": {},
   "outputs": [
    {
     "data": {
      "image/png": "[encoded data removed]",
      "text/plain": [
       "<Figure size 432x288 with 1 Axes>"
      ]
     },
     "metadata": {},
     "output_type": "display_data"
    },
    {
     "data": {
      "text/plain": [
       "<Figure size 864x360 with 0 Axes>"
      ]
     },
     "metadata": {},
     "output_type": "display_data"
    }
   ],
   "source": [
    "sns.violinplot(x='Shift', y='ItemQty', data=df,palette='rainbow',hue = 'MenuCateogry',size=10,aspect=4)\n",
    "sns.swarmplot(x='Shift', y='ItemQty', data=df,color='black',size=3)\n",
    "plt.legend(bbox_to_anchor=(1, 1))\n",
    "plt.tight_layout()\n",
    "plt.figure(figsize = (12,5))\n",
    "sns.set_style('white')"
   ]
  },
  {
   "cell_type": "code",
   "execution_count": 343,
   "metadata": {},
   "outputs": [
    {
     "data": {
      "text/plain": [
       "<Figure size 864x432 with 0 Axes>"
      ]
     },
     "execution_count": 343,
     "metadata": {},
     "output_type": "execute_result"
    },
    {
     "data": {
      "image/png": "[encoded data removed]",
      "text/plain": [
       "<Figure size 432x288 with 1 Axes>"
      ]
     },
     "metadata": {},
     "output_type": "display_data"
    },
    {
     "data": {
      "text/plain": [
       "<Figure size 864x432 with 0 Axes>"
      ]
     },
     "metadata": {},
     "output_type": "display_data"
    }
   ],
   "source": [
    "sns.distplot(df['ItemPrice'],bins = 30)\n",
    "plt.figure(figsize = (12,6))"
   ]
  },
  {
   "cell_type": "code",
   "execution_count": 344,
   "metadata": {},
   "outputs": [
    {
     "data": {
      "text/plain": [
       "<Figure size 864x432 with 0 Axes>"
      ]
     },
     "execution_count": 344,
     "metadata": {},
     "output_type": "execute_result"
    },
    {
     "data": {
      "image/png": "[encoded data removed]",
      "text/plain": [
       "<Figure size 432x432 with 3 Axes>"
      ]
     },
     "metadata": {},
     "output_type": "display_data"
    },
    {
     "data": {
      "text/plain": [
       "<Figure size 864x432 with 0 Axes>"
      ]
     },
     "metadata": {},
     "output_type": "display_data"
    }
   ],
   "source": [
    "sns.jointplot(x = 'ItemQty',y = 'ItemPrice',data = df,kind = 'reg')\n",
    "plt.tight_layout()\n",
    "plt.figure(figsize = (12,6))"
   ]
  },
  {
   "cell_type": "code",
   "execution_count": 345,
   "metadata": {},
   "outputs": [
    {
     "data": {
      "application/vnd.plotly.v1+json": {
       "config": {
        "linkText": "Export to plot.ly",
        "plotlyServerURL": "https://plot.ly",
        "showLink": true
       },
       "data": [
        {
         "boxpoints": false,
         "line": {
          "width": 1.3
         },
         "marker": {
          "color": "rgba(255, 153, 51, 1.0)"
         },
         "name": "Shift",
         "orientation": "v",
         "type": "box",
         "y": [
          "Lunch",
          "Lunch",
          "Lunch",
          "Lunch",
          "Lunch",
          "Lunch",
          "Lunch",
          "Lunch",
          "Lunch",
          "Lunch",
          "Lunch",
          "Lunch",
          "Lunch",
          "Lunch",
          "Lunch",
          "Lunch",
          "Lunch",
          "Lunch",
          "Lunch",
          "Lunch",
          "Lunch",
          "Lunch",
          "Lunch",
          "Lunch",
          "Lunch",
          "Lunch",
          "Lunch",
          "Lunch",
          "Lunch",
          "Lunch",
          "Lunch",
          "Lunch",
          "Lunch",
          "Lunch",
          "Lunch",
          "Lunch",
          "Lunch",
          "Lunch",
          "Lunch",
          "Lunch",
          "Lunch",
          "Lunch",
          "Lunch",
          "Lunch",
          "Lunch",
          "Lunch",
          "Lunch",
          "Lunch",
          "Lunch",
          "Lunch",
          "Lunch",
          "Lunch",
          "Lunch",
          "Lunch",
          "Lunch",
          "Lunch",
          "Lunch",
          "Lunch",
          "Lunch",
          "Lunch",
          "Dinner",
          "Dinner",
          "Dinner",
          "Dinner",
          "Dinner",
          "Dinner",
          "Dinner",
          "Dinner",
          "Dinner",
          "Dinner",
          "Dinner",
          "Dinner",
          "Dinner",
          "Dinner",
          "Dinner",
          "Dinner",
          "Dinner",
          "Dinner",
          "Dinner",
          "Dinner",
          "Dinner",
          "Dinner",
          "Dinner",
          "Dinner",
          "Dinner",
          "Dinner",
          "Dinner",
          "Dinner",
          "Dinner",
          "Dinner",
          "Dinner",
          "Dinner",
          "Dinner",
          "Dinner",
          "Dinner",
          "Dinner",
          "Dinner",
          "Dinner",
          "Dinner",
          "Dinner",
          "Lunch",
          "Lunch",
          "Lunch",
          "Lunch",
          "Lunch",
          "Lunch",
          "Lunch",
          "Lunch",
          "Lunch",
          "Lunch",
          "Lunch",
          "Lunch",
          "Lunch",
          "Lunch",
          "Lunch",
          "Lunch",
          "Lunch",
          "Lunch",
          "Lunch",
          "Lunch",
          "Lunch",
          "Lunch",
          "Lunch",
          "Lunch",
          "Lunch",
          "Lunch",
          "Lunch",
          "Lunch",
          "Lunch",
          "Lunch",
          "Lunch",
          "Lunch",
          "Lunch",
          "Lunch",
          "Lunch",
          "Lunch",
          "Lunch",
          "Lunch",
          "Lunch",
          "Lunch",
          "Lunch",
          "Lunch",
          "Lunch",
          "Lunch",
          "Lunch",
          "Lunch",
          "Lunch",
          "Lunch",
          "Lunch",
          "Lunch",
          "Lunch",
          "Lunch",
          "Lunch",
          "Lunch",
          "Lunch",
          "Lunch",
          "Lunch",
          "Lunch",
          "Lunch",
          "Lunch",
          "Dinner",
          "Dinner",
          "Dinner",
          "Dinner",
          "Dinner",
          "Dinner",
          "Dinner",
          "Dinner",
          "Dinner",
          "Dinner",
          "Dinner",
          "Dinner",
          "Dinner",
          "Dinner",
          "Dinner",
          "Dinner",
          "Dinner",
          "Dinner",
          "Dinner",
          "Dinner",
          "Dinner",
          "Dinner",
          "Dinner",
          "Dinner",
          "Dinner",
          "Dinner",
          "Dinner",
          "Dinner",
          "Dinner",
          "Dinner",
          "Dinner",
          "Dinner",
          "Dinner",
          "Dinner",
          "Dinner",
          "Dinner",
          "Dinner",
          "Dinner",
          "Dinner",
          "Dinner"
         ]
        },
        {
         "boxpoints": false,
         "line": {
          "width": 1.3
         },
         "marker": {
          "color": "rgba(55, 128, 191, 1.0)"
         },
         "name": "DTS",
         "orientation": "v",
         "type": "box",
         "y": [
          "01/01/2019 11:30AM",
          "01/01/2019 11:30AM",
          "01/01/2019 11:30AM",
          "01/01/2019 11:30AM",
          "01/01/2019 11:30AM",
          "01/01/2019 11:30AM",
          "01/01/2019 11:40AM",
          "01/01/2019 11:40AM",
          "01/01/2019 11:40AM",
          "01/01/2019 11:40AM",
          "01/01/2019 11:40AM",
          "01/01/2019 11:50AM",
          "01/01/2019 11:50AM",
          "01/01/2019 11:50AM",
          "01/01/2019 11:50AM",
          "01/01/2019 11:50AM",
          "01/01/2019 11:50AM",
          "01/01/2019 11:50AM",
          "01/01/2019 11:50AM",
          "01/01/2019 12:05PM",
          "01/01/2019 12:05PM",
          "01/01/2019 12:05PM",
          "01/01/2019 12:05PM",
          "01/01/2019 12:05PM",
          "01/01/2019 12:05PM",
          "01/01/2019 12:05PM",
          "01/01/2019 12:05PM",
          "01/01/2019 12:05PM",
          "01/01/2019 12:05PM",
          "01/01/2019 12:10PM",
          "01/01/2019 12:10PM",
          "01/01/2019 12:10PM",
          "01/01/2019 12:10PM",
          "01/01/2019 12:10PM",
          "01/01/2019 12:10PM",
          "01/01/2019 12:10PM",
          "01/01/2019 12:10PM",
          "01/01/2019 12:10PM",
          "01/01/2019 12:10PM",
          "01/01/2019 12:20PM",
          "01/01/2019 12:20PM",
          "01/01/2019 12:20PM",
          "01/01/2019 12:20PM",
          "01/01/2019 12:20PM",
          "01/01/2019 12:20PM",
          "01/01/2019 12:20PM",
          "01/01/2019 12:30PM",
          "01/01/2019 12:30PM",
          "01/01/2019 12:30PM",
          "01/01/2019 12:30PM",
          "01/01/2019 12:30PM",
          "01/01/2019 12:30PM",
          "01/01/2019 12:30PM",
          "01/01/2019 12:30PM",
          "01/01/2019 12:30PM",
          "01/01/2019 12:30PM",
          "01/01/2019 12:30PM",
          "01/01/2019 12:30PM",
          "01/01/2019 12:30PM",
          "01/01/2019 12:30PM",
          "01/01/2019 6:30PM",
          "01/01/2019 6:30PM",
          "01/01/2019 6:30PM",
          "01/01/2019 6:30PM",
          "01/01/2019 6:30PM",
          "01/01/2019 6:30PM",
          "01/01/2019 6:30PM",
          "01/01/2019 6:30PM",
          "01/01/2019 6:30PM",
          "01/01/2019 7:00PM",
          "01/01/2019 7:00PM",
          "01/01/2019 7:00PM",
          "01/01/2019 7:00PM",
          "01/01/2019 7:00PM",
          "01/01/2019 7:00PM",
          "01/01/2019 7:00PM",
          "01/01/2019 7:00PM",
          "01/01/2019 7:00PM",
          "01/01/2019 7:00PM",
          "01/01/2019 7:00PM",
          "01/01/2019 7:00PM",
          "01/01/2019 7:00PM",
          "01/01/2019 7:00PM",
          "01/01/2019 7:00PM",
          "01/01/2019 7:00PM",
          "01/01/2019 7:00PM",
          "01/01/2019 7:00PM",
          "01/01/2019 7:00PM",
          "01/01/2019 8:30PM",
          "01/01/2019 8:30PM",
          "01/01/2019 8:30PM",
          "01/01/2019 8:30PM",
          "01/01/2019 8:30PM",
          "01/01/2019 8:30PM",
          "01/01/2019 8:30PM",
          "01/01/2019 8:30PM",
          "01/01/2019 8:30PM",
          "01/01/2019 8:30PM",
          "01/01/2019 8:30PM",
          "01/01/2019 8:30PM",
          "01/02/2019 11:30AM",
          "01/02/2019 11:30AM",
          "01/02/2019 11:30AM",
          "01/02/2019 11:30AM",
          "01/02/2019 11:30AM",
          "01/02/2019 11:30AM",
          "01/02/2019 11:40AM",
          "01/02/2019 11:40AM",
          "01/02/2019 11:40AM",
          "01/02/2019 11:40AM",
          "01/02/2019 11:40AM",
          "01/02/2019 11:50AM",
          "01/02/2019 11:50AM",
          "01/02/2019 11:50AM",
          "01/02/2019 11:50AM",
          "01/02/2019 11:30AM",
          "01/02/2019 11:30AM",
          "01/02/2019 11:30AM",
          "01/02/2019 11:30AM",
          "01/02/2019 12:05PM",
          "01/02/2019 12:05PM",
          "01/02/2019 12:05PM",
          "01/02/2019 12:05PM",
          "01/02/2019 12:05PM",
          "01/02/2019 12:05PM",
          "01/02/2019 12:05PM",
          "01/02/2019 12:05PM",
          "01/02/2019 12:05PM",
          "01/02/2019 12:05PM",
          "01/02/2019 12:10PM",
          "01/02/2019 12:10PM",
          "01/02/2019 12:10PM",
          "01/02/2019 12:10PM",
          "01/02/2019 12:10PM",
          "01/02/2019 12:20PM",
          "01/02/2019 12:20PM",
          "01/02/2019 12:20PM",
          "01/02/2019 12:20PM",
          "01/02/2019 12:20PM",
          "01/02/2019 12:20PM",
          "01/02/2019 12:20PM",
          "01/02/2019 12:20PM",
          "01/02/2019 12:20PM",
          "01/02/2019 12:20PM",
          "01/02/2019 12:20PM",
          "01/02/2019 12:20PM",
          "01/02/2019 12:30PM",
          "01/02/2019 12:30PM",
          "01/02/2019 12:30PM",
          "01/02/2019 12:30PM",
          "01/02/2019 12:30PM",
          "01/02/2019 12:30PM",
          "01/02/2019 12:30PM",
          "01/02/2019 12:30PM",
          "01/02/2019 12:30PM",
          "01/02/2019 12:30PM",
          "01/02/2019 1:00PM",
          "01/02/2019 1:00PM",
          "01/02/2019 1:00PM",
          "01/02/2019 1:00PM",
          "01/02/2019 6:30PM",
          "01/02/2019 6:30PM",
          "01/02/2019 6:30PM",
          "01/02/2019 6:30PM",
          "01/02/2019 6:30PM",
          "01/02/2019 6:30PM",
          "01/02/2019 6:30PM",
          "01/02/2019 6:30PM",
          "01/02/2019 6:30PM",
          "01/02/2019 7:00PM",
          "01/02/2019 7:00PM",
          "01/02/2019 7:00PM",
          "01/02/2019 7:00PM",
          "01/02/2019 7:00PM",
          "01/02/2019 7:00PM",
          "01/02/2019 7:00PM",
          "01/02/2019 7:00PM",
          "01/02/2019 7:00PM",
          "01/02/2019 7:00PM",
          "01/02/2019 7:00PM",
          "01/02/2019 7:00PM",
          "01/02/2019 7:00PM",
          "01/02/2019 7:00PM",
          "01/02/2019 7:00PM",
          "01/02/2019 7:00PM",
          "01/02/2019 7:00PM",
          "01/02/2019 7:00PM",
          "01/02/2019 7:00PM",
          "01/02/2019 8:30PM",
          "01/02/2019 8:30PM",
          "01/02/2019 8:30PM",
          "01/02/2019 8:30PM",
          "01/02/2019 8:30PM",
          "01/02/2019 8:30PM",
          "01/02/2019 8:15PM",
          "01/02/2019 8:15PM",
          "01/02/2019 8:15PM",
          "01/02/2019 8:15PM",
          "01/02/2019 8:15PM",
          "01/02/2019 8:15PM"
         ]
        },
        {
         "boxpoints": false,
         "line": {
          "width": 1.3
         },
         "marker": {
          "color": "rgba(50, 171, 96, 1.0)"
         },
         "name": "Day",
         "orientation": "v",
         "type": "box",
         "y": [
          "Tuesday",
          "Tuesday",
          "Tuesday",
          "Tuesday",
          "Tuesday",
          "Tuesday",
          "Tuesday",
          "Tuesday",
          "Tuesday",
          "Tuesday",
          "Tuesday",
          "Tuesday",
          "Tuesday",
          "Tuesday",
          "Tuesday",
          "Tuesday",
          "Tuesday",
          "Tuesday",
          "Tuesday",
          "Tuesday",
          "Tuesday",
          "Tuesday",
          "Tuesday",
          "Tuesday",
          "Tuesday",
          "Tuesday",
          "Tuesday",
          "Tuesday",
          "Tuesday",
          "Tuesday",
          "Tuesday",
          "Tuesday",
          "Tuesday",
          "Tuesday",
          "Tuesday",
          "Tuesday",
          "Tuesday",
          "Tuesday",
          "Tuesday",
          "Tuesday",
          "Tuesday",
          "Tuesday",
          "Tuesday",
          "Tuesday",
          "Tuesday",
          "Tuesday",
          "Tuesday",
          "Tuesday",
          "Tuesday",
          "Tuesday",
          "Tuesday",
          "Tuesday",
          "Tuesday",
          "Tuesday",
          "Tuesday",
          "Tuesday",
          "Tuesday",
          "Tuesday",
          "Tuesday",
          "Tuesday",
          "Tuesday",
          "Tuesday",
          "Tuesday",
          "Tuesday",
          "Tuesday",
          "Tuesday",
          "Tuesday",
          "Tuesday",
          "Tuesday",
          "Tuesday",
          "Tuesday",
          "Tuesday",
          "Tuesday",
          "Tuesday",
          "Tuesday",
          "Tuesday",
          "Tuesday",
          "Tuesday",
          "Tuesday",
          "Tuesday",
          "Tuesday",
          "Tuesday",
          "Tuesday",
          "Tuesday",
          "Tuesday",
          "Tuesday",
          "Tuesday",
          "Tuesday",
          "Tuesday",
          "Tuesday",
          "Tuesday",
          "Tuesday",
          "Tuesday",
          "Tuesday",
          "Tuesday",
          "Tuesday",
          "Tuesday",
          "Tuesday",
          "Tuesday",
          "Tuesday",
          "Wednesday",
          "Wednesday",
          "Wednesday",
          "Wednesday",
          "Wednesday",
          "Wednesday",
          "Wednesday",
          "Wednesday",
          "Wednesday",
          "Wednesday",
          "Wednesday",
          "Wednesday",
          "Wednesday",
          "Wednesday",
          "Wednesday",
          "Wednesday",
          "Wednesday",
          "Wednesday",
          "Wednesday",
          "Wednesday",
          "Wednesday",
          "Wednesday",
          "Wednesday",
          "Wednesday",
          "Wednesday",
          "Wednesday",
          "Wednesday",
          "Wednesday",
          "Wednesday",
          "Wednesday",
          "Wednesday",
          "Wednesday",
          "Wednesday",
          "Wednesday",
          "Wednesday",
          "Wednesday",
          "Wednesday",
          "Wednesday",
          "Wednesday",
          "Wednesday",
          "Wednesday",
          "Wednesday",
          "Wednesday",
          "Wednesday",
          "Wednesday",
          "Wednesday",
          "Wednesday",
          "Wednesday",
          "Wednesday",
          "Wednesday",
          "Wednesday",
          "Wednesday",
          "Wednesday",
          "Wednesday",
          "Wednesday",
          "Wednesday",
          "Wednesday",
          "Wednesday",
          "Wednesday",
          "Wednesday",
          "Wednesday",
          "Wednesday",
          "Wednesday",
          "Wednesday",
          "Wednesday",
          "Wednesday",
          "Wednesday",
          "Wednesday",
          "Wednesday",
          "Wednesday",
          "Wednesday",
          "Wednesday",
          "Wednesday",
          "Wednesday",
          "Wednesday",
          "Wednesday",
          "Wednesday",
          "Wednesday",
          "Wednesday",
          "Wednesday",
          "Wednesday",
          "Wednesday",
          "Wednesday",
          "Wednesday",
          "Wednesday",
          "Wednesday",
          "Wednesday",
          "Wednesday",
          "Wednesday",
          "Wednesday",
          "Wednesday",
          "Wednesday",
          "Wednesday",
          "Wednesday",
          "Wednesday",
          "Wednesday",
          "Wednesday",
          "Wednesday",
          "Wednesday",
          "Wednesday"
         ]
        },
        {
         "boxpoints": false,
         "line": {
          "width": 1.3
         },
         "marker": {
          "color": "rgba(128, 0, 128, 1.0)"
         },
         "name": "PartySize",
         "orientation": "v",
         "type": "box",
         "y": [
          "4",
          "4",
          "4",
          "4",
          "4",
          "4",
          "3",
          "3",
          "3",
          "3",
          "3",
          "2",
          "2",
          "2",
          "2",
          "na",
          "na",
          "na",
          "na",
          "5",
          "5",
          "5",
          "5",
          "5",
          "5",
          "5",
          "5",
          "5",
          "5",
          "2",
          "2",
          "2",
          "2",
          "2",
          "na",
          "na",
          "na",
          "na",
          "na",
          "3",
          "3",
          "3",
          "3",
          "3",
          "3",
          "3",
          "4",
          "4",
          "4",
          "4",
          "4",
          "4",
          "4",
          "4",
          "4",
          "4",
          "na",
          "na",
          "na",
          "na",
          "3",
          "3",
          "3",
          "3",
          "3",
          "3",
          "3",
          "3",
          "3",
          "5",
          "5",
          "5",
          "5",
          "5",
          "5",
          "5",
          "5",
          "5",
          "5",
          "5",
          "5",
          "5",
          "5",
          "5",
          "5",
          "5",
          "5",
          "5",
          "2",
          "2",
          "2",
          "2",
          "2",
          "2",
          "na",
          "na",
          "na",
          "na",
          "na",
          "na",
          "3",
          "3",
          "3",
          "3",
          "3",
          "3",
          "4",
          "4",
          "4",
          "4",
          "4",
          "3",
          "3",
          "3",
          "3",
          "na",
          "na",
          "na",
          "na",
          "5",
          "5",
          "5",
          "5",
          "5",
          "5",
          "5",
          "5",
          "5",
          "5",
          "3",
          "3",
          "3",
          "3",
          "3",
          "na",
          "na",
          "na",
          "na",
          "na",
          "3",
          "3",
          "3",
          "3",
          "3",
          "3",
          "3",
          "5",
          "5",
          "5",
          "5",
          "5",
          "5",
          "5",
          "5",
          "5",
          "5",
          "na",
          "na",
          "na",
          "na",
          "4",
          "4",
          "4",
          "4",
          "4",
          "4",
          "4",
          "4",
          "4",
          "5",
          "5",
          "5",
          "5",
          "5",
          "5",
          "5",
          "5",
          "5",
          "5",
          "5",
          "5",
          "5",
          "5",
          "5",
          "5",
          "5",
          "5",
          "5",
          "2",
          "2",
          "2",
          "2",
          "2",
          "2",
          "na",
          "na",
          "na",
          "na",
          "na",
          "na"
         ]
        },
        {
         "boxpoints": false,
         "line": {
          "width": 1.3
         },
         "marker": {
          "color": "rgba(219, 64, 82, 1.0)"
         },
         "name": "MenuItem",
         "orientation": "v",
         "type": "box",
         "y": [
          "GOBI MANCHURIAN",
          "TASTY FLATBREAD",
          "SARSON DA SAAG",
          "PANEER VINDALOO",
          "GARLIC NAAN",
          "NAAN",
          "MASALA CHICKEN WINGS",
          "COCKTAIL CHICKEN SAMOSAS",
          "CHICKEN KORMA",
          "CHICKEN BIRYANI",
          "ONION KULCHA",
          "CHICKEN TIKKA MASALA",
          "GARLIC NAAN",
          "GULABJAMUN",
          "MALPURA",
          "COCKTAIL CHICKEN SAMOSAS",
          "CHICKEN KORMA",
          "CHICKEN BIRYANI",
          "ONION KULCHA",
          "VEGETABLE SAMOSA",
          "CHAAT PAPRI",
          "BAINGAN BARTHA",
          "MALAI KOFTA",
          "CHICKEN SAAG",
          "RICE",
          "GARLIC NAAN",
          "TANDOORI ROTI",
          "GULABJAMUN",
          "CARROT HALWA",
          "KADAHI PANEER",
          "KADAHI LAMB",
          "ALOO PARATHA",
          "GARLIC NAAN",
          "RASMALAI",
          "MALAI KOFTA",
          "CHICKEN SAAG",
          "RICE",
          "GARLIC NAAN",
          "TANDOORI ROTI",
          "VEGETABLE PAKORA",
          "HARA BHARA KABOB",
          "SHAHI PANEER",
          "YELLOW DAL FRY",
          "RICE",
          "ONION KULCHA",
          "GARLIC NAAN",
          "BHINDI DO PIAZZA",
          "KADAHI PANEER",
          "COCONUT CHICKEN CURRY",
          "BUTTER CHICKEN",
          "LACHA PARATHA",
          "NAAN",
          "TANDOORI ROTI",
          "RASMALAI",
          "GULABJAMUN",
          "CARROT HALWA",
          "KADAHI PANEER",
          "COCONUT CHICKEN CURRY",
          "BUTTER CHICKEN",
          "LACHA PARATHA",
          "FISH PAKORA",
          "SHRIMP STRIPS",
          "FISH KORMA",
          "FISH CURRY",
          "RICE",
          "GARLIC NAAN",
          "NAAN",
          "MALPURA",
          "KHEER",
          "GOBI MANCHURIAN",
          "TASTY FLATBREAD",
          "TASTY SLIDERS : CHICKEN PANEER",
          "SPICY CHICKEN BITES",
          "SARSON DA SAAG",
          "PANEER VINDALOO",
          "BAINGAN BARTHA",
          "CHICKEN TIKKA MASALA",
          "BUTTER CHICKEN",
          "TIKKA RICE BOWL : PANEER | CHICKEN",
          "ONION KULCHA",
          "SPINACH NAAN",
          "GARLIC NAAN",
          "TANDOORI ROTI",
          "RASMALAI",
          "KHEER",
          "GULABJAMUN",
          "MALPURA",
          "CARROT HALWA",
          "VEGETABLE PAKORA",
          "BUTTER CHICKEN",
          "FISH CURRY",
          "RICE",
          "GARLIC NAAN",
          "NAAN",
          "VEGETABLE PAKORA",
          "BUTTER CHICKEN",
          "FISH CURRY",
          "RICE",
          "GARLIC NAAN",
          "NAAN",
          "ONION KULCHA",
          "RICE",
          "TASTY FLATBREAD",
          "CHICKEN TIKKA MASALA",
          "SHAHI PANEER",
          "MALPURA",
          "RICE",
          "BHINDI DO PIAZZA",
          "RASMALAI",
          "CARROT HALWA",
          "VEGETABLE PAKORA",
          "SHRIMP STRIPS",
          "RASMALAI",
          "BAINGAN BARTHA",
          "NAAN",
          "MALAI KOFTA",
          "BUTTER CHICKEN",
          "CHICKEN SAAG",
          "CHICKEN BIRYANI",
          "NAAN",
          "HARA BHARA KABOB",
          "LACHA PARATHA",
          "TANDOORI ROTI",
          "CARROT HALWA",
          "MALAI KOFTA",
          "GULABJAMUN",
          "BUTTER CHICKEN",
          "CARROT HALWA",
          "FISH CURRY",
          "TASTY FLATBREAD",
          "KADAHI PANEER",
          "CHAAT PAPRI",
          "GARLIC NAAN",
          "CHICKEN BIRYANI",
          "CHICKEN KORMA",
          "RICE",
          "VEGETABLE PAKORA",
          "COCKTAIL CHICKEN SAMOSAS",
          "BUTTER CHICKEN",
          "BAINGAN BARTHA",
          "GARLIC NAAN",
          "TIKKA RICE BOWL : PANEER | CHICKEN",
          "CHICKEN SAAG",
          "MALPURA",
          "COCONUT CHICKEN CURRY",
          "VEGETABLE PAKORA",
          "BUTTER CHICKEN",
          "KADAHI LAMB",
          "ALOO PARATHA",
          "KHEER",
          "YELLOW DAL FRY",
          "TANDOORI ROTI",
          "KHEER",
          "GARLIC NAAN",
          "TANDOORI ROTI",
          "FISH CURRY",
          "FISH CURRY",
          "LACHA PARATHA",
          "COCONUT CHICKEN CURRY",
          "GARLIC NAAN",
          "VEGETABLE SAMOSA",
          "ONION KULCHA",
          "SPICY CHICKEN BITES",
          "TASTY SLIDERS : CHICKEN PANEER",
          "RICE",
          "PANEER VINDALOO",
          "GOBI MANCHURIAN",
          "GARLIC NAAN",
          "NAAN",
          "ONION KULCHA",
          "MALPURA",
          "GARLIC NAAN",
          "GARLIC NAAN",
          "NAAN",
          "CHICKEN KORMA",
          "BUTTER CHICKEN",
          "GARLIC NAAN",
          "MASALA CHICKEN WINGS",
          "GOBI MANCHURIAN",
          "GULABJAMUN",
          "FISH PAKORA",
          "RICE",
          "GULABJAMUN",
          "FISH KORMA",
          "SARSON DA SAAG",
          "GARLIC NAAN",
          "SPINACH NAAN",
          "PANEER VINDALOO",
          "COCKTAIL CHICKEN SAMOSAS",
          "CHICKEN TIKKA MASALA",
          "RASMALAI",
          "SARSON DA SAAG",
          "GULABJAMUN",
          "KADAHI PANEER",
          "ONION KULCHA",
          "RICE",
          "TANDOORI ROTI",
          "NAAN",
          "KADAHI PANEER",
          "GARLIC NAAN"
         ]
        },
        {
         "boxpoints": false,
         "line": {
          "width": 1.3
         },
         "marker": {
          "color": "rgba(0, 128, 128, 1.0)"
         },
         "name": "ItemQty",
         "orientation": "v",
         "type": "box",
         "y": [
          1,
          1,
          1,
          1,
          2,
          2,
          1,
          1,
          1,
          1,
          2,
          1,
          2,
          1,
          1,
          2,
          1,
          2,
          2,
          1,
          2,
          1,
          2,
          1,
          1,
          2,
          2,
          1,
          1,
          1,
          1,
          1,
          1,
          1,
          2,
          2,
          2,
          2,
          1,
          1,
          1,
          1,
          1,
          1,
          1,
          1,
          1,
          1,
          1,
          1,
          2,
          2,
          1,
          2,
          1,
          1,
          2,
          1,
          2,
          3,
          2,
          2,
          1,
          2,
          1,
          2,
          1,
          1,
          2,
          2,
          2,
          1,
          1,
          1,
          1,
          1,
          1,
          1,
          2,
          1,
          1,
          3,
          2,
          1,
          1,
          2,
          1,
          1,
          1,
          1,
          1,
          1,
          2,
          1,
          2,
          3,
          2,
          1,
          2,
          4,
          1,
          1,
          2,
          1,
          1,
          1,
          1,
          1,
          2,
          1,
          1,
          2,
          1,
          1,
          2,
          2,
          3,
          2,
          2,
          1,
          1,
          2,
          1,
          1,
          2,
          1,
          1,
          1,
          2,
          1,
          1,
          2,
          2,
          1,
          1,
          2,
          2,
          2,
          2,
          1,
          1,
          2,
          1,
          1,
          1,
          1,
          1,
          1,
          1,
          2,
          1,
          2,
          1,
          3,
          2,
          1,
          2,
          3,
          1,
          2,
          1,
          2,
          1,
          1,
          1,
          1,
          1,
          2,
          2,
          1,
          1,
          2,
          2,
          1,
          1,
          1,
          1,
          1,
          2,
          2,
          2,
          1,
          1,
          1,
          1,
          2,
          1,
          1,
          1,
          1,
          1,
          1,
          1,
          1,
          2,
          1,
          1,
          4,
          2,
          2
         ]
        },
        {
         "boxpoints": false,
         "line": {
          "width": 1.3
         },
         "marker": {
          "color": "rgba(255, 255, 51, 1.0)"
         },
         "name": "ItemPrice",
         "orientation": "v",
         "type": "box",
         "y": [
          14,
          11,
          15,
          16,
          3.5,
          2.75,
          14,
          14,
          18,
          19,
          5,
          18,
          3.5,
          6,
          8,
          14,
          18,
          19,
          5,
          11,
          11,
          16,
          16,
          18,
          5,
          3.5,
          2.75,
          6,
          7,
          16,
          19,
          5,
          3.5,
          6,
          16,
          18,
          5,
          3.5,
          2.75,
          11,
          16,
          16,
          15,
          5,
          5,
          3.5,
          16,
          16,
          18,
          18,
          5,
          2.75,
          2.75,
          6,
          6,
          7,
          16,
          18,
          18,
          5,
          14,
          15,
          19,
          19,
          5,
          3.5,
          2.75,
          8,
          7,
          14,
          11,
          15,
          14,
          15,
          16,
          16,
          18,
          18,
          18,
          5,
          6,
          3.5,
          2.75,
          6,
          7,
          6,
          8,
          7,
          11,
          18,
          19,
          5,
          3.5,
          2.75,
          11,
          18,
          19,
          5,
          3.5,
          2.75,
          5,
          5,
          11,
          18,
          16,
          8,
          5,
          16,
          6,
          7,
          11,
          15,
          6,
          16,
          2.75,
          16,
          18,
          18,
          19,
          2.75,
          16,
          5,
          2.75,
          7,
          16,
          6,
          18,
          7,
          19,
          11,
          16,
          11,
          3.5,
          19,
          18,
          5,
          11,
          14,
          18,
          16,
          3.5,
          18,
          18,
          8,
          18,
          11,
          18,
          19,
          5,
          7,
          15,
          2.75,
          7,
          3.5,
          2.75,
          19,
          19,
          5,
          18,
          3.5,
          11,
          5,
          14,
          15,
          5,
          16,
          14,
          3.5,
          2.75,
          5,
          8,
          3.5,
          3.5,
          2.75,
          18,
          18,
          3.5,
          14,
          14,
          6,
          14,
          5,
          6,
          19,
          15,
          3.5,
          6,
          16,
          14,
          18,
          6,
          15,
          6,
          16,
          5,
          5,
          2.75,
          2.75,
          16,
          3.5
         ]
        }
       ],
       "layout": {
        "legend": {
         "bgcolor": "#F5F6F9",
         "font": {
          "color": "#4D5663"
         }
        },
        "paper_bgcolor": "#F5F6F9",
        "plot_bgcolor": "#F5F6F9",
        "template": {
         "data": {
          "bar": [
           {
            "error_x": {
             "color": "#2a3f5f"
            },
            "error_y": {
             "color": "#2a3f5f"
            },
            "marker": {
             "line": {
              "color": "#E5ECF6",
              "width": 0.5
             }
            },
            "type": "bar"
           }
          ],
          "barpolar": [
           {
            "marker": {
             "line": {
              "color": "#E5ECF6",
              "width": 0.5
             }
            },
            "type": "barpolar"
           }
          ],
          "carpet": [
           {
            "aaxis": {
             "endlinecolor": "#2a3f5f",
             "gridcolor": "white",
             "linecolor": "white",
             "minorgridcolor": "white",
             "startlinecolor": "#2a3f5f"
            },
            "baxis": {
             "endlinecolor": "#2a3f5f",
             "gridcolor": "white",
             "linecolor": "white",
             "minorgridcolor": "white",
             "startlinecolor": "#2a3f5f"
            },
            "type": "carpet"
           }
          ],
          "choropleth": [
           {
            "colorbar": {
             "outlinewidth": 0,
             "ticks": ""
            },
            "type": "choropleth"
           }
          ],
          "contour": [
           {
            "colorbar": {
             "outlinewidth": 0,
             "ticks": ""
            },
            "colorscale": [
             [
              0,
              "#0d0887"
             ],
             [
              0.1111111111111111,
              "#46039f"
             ],
             [
              0.2222222222222222,
              "#7201a8"
             ],
             [
              0.3333333333333333,
              "#9c179e"
             ],
             [
              0.4444444444444444,
              "#bd3786"
             ],
             [
              0.5555555555555556,
              "#d8576b"
             ],
             [
              0.6666666666666666,
              "#ed7953"
             ],
             [
              0.7777777777777778,
              "#fb9f3a"
             ],
             [
              0.8888888888888888,
              "#fdca26"
             ],
             [
              1,
              "#f0f921"
             ]
            ],
            "type": "contour"
           }
          ],
          "contourcarpet": [
           {
            "colorbar": {
             "outlinewidth": 0,
             "ticks": ""
            },
            "type": "contourcarpet"
           }
          ],
          "heatmap": [
           {
            "colorbar": {
             "outlinewidth": 0,
             "ticks": ""
            },
            "colorscale": [
             [
              0,
              "#0d0887"
             ],
             [
              0.1111111111111111,
              "#46039f"
             ],
             [
              0.2222222222222222,
              "#7201a8"
             ],
             [
              0.3333333333333333,
              "#9c179e"
             ],
             [
              0.4444444444444444,
              "#bd3786"
             ],
             [
              0.5555555555555556,
              "#d8576b"
             ],
             [
              0.6666666666666666,
              "#ed7953"
             ],
             [
              0.7777777777777778,
              "#fb9f3a"
             ],
             [
              0.8888888888888888,
              "#fdca26"
             ],
             [
              1,
              "#f0f921"
             ]
            ],
            "type": "heatmap"
           }
          ],
          "heatmapgl": [
           {
            "colorbar": {
             "outlinewidth": 0,
             "ticks": ""
            },
            "colorscale": [
             [
              0,
              "#0d0887"
             ],
             [
              0.1111111111111111,
              "#46039f"
             ],
             [
              0.2222222222222222,
              "#7201a8"
             ],
             [
              0.3333333333333333,
              "#9c179e"
             ],
             [
              0.4444444444444444,
              "#bd3786"
             ],
             [
              0.5555555555555556,
              "#d8576b"
             ],
             [
              0.6666666666666666,
              "#ed7953"
             ],
             [
              0.7777777777777778,
              "#fb9f3a"
             ],
             [
              0.8888888888888888,
              "#fdca26"
             ],
             [
              1,
              "#f0f921"
             ]
            ],
            "type": "heatmapgl"
           }
          ],
          "histogram": [
           {
            "marker": {
             "colorbar": {
              "outlinewidth": 0,
              "ticks": ""
             }
            },
            "type": "histogram"
           }
          ],
          "histogram2d": [
           {
            "colorbar": {
             "outlinewidth": 0,
             "ticks": ""
            },
            "colorscale": [
             [
              0,
              "#0d0887"
             ],
             [
              0.1111111111111111,
              "#46039f"
             ],
             [
              0.2222222222222222,
              "#7201a8"
             ],
             [
              0.3333333333333333,
              "#9c179e"
             ],
             [
              0.4444444444444444,
              "#bd3786"
             ],
             [
              0.5555555555555556,
              "#d8576b"
             ],
             [
              0.6666666666666666,
              "#ed7953"
             ],
             [
              0.7777777777777778,
              "#fb9f3a"
             ],
             [
              0.8888888888888888,
              "#fdca26"
             ],
             [
              1,
              "#f0f921"
             ]
            ],
            "type": "histogram2d"
           }
          ],
          "histogram2dcontour": [
           {
            "colorbar": {
             "outlinewidth": 0,
             "ticks": ""
            },
            "colorscale": [
             [
              0,
              "#0d0887"
             ],
             [
              0.1111111111111111,
              "#46039f"
             ],
             [
              0.2222222222222222,
              "#7201a8"
             ],
             [
              0.3333333333333333,
              "#9c179e"
             ],
             [
              0.4444444444444444,
              "#bd3786"
             ],
             [
              0.5555555555555556,
              "#d8576b"
             ],
             [
              0.6666666666666666,
              "#ed7953"
             ],
             [
              0.7777777777777778,
              "#fb9f3a"
             ],
             [
              0.8888888888888888,
              "#fdca26"
             ],
             [
              1,
              "#f0f921"
             ]
            ],
            "type": "histogram2dcontour"
           }
          ],
          "mesh3d": [
           {
            "colorbar": {
             "outlinewidth": 0,
             "ticks": ""
            },
            "type": "mesh3d"
           }
          ],
          "parcoords": [
           {
            "line": {
             "colorbar": {
              "outlinewidth": 0,
              "ticks": ""
             }
            },
            "type": "parcoords"
           }
          ],
          "pie": [
           {
            "automargin": true,
            "type": "pie"
           }
          ],
          "scatter": [
           {
            "marker": {
             "colorbar": {
              "outlinewidth": 0,
              "ticks": ""
             }
            },
            "type": "scatter"
           }
          ],
          "scatter3d": [
           {
            "line": {
             "colorbar": {
              "outlinewidth": 0,
              "ticks": ""
             }
            },
            "marker": {
             "colorbar": {
              "outlinewidth": 0,
              "ticks": ""
             }
            },
            "type": "scatter3d"
           }
          ],
          "scattercarpet": [
           {
            "marker": {
             "colorbar": {
              "outlinewidth": 0,
              "ticks": ""
             }
            },
            "type": "scattercarpet"
           }
          ],
          "scattergeo": [
           {
            "marker": {
             "colorbar": {
              "outlinewidth": 0,
              "ticks": ""
             }
            },
            "type": "scattergeo"
           }
          ],
          "scattergl": [
           {
            "marker": {
             "colorbar": {
              "outlinewidth": 0,
              "ticks": ""
             }
            },
            "type": "scattergl"
           }
          ],
          "scattermapbox": [
           {
            "marker": {
             "colorbar": {
              "outlinewidth": 0,
              "ticks": ""
             }
            },
            "type": "scattermapbox"
           }
          ],
          "scatterpolar": [
           {
            "marker": {
             "colorbar": {
              "outlinewidth": 0,
              "ticks": ""
             }
            },
            "type": "scatterpolar"
           }
          ],
          "scatterpolargl": [
           {
            "marker": {
             "colorbar": {
              "outlinewidth": 0,
              "ticks": ""
             }
            },
            "type": "scatterpolargl"
           }
          ],
          "scatterternary": [
           {
            "marker": {
             "colorbar": {
              "outlinewidth": 0,
              "ticks": ""
             }
            },
            "type": "scatterternary"
           }
          ],
          "surface": [
           {
            "colorbar": {
             "outlinewidth": 0,
             "ticks": ""
            },
            "colorscale": [
             [
              0,
              "#0d0887"
             ],
             [
              0.1111111111111111,
              "#46039f"
             ],
             [
              0.2222222222222222,
              "#7201a8"
             ],
             [
              0.3333333333333333,
              "#9c179e"
             ],
             [
              0.4444444444444444,
              "#bd3786"
             ],
             [
              0.5555555555555556,
              "#d8576b"
             ],
             [
              0.6666666666666666,
              "#ed7953"
             ],
             [
              0.7777777777777778,
              "#fb9f3a"
             ],
             [
              0.8888888888888888,
              "#fdca26"
             ],
             [
              1,
              "#f0f921"
             ]
            ],
            "type": "surface"
           }
          ],
          "table": [
           {
            "cells": {
             "fill": {
              "color": "#EBF0F8"
             },
             "line": {
              "color": "white"
             }
            },
            "header": {
             "fill": {
              "color": "#C8D4E3"
             },
             "line": {
              "color": "white"
             }
            },
            "type": "table"
           }
          ]
         },
         "layout": {
          "annotationdefaults": {
           "arrowcolor": "#2a3f5f",
           "arrowhead": 0,
           "arrowwidth": 1
          },
          "coloraxis": {
           "colorbar": {
            "outlinewidth": 0,
            "ticks": ""
           }
          },
          "colorscale": {
           "diverging": [
            [
             0,
             "#8e0152"
            ],
            [
             0.1,
             "#c51b7d"
            ],
            [
             0.2,
             "#de77ae"
            ],
            [
             0.3,
             "#f1b6da"
            ],
            [
             0.4,
             "#fde0ef"
            ],
            [
             0.5,
             "#f7f7f7"
            ],
            [
             0.6,
             "#e6f5d0"
            ],
            [
             0.7,
             "#b8e186"
            ],
            [
             0.8,
             "#7fbc41"
            ],
            [
             0.9,
             "#4d9221"
            ],
            [
             1,
             "#276419"
            ]
           ],
           "sequential": [
            [
             0,
             "#0d0887"
            ],
            [
             0.1111111111111111,
             "#46039f"
            ],
            [
             0.2222222222222222,
             "#7201a8"
            ],
            [
             0.3333333333333333,
             "#9c179e"
            ],
            [
             0.4444444444444444,
             "#bd3786"
            ],
            [
             0.5555555555555556,
             "#d8576b"
            ],
            [
             0.6666666666666666,
             "#ed7953"
            ],
            [
             0.7777777777777778,
             "#fb9f3a"
            ],
            [
             0.8888888888888888,
             "#fdca26"
            ],
            [
             1,
             "#f0f921"
            ]
           ],
           "sequentialminus": [
            [
             0,
             "#0d0887"
            ],
            [
             0.1111111111111111,
             "#46039f"
            ],
            [
             0.2222222222222222,
             "#7201a8"
            ],
            [
             0.3333333333333333,
             "#9c179e"
            ],
            [
             0.4444444444444444,
             "#bd3786"
            ],
            [
             0.5555555555555556,
             "#d8576b"
            ],
            [
             0.6666666666666666,
             "#ed7953"
            ],
            [
             0.7777777777777778,
             "#fb9f3a"
            ],
            [
             0.8888888888888888,
             "#fdca26"
            ],
            [
             1,
             "#f0f921"
            ]
           ]
          },
          "colorway": [
           "#636efa",
           "#EF553B",
           "#00cc96",
           "#ab63fa",
           "#FFA15A",
           "#19d3f3",
           "#FF6692",
           "#B6E880",
           "#FF97FF",
           "#FECB52"
          ],
          "font": {
           "color": "#2a3f5f"
          },
          "geo": {
           "bgcolor": "white",
           "lakecolor": "white",
           "landcolor": "#E5ECF6",
           "showlakes": true,
           "showland": true,
           "subunitcolor": "white"
          },
          "hoverlabel": {
           "align": "left"
          },
          "hovermode": "closest",
          "mapbox": {
           "style": "light"
          },
          "paper_bgcolor": "white",
          "plot_bgcolor": "#E5ECF6",
          "polar": {
           "angularaxis": {
            "gridcolor": "white",
            "linecolor": "white",
            "ticks": ""
           },
           "bgcolor": "#E5ECF6",
           "radialaxis": {
            "gridcolor": "white",
            "linecolor": "white",
            "ticks": ""
           }
          },
          "scene": {
           "xaxis": {
            "backgroundcolor": "#E5ECF6",
            "gridcolor": "white",
            "gridwidth": 2,
            "linecolor": "white",
            "showbackground": true,
            "ticks": "",
            "zerolinecolor": "white"
           },
           "yaxis": {
            "backgroundcolor": "#E5ECF6",
            "gridcolor": "white",
            "gridwidth": 2,
            "linecolor": "white",
            "showbackground": true,
            "ticks": "",
            "zerolinecolor": "white"
           },
           "zaxis": {
            "backgroundcolor": "#E5ECF6",
            "gridcolor": "white",
            "gridwidth": 2,
            "linecolor": "white",
            "showbackground": true,
            "ticks": "",
            "zerolinecolor": "white"
           }
          },
          "shapedefaults": {
           "line": {
            "color": "#2a3f5f"
           }
          },
          "ternary": {
           "aaxis": {
            "gridcolor": "white",
            "linecolor": "white",
            "ticks": ""
           },
           "baxis": {
            "gridcolor": "white",
            "linecolor": "white",
            "ticks": ""
           },
           "bgcolor": "#E5ECF6",
           "caxis": {
            "gridcolor": "white",
            "linecolor": "white",
            "ticks": ""
           }
          },
          "title": {
           "x": 0.05
          },
          "xaxis": {
           "automargin": true,
           "gridcolor": "white",
           "linecolor": "white",
           "ticks": "",
           "title": {
            "standoff": 15
           },
           "zerolinecolor": "white",
           "zerolinewidth": 2
          },
          "yaxis": {
           "automargin": true,
           "gridcolor": "white",
           "linecolor": "white",
           "ticks": "",
           "title": {
            "standoff": 15
           },
           "zerolinecolor": "white",
           "zerolinewidth": 2
          }
         }
        },
        "title": {
         "font": {
          "color": "#4D5663"
         }
        },
        "xaxis": {
         "gridcolor": "#E1E5ED",
         "showgrid": true,
         "tickfont": {
          "color": "#4D5663"
         },
         "title": {
          "font": {
           "color": "#4D5663"
          },
          "text": ""
         },
         "zerolinecolor": "#E1E5ED"
        },
        "yaxis": {
         "gridcolor": "#E1E5ED",
         "showgrid": true,
         "tickfont": {
          "color": "#4D5663"
         },
         "title": {
          "font": {
           "color": "#4D5663"
          },
          "text": ""
         },
         "zerolinecolor": "#E1E5ED"
        }
       }
      },
      "text/html": [
       "<div>\n",
       "        \n",
       "        \n",
       "            <div id=\"73185dfe-6da8-4644-a7c7-f232a364371d\" class=\"plotly-graph-div\" style=\"height:525px; width:100%;\"></div>\n",
       "            <script type=\"text/javascript\">\n",
       "                require([\"plotly\"], function(Plotly) {\n",
       "                    window.PLOTLYENV=window.PLOTLYENV || {};\n",
       "                    window.PLOTLYENV.BASE_URL='https://plot.ly';\n",
       "                    \n",
       "                if (document.getElementById(\"73185dfe-6da8-4644-a7c7-f232a364371d\")) {\n",
       "                    Plotly.newPlot(\n",
       "                        '73185dfe-6da8-4644-a7c7-f232a364371d',\n",
       "                        [{\"boxpoints\": false, \"line\": {\"width\": 1.3}, \"marker\": {\"color\": \"rgba(255, 153, 51, 1.0)\"}, \"name\": \"Shift\", \"orientation\": \"v\", \"type\": \"box\", \"y\": [\"Lunch\", \"Lunch\", \"Lunch\", \"Lunch\", \"Lunch\", \"Lunch\", \"Lunch\", \"Lunch\", \"Lunch\", \"Lunch\", \"Lunch\", \"Lunch\", \"Lunch\", \"Lunch\", \"Lunch\", \"Lunch\", \"Lunch\", \"Lunch\", \"Lunch\", \"Lunch\", \"Lunch\", \"Lunch\", \"Lunch\", \"Lunch\", \"Lunch\", \"Lunch\", \"Lunch\", \"Lunch\", \"Lunch\", \"Lunch\", \"Lunch\", \"Lunch\", \"Lunch\", \"Lunch\", \"Lunch\", \"Lunch\", \"Lunch\", \"Lunch\", \"Lunch\", \"Lunch\", \"Lunch\", \"Lunch\", \"Lunch\", \"Lunch\", \"Lunch\", \"Lunch\", \"Lunch\", \"Lunch\", \"Lunch\", \"Lunch\", \"Lunch\", \"Lunch\", \"Lunch\", \"Lunch\", \"Lunch\", \"Lunch\", \"Lunch\", \"Lunch\", \"Lunch\", \"Lunch\", \"Dinner\", \"Dinner\", \"Dinner\", \"Dinner\", \"Dinner\", \"Dinner\", \"Dinner\", \"Dinner\", \"Dinner\", \"Dinner\", \"Dinner\", \"Dinner\", \"Dinner\", \"Dinner\", \"Dinner\", \"Dinner\", \"Dinner\", \"Dinner\", \"Dinner\", \"Dinner\", \"Dinner\", \"Dinner\", \"Dinner\", \"Dinner\", \"Dinner\", \"Dinner\", \"Dinner\", \"Dinner\", \"Dinner\", \"Dinner\", \"Dinner\", \"Dinner\", \"Dinner\", \"Dinner\", \"Dinner\", \"Dinner\", \"Dinner\", \"Dinner\", \"Dinner\", \"Dinner\", \"Lunch\", \"Lunch\", \"Lunch\", \"Lunch\", \"Lunch\", \"Lunch\", \"Lunch\", \"Lunch\", \"Lunch\", \"Lunch\", \"Lunch\", \"Lunch\", \"Lunch\", \"Lunch\", \"Lunch\", \"Lunch\", \"Lunch\", \"Lunch\", \"Lunch\", \"Lunch\", \"Lunch\", \"Lunch\", \"Lunch\", \"Lunch\", \"Lunch\", \"Lunch\", \"Lunch\", \"Lunch\", \"Lunch\", \"Lunch\", \"Lunch\", \"Lunch\", \"Lunch\", \"Lunch\", \"Lunch\", \"Lunch\", \"Lunch\", \"Lunch\", \"Lunch\", \"Lunch\", \"Lunch\", \"Lunch\", \"Lunch\", \"Lunch\", \"Lunch\", \"Lunch\", \"Lunch\", \"Lunch\", \"Lunch\", \"Lunch\", \"Lunch\", \"Lunch\", \"Lunch\", \"Lunch\", \"Lunch\", \"Lunch\", \"Lunch\", \"Lunch\", \"Lunch\", \"Lunch\", \"Dinner\", \"Dinner\", \"Dinner\", \"Dinner\", \"Dinner\", \"Dinner\", \"Dinner\", \"Dinner\", \"Dinner\", \"Dinner\", \"Dinner\", \"Dinner\", \"Dinner\", \"Dinner\", \"Dinner\", \"Dinner\", \"Dinner\", \"Dinner\", \"Dinner\", \"Dinner\", \"Dinner\", \"Dinner\", \"Dinner\", \"Dinner\", \"Dinner\", \"Dinner\", \"Dinner\", \"Dinner\", \"Dinner\", \"Dinner\", \"Dinner\", \"Dinner\", \"Dinner\", \"Dinner\", \"Dinner\", \"Dinner\", \"Dinner\", \"Dinner\", \"Dinner\", \"Dinner\"]}, {\"boxpoints\": false, \"line\": {\"width\": 1.3}, \"marker\": {\"color\": \"rgba(55, 128, 191, 1.0)\"}, \"name\": \"DTS\", \"orientation\": \"v\", \"type\": \"box\", \"y\": [\"01/01/2019 11:30AM\", \"01/01/2019 11:30AM\", \"01/01/2019 11:30AM\", \"01/01/2019 11:30AM\", \"01/01/2019 11:30AM\", \"01/01/2019 11:30AM\", \"01/01/2019 11:40AM\", \"01/01/2019 11:40AM\", \"01/01/2019 11:40AM\", \"01/01/2019 11:40AM\", \"01/01/2019 11:40AM\", \"01/01/2019 11:50AM\", \"01/01/2019 11:50AM\", \"01/01/2019 11:50AM\", \"01/01/2019 11:50AM\", \"01/01/2019 11:50AM\", \"01/01/2019 11:50AM\", \"01/01/2019 11:50AM\", \"01/01/2019 11:50AM\", \"01/01/2019 12:05PM\", \"01/01/2019 12:05PM\", \"01/01/2019 12:05PM\", \"01/01/2019 12:05PM\", \"01/01/2019 12:05PM\", \"01/01/2019 12:05PM\", \"01/01/2019 12:05PM\", \"01/01/2019 12:05PM\", \"01/01/2019 12:05PM\", \"01/01/2019 12:05PM\", \"01/01/2019 12:10PM\", \"01/01/2019 12:10PM\", \"01/01/2019 12:10PM\", \"01/01/2019 12:10PM\", \"01/01/2019 12:10PM\", \"01/01/2019 12:10PM\", \"01/01/2019 12:10PM\", \"01/01/2019 12:10PM\", \"01/01/2019 12:10PM\", \"01/01/2019 12:10PM\", \"01/01/2019 12:20PM\", \"01/01/2019 12:20PM\", \"01/01/2019 12:20PM\", \"01/01/2019 12:20PM\", \"01/01/2019 12:20PM\", \"01/01/2019 12:20PM\", \"01/01/2019 12:20PM\", \"01/01/2019 12:30PM\", \"01/01/2019 12:30PM\", \"01/01/2019 12:30PM\", \"01/01/2019 12:30PM\", \"01/01/2019 12:30PM\", \"01/01/2019 12:30PM\", \"01/01/2019 12:30PM\", \"01/01/2019 12:30PM\", \"01/01/2019 12:30PM\", \"01/01/2019 12:30PM\", \"01/01/2019 12:30PM\", \"01/01/2019 12:30PM\", \"01/01/2019 12:30PM\", \"01/01/2019 12:30PM\", \"01/01/2019 6:30PM\", \"01/01/2019 6:30PM\", \"01/01/2019 6:30PM\", \"01/01/2019 6:30PM\", \"01/01/2019 6:30PM\", \"01/01/2019 6:30PM\", \"01/01/2019 6:30PM\", \"01/01/2019 6:30PM\", \"01/01/2019 6:30PM\", \"01/01/2019 7:00PM\", \"01/01/2019 7:00PM\", \"01/01/2019 7:00PM\", \"01/01/2019 7:00PM\", \"01/01/2019 7:00PM\", \"01/01/2019 7:00PM\", \"01/01/2019 7:00PM\", \"01/01/2019 7:00PM\", \"01/01/2019 7:00PM\", \"01/01/2019 7:00PM\", \"01/01/2019 7:00PM\", \"01/01/2019 7:00PM\", \"01/01/2019 7:00PM\", \"01/01/2019 7:00PM\", \"01/01/2019 7:00PM\", \"01/01/2019 7:00PM\", \"01/01/2019 7:00PM\", \"01/01/2019 7:00PM\", \"01/01/2019 7:00PM\", \"01/01/2019 8:30PM\", \"01/01/2019 8:30PM\", \"01/01/2019 8:30PM\", \"01/01/2019 8:30PM\", \"01/01/2019 8:30PM\", \"01/01/2019 8:30PM\", \"01/01/2019 8:30PM\", \"01/01/2019 8:30PM\", \"01/01/2019 8:30PM\", \"01/01/2019 8:30PM\", \"01/01/2019 8:30PM\", \"01/01/2019 8:30PM\", \"01/02/2019 11:30AM\", \"01/02/2019 11:30AM\", \"01/02/2019 11:30AM\", \"01/02/2019 11:30AM\", \"01/02/2019 11:30AM\", \"01/02/2019 11:30AM\", \"01/02/2019 11:40AM\", \"01/02/2019 11:40AM\", \"01/02/2019 11:40AM\", \"01/02/2019 11:40AM\", \"01/02/2019 11:40AM\", \"01/02/2019 11:50AM\", \"01/02/2019 11:50AM\", \"01/02/2019 11:50AM\", \"01/02/2019 11:50AM\", \"01/02/2019 11:30AM\", \"01/02/2019 11:30AM\", \"01/02/2019 11:30AM\", \"01/02/2019 11:30AM\", \"01/02/2019 12:05PM\", \"01/02/2019 12:05PM\", \"01/02/2019 12:05PM\", \"01/02/2019 12:05PM\", \"01/02/2019 12:05PM\", \"01/02/2019 12:05PM\", \"01/02/2019 12:05PM\", \"01/02/2019 12:05PM\", \"01/02/2019 12:05PM\", \"01/02/2019 12:05PM\", \"01/02/2019 12:10PM\", \"01/02/2019 12:10PM\", \"01/02/2019 12:10PM\", \"01/02/2019 12:10PM\", \"01/02/2019 12:10PM\", \"01/02/2019 12:20PM\", \"01/02/2019 12:20PM\", \"01/02/2019 12:20PM\", \"01/02/2019 12:20PM\", \"01/02/2019 12:20PM\", \"01/02/2019 12:20PM\", \"01/02/2019 12:20PM\", \"01/02/2019 12:20PM\", \"01/02/2019 12:20PM\", \"01/02/2019 12:20PM\", \"01/02/2019 12:20PM\", \"01/02/2019 12:20PM\", \"01/02/2019 12:30PM\", \"01/02/2019 12:30PM\", \"01/02/2019 12:30PM\", \"01/02/2019 12:30PM\", \"01/02/2019 12:30PM\", \"01/02/2019 12:30PM\", \"01/02/2019 12:30PM\", \"01/02/2019 12:30PM\", \"01/02/2019 12:30PM\", \"01/02/2019 12:30PM\", \"01/02/2019 1:00PM\", \"01/02/2019 1:00PM\", \"01/02/2019 1:00PM\", \"01/02/2019 1:00PM\", \"01/02/2019 6:30PM\", \"01/02/2019 6:30PM\", \"01/02/2019 6:30PM\", \"01/02/2019 6:30PM\", \"01/02/2019 6:30PM\", \"01/02/2019 6:30PM\", \"01/02/2019 6:30PM\", \"01/02/2019 6:30PM\", \"01/02/2019 6:30PM\", \"01/02/2019 7:00PM\", \"01/02/2019 7:00PM\", \"01/02/2019 7:00PM\", \"01/02/2019 7:00PM\", \"01/02/2019 7:00PM\", \"01/02/2019 7:00PM\", \"01/02/2019 7:00PM\", \"01/02/2019 7:00PM\", \"01/02/2019 7:00PM\", \"01/02/2019 7:00PM\", \"01/02/2019 7:00PM\", \"01/02/2019 7:00PM\", \"01/02/2019 7:00PM\", \"01/02/2019 7:00PM\", \"01/02/2019 7:00PM\", \"01/02/2019 7:00PM\", \"01/02/2019 7:00PM\", \"01/02/2019 7:00PM\", \"01/02/2019 7:00PM\", \"01/02/2019 8:30PM\", \"01/02/2019 8:30PM\", \"01/02/2019 8:30PM\", \"01/02/2019 8:30PM\", \"01/02/2019 8:30PM\", \"01/02/2019 8:30PM\", \"01/02/2019 8:15PM\", \"01/02/2019 8:15PM\", \"01/02/2019 8:15PM\", \"01/02/2019 8:15PM\", \"01/02/2019 8:15PM\", \"01/02/2019 8:15PM\"]}, {\"boxpoints\": false, \"line\": {\"width\": 1.3}, \"marker\": {\"color\": \"rgba(50, 171, 96, 1.0)\"}, \"name\": \"Day\", \"orientation\": \"v\", \"type\": \"box\", \"y\": [\"Tuesday\", \"Tuesday\", \"Tuesday\", \"Tuesday\", \"Tuesday\", \"Tuesday\", \"Tuesday\", \"Tuesday\", \"Tuesday\", \"Tuesday\", \"Tuesday\", \"Tuesday\", \"Tuesday\", \"Tuesday\", \"Tuesday\", \"Tuesday\", \"Tuesday\", \"Tuesday\", \"Tuesday\", \"Tuesday\", \"Tuesday\", \"Tuesday\", \"Tuesday\", \"Tuesday\", \"Tuesday\", \"Tuesday\", \"Tuesday\", \"Tuesday\", \"Tuesday\", \"Tuesday\", \"Tuesday\", \"Tuesday\", \"Tuesday\", \"Tuesday\", \"Tuesday\", \"Tuesday\", \"Tuesday\", \"Tuesday\", \"Tuesday\", \"Tuesday\", \"Tuesday\", \"Tuesday\", \"Tuesday\", \"Tuesday\", \"Tuesday\", \"Tuesday\", \"Tuesday\", \"Tuesday\", \"Tuesday\", \"Tuesday\", \"Tuesday\", \"Tuesday\", \"Tuesday\", \"Tuesday\", \"Tuesday\", \"Tuesday\", \"Tuesday\", \"Tuesday\", \"Tuesday\", \"Tuesday\", \"Tuesday\", \"Tuesday\", \"Tuesday\", \"Tuesday\", \"Tuesday\", \"Tuesday\", \"Tuesday\", \"Tuesday\", \"Tuesday\", \"Tuesday\", \"Tuesday\", \"Tuesday\", \"Tuesday\", \"Tuesday\", \"Tuesday\", \"Tuesday\", \"Tuesday\", \"Tuesday\", \"Tuesday\", \"Tuesday\", \"Tuesday\", \"Tuesday\", \"Tuesday\", \"Tuesday\", \"Tuesday\", \"Tuesday\", \"Tuesday\", \"Tuesday\", \"Tuesday\", \"Tuesday\", \"Tuesday\", \"Tuesday\", \"Tuesday\", \"Tuesday\", \"Tuesday\", \"Tuesday\", \"Tuesday\", \"Tuesday\", \"Tuesday\", \"Tuesday\", \"Wednesday\", \"Wednesday\", \"Wednesday\", \"Wednesday\", \"Wednesday\", \"Wednesday\", \"Wednesday\", \"Wednesday\", \"Wednesday\", \"Wednesday\", \"Wednesday\", \"Wednesday\", \"Wednesday\", \"Wednesday\", \"Wednesday\", \"Wednesday\", \"Wednesday\", \"Wednesday\", \"Wednesday\", \"Wednesday\", \"Wednesday\", \"Wednesday\", \"Wednesday\", \"Wednesday\", \"Wednesday\", \"Wednesday\", \"Wednesday\", \"Wednesday\", \"Wednesday\", \"Wednesday\", \"Wednesday\", \"Wednesday\", \"Wednesday\", \"Wednesday\", \"Wednesday\", \"Wednesday\", \"Wednesday\", \"Wednesday\", \"Wednesday\", \"Wednesday\", \"Wednesday\", \"Wednesday\", \"Wednesday\", \"Wednesday\", \"Wednesday\", \"Wednesday\", \"Wednesday\", \"Wednesday\", \"Wednesday\", \"Wednesday\", \"Wednesday\", \"Wednesday\", \"Wednesday\", \"Wednesday\", \"Wednesday\", \"Wednesday\", \"Wednesday\", \"Wednesday\", \"Wednesday\", \"Wednesday\", \"Wednesday\", \"Wednesday\", \"Wednesday\", \"Wednesday\", \"Wednesday\", \"Wednesday\", \"Wednesday\", \"Wednesday\", \"Wednesday\", \"Wednesday\", \"Wednesday\", \"Wednesday\", \"Wednesday\", \"Wednesday\", \"Wednesday\", \"Wednesday\", \"Wednesday\", \"Wednesday\", \"Wednesday\", \"Wednesday\", \"Wednesday\", \"Wednesday\", \"Wednesday\", \"Wednesday\", \"Wednesday\", \"Wednesday\", \"Wednesday\", \"Wednesday\", \"Wednesday\", \"Wednesday\", \"Wednesday\", \"Wednesday\", \"Wednesday\", \"Wednesday\", \"Wednesday\", \"Wednesday\", \"Wednesday\", \"Wednesday\", \"Wednesday\", \"Wednesday\"]}, {\"boxpoints\": false, \"line\": {\"width\": 1.3}, \"marker\": {\"color\": \"rgba(128, 0, 128, 1.0)\"}, \"name\": \"PartySize\", \"orientation\": \"v\", \"type\": \"box\", \"y\": [\"4\", \"4\", \"4\", \"4\", \"4\", \"4\", \"3\", \"3\", \"3\", \"3\", \"3\", \"2\", \"2\", \"2\", \"2\", \"na\", \"na\", \"na\", \"na\", \"5\", \"5\", \"5\", \"5\", \"5\", \"5\", \"5\", \"5\", \"5\", \"5\", \"2\", \"2\", \"2\", \"2\", \"2\", \"na\", \"na\", \"na\", \"na\", \"na\", \"3\", \"3\", \"3\", \"3\", \"3\", \"3\", \"3\", \"4\", \"4\", \"4\", \"4\", \"4\", \"4\", \"4\", \"4\", \"4\", \"4\", \"na\", \"na\", \"na\", \"na\", \"3\", \"3\", \"3\", \"3\", \"3\", \"3\", \"3\", \"3\", \"3\", \"5\", \"5\", \"5\", \"5\", \"5\", \"5\", \"5\", \"5\", \"5\", \"5\", \"5\", \"5\", \"5\", \"5\", \"5\", \"5\", \"5\", \"5\", \"5\", \"2\", \"2\", \"2\", \"2\", \"2\", \"2\", \"na\", \"na\", \"na\", \"na\", \"na\", \"na\", \"3\", \"3\", \"3\", \"3\", \"3\", \"3\", \"4\", \"4\", \"4\", \"4\", \"4\", \"3\", \"3\", \"3\", \"3\", \"na\", \"na\", \"na\", \"na\", \"5\", \"5\", \"5\", \"5\", \"5\", \"5\", \"5\", \"5\", \"5\", \"5\", \"3\", \"3\", \"3\", \"3\", \"3\", \"na\", \"na\", \"na\", \"na\", \"na\", \"3\", \"3\", \"3\", \"3\", \"3\", \"3\", \"3\", \"5\", \"5\", \"5\", \"5\", \"5\", \"5\", \"5\", \"5\", \"5\", \"5\", \"na\", \"na\", \"na\", \"na\", \"4\", \"4\", \"4\", \"4\", \"4\", \"4\", \"4\", \"4\", \"4\", \"5\", \"5\", \"5\", \"5\", \"5\", \"5\", \"5\", \"5\", \"5\", \"5\", \"5\", \"5\", \"5\", \"5\", \"5\", \"5\", \"5\", \"5\", \"5\", \"2\", \"2\", \"2\", \"2\", \"2\", \"2\", \"na\", \"na\", \"na\", \"na\", \"na\", \"na\"]}, {\"boxpoints\": false, \"line\": {\"width\": 1.3}, \"marker\": {\"color\": \"rgba(219, 64, 82, 1.0)\"}, \"name\": \"MenuItem\", \"orientation\": \"v\", \"type\": \"box\", \"y\": [\"GOBI MANCHURIAN\", \"TASTY FLATBREAD\", \"SARSON DA SAAG\", \"PANEER VINDALOO\", \"GARLIC NAAN\", \"NAAN\", \"MASALA CHICKEN WINGS\", \"COCKTAIL CHICKEN SAMOSAS\", \"CHICKEN KORMA\", \"CHICKEN BIRYANI\", \"ONION KULCHA\", \"CHICKEN TIKKA MASALA\", \"GARLIC NAAN\", \"GULABJAMUN\", \"MALPURA\", \"COCKTAIL CHICKEN SAMOSAS\", \"CHICKEN KORMA\", \"CHICKEN BIRYANI\", \"ONION KULCHA\", \"VEGETABLE SAMOSA\", \"CHAAT PAPRI\", \"BAINGAN BARTHA\", \"MALAI KOFTA\", \"CHICKEN SAAG\", \"RICE\", \"GARLIC NAAN\", \"TANDOORI ROTI\", \"GULABJAMUN\", \"CARROT HALWA\", \"KADAHI PANEER\", \"KADAHI LAMB\", \"ALOO PARATHA\", \"GARLIC NAAN\", \"RASMALAI\", \"MALAI KOFTA\", \"CHICKEN SAAG\", \"RICE\", \"GARLIC NAAN\", \"TANDOORI ROTI\", \"VEGETABLE PAKORA\", \"HARA BHARA KABOB\", \"SHAHI PANEER\", \"YELLOW DAL FRY\", \"RICE\", \"ONION KULCHA\", \"GARLIC NAAN\", \"BHINDI DO PIAZZA\", \"KADAHI PANEER\", \"COCONUT CHICKEN CURRY\", \"BUTTER CHICKEN\", \"LACHA PARATHA\", \"NAAN\", \"TANDOORI ROTI\", \"RASMALAI\", \"GULABJAMUN\", \"CARROT HALWA\", \"KADAHI PANEER\", \"COCONUT CHICKEN CURRY\", \"BUTTER CHICKEN\", \"LACHA PARATHA\", \"FISH PAKORA\", \"SHRIMP STRIPS\", \"FISH KORMA\", \"FISH CURRY\", \"RICE\", \"GARLIC NAAN\", \"NAAN\", \"MALPURA\", \"KHEER\", \"GOBI MANCHURIAN\", \"TASTY FLATBREAD\", \"TASTY SLIDERS : CHICKEN PANEER\", \"SPICY CHICKEN BITES\", \"SARSON DA SAAG\", \"PANEER VINDALOO\", \"BAINGAN BARTHA\", \"CHICKEN TIKKA MASALA\", \"BUTTER CHICKEN\", \"TIKKA RICE BOWL : PANEER | CHICKEN\", \"ONION KULCHA\", \"SPINACH NAAN\", \"GARLIC NAAN\", \"TANDOORI ROTI\", \"RASMALAI\", \"KHEER\", \"GULABJAMUN\", \"MALPURA\", \"CARROT HALWA\", \"VEGETABLE PAKORA\", \"BUTTER CHICKEN\", \"FISH CURRY\", \"RICE\", \"GARLIC NAAN\", \"NAAN\", \"VEGETABLE PAKORA\", \"BUTTER CHICKEN\", \"FISH CURRY\", \"RICE\", \"GARLIC NAAN\", \"NAAN\", \"ONION KULCHA\", \"RICE\", \"TASTY FLATBREAD\", \"CHICKEN TIKKA MASALA\", \"SHAHI PANEER\", \"MALPURA\", \"RICE\", \"BHINDI DO PIAZZA\", \"RASMALAI\", \"CARROT HALWA\", \"VEGETABLE PAKORA\", \"SHRIMP STRIPS\", \"RASMALAI\", \"BAINGAN BARTHA\", \"NAAN\", \"MALAI KOFTA\", \"BUTTER CHICKEN\", \"CHICKEN SAAG\", \"CHICKEN BIRYANI\", \"NAAN\", \"HARA BHARA KABOB\", \"LACHA PARATHA\", \"TANDOORI ROTI\", \"CARROT HALWA\", \"MALAI KOFTA\", \"GULABJAMUN\", \"BUTTER CHICKEN\", \"CARROT HALWA\", \"FISH CURRY\", \"TASTY FLATBREAD\", \"KADAHI PANEER\", \"CHAAT PAPRI\", \"GARLIC NAAN\", \"CHICKEN BIRYANI\", \"CHICKEN KORMA\", \"RICE\", \"VEGETABLE PAKORA\", \"COCKTAIL CHICKEN SAMOSAS\", \"BUTTER CHICKEN\", \"BAINGAN BARTHA\", \"GARLIC NAAN\", \"TIKKA RICE BOWL : PANEER | CHICKEN\", \"CHICKEN SAAG\", \"MALPURA\", \"COCONUT CHICKEN CURRY\", \"VEGETABLE PAKORA\", \"BUTTER CHICKEN\", \"KADAHI LAMB\", \"ALOO PARATHA\", \"KHEER\", \"YELLOW DAL FRY\", \"TANDOORI ROTI\", \"KHEER\", \"GARLIC NAAN\", \"TANDOORI ROTI\", \"FISH CURRY\", \"FISH CURRY\", \"LACHA PARATHA\", \"COCONUT CHICKEN CURRY\", \"GARLIC NAAN\", \"VEGETABLE SAMOSA\", \"ONION KULCHA\", \"SPICY CHICKEN BITES\", \"TASTY SLIDERS : CHICKEN PANEER\", \"RICE\", \"PANEER VINDALOO\", \"GOBI MANCHURIAN\", \"GARLIC NAAN\", \"NAAN\", \"ONION KULCHA\", \"MALPURA\", \"GARLIC NAAN\", \"GARLIC NAAN\", \"NAAN\", \"CHICKEN KORMA\", \"BUTTER CHICKEN\", \"GARLIC NAAN\", \"MASALA CHICKEN WINGS\", \"GOBI MANCHURIAN\", \"GULABJAMUN\", \"FISH PAKORA\", \"RICE\", \"GULABJAMUN\", \"FISH KORMA\", \"SARSON DA SAAG\", \"GARLIC NAAN\", \"SPINACH NAAN\", \"PANEER VINDALOO\", \"COCKTAIL CHICKEN SAMOSAS\", \"CHICKEN TIKKA MASALA\", \"RASMALAI\", \"SARSON DA SAAG\", \"GULABJAMUN\", \"KADAHI PANEER\", \"ONION KULCHA\", \"RICE\", \"TANDOORI ROTI\", \"NAAN\", \"KADAHI PANEER\", \"GARLIC NAAN\"]}, {\"boxpoints\": false, \"line\": {\"width\": 1.3}, \"marker\": {\"color\": \"rgba(0, 128, 128, 1.0)\"}, \"name\": \"ItemQty\", \"orientation\": \"v\", \"type\": \"box\", \"y\": [1, 1, 1, 1, 2, 2, 1, 1, 1, 1, 2, 1, 2, 1, 1, 2, 1, 2, 2, 1, 2, 1, 2, 1, 1, 2, 2, 1, 1, 1, 1, 1, 1, 1, 2, 2, 2, 2, 1, 1, 1, 1, 1, 1, 1, 1, 1, 1, 1, 1, 2, 2, 1, 2, 1, 1, 2, 1, 2, 3, 2, 2, 1, 2, 1, 2, 1, 1, 2, 2, 2, 1, 1, 1, 1, 1, 1, 1, 2, 1, 1, 3, 2, 1, 1, 2, 1, 1, 1, 1, 1, 1, 2, 1, 2, 3, 2, 1, 2, 4, 1, 1, 2, 1, 1, 1, 1, 1, 2, 1, 1, 2, 1, 1, 2, 2, 3, 2, 2, 1, 1, 2, 1, 1, 2, 1, 1, 1, 2, 1, 1, 2, 2, 1, 1, 2, 2, 2, 2, 1, 1, 2, 1, 1, 1, 1, 1, 1, 1, 2, 1, 2, 1, 3, 2, 1, 2, 3, 1, 2, 1, 2, 1, 1, 1, 1, 1, 2, 2, 1, 1, 2, 2, 1, 1, 1, 1, 1, 2, 2, 2, 1, 1, 1, 1, 2, 1, 1, 1, 1, 1, 1, 1, 1, 2, 1, 1, 4, 2, 2]}, {\"boxpoints\": false, \"line\": {\"width\": 1.3}, \"marker\": {\"color\": \"rgba(255, 255, 51, 1.0)\"}, \"name\": \"ItemPrice\", \"orientation\": \"v\", \"type\": \"box\", \"y\": [14.0, 11.0, 15.0, 16.0, 3.5, 2.75, 14.0, 14.0, 18.0, 19.0, 5.0, 18.0, 3.5, 6.0, 8.0, 14.0, 18.0, 19.0, 5.0, 11.0, 11.0, 16.0, 16.0, 18.0, 5.0, 3.5, 2.75, 6.0, 7.0, 16.0, 19.0, 5.0, 3.5, 6.0, 16.0, 18.0, 5.0, 3.5, 2.75, 11.0, 16.0, 16.0, 15.0, 5.0, 5.0, 3.5, 16.0, 16.0, 18.0, 18.0, 5.0, 2.75, 2.75, 6.0, 6.0, 7.0, 16.0, 18.0, 18.0, 5.0, 14.0, 15.0, 19.0, 19.0, 5.0, 3.5, 2.75, 8.0, 7.0, 14.0, 11.0, 15.0, 14.0, 15.0, 16.0, 16.0, 18.0, 18.0, 18.0, 5.0, 6.0, 3.5, 2.75, 6.0, 7.0, 6.0, 8.0, 7.0, 11.0, 18.0, 19.0, 5.0, 3.5, 2.75, 11.0, 18.0, 19.0, 5.0, 3.5, 2.75, 5.0, 5.0, 11.0, 18.0, 16.0, 8.0, 5.0, 16.0, 6.0, 7.0, 11.0, 15.0, 6.0, 16.0, 2.75, 16.0, 18.0, 18.0, 19.0, 2.75, 16.0, 5.0, 2.75, 7.0, 16.0, 6.0, 18.0, 7.0, 19.0, 11.0, 16.0, 11.0, 3.5, 19.0, 18.0, 5.0, 11.0, 14.0, 18.0, 16.0, 3.5, 18.0, 18.0, 8.0, 18.0, 11.0, 18.0, 19.0, 5.0, 7.0, 15.0, 2.75, 7.0, 3.5, 2.75, 19.0, 19.0, 5.0, 18.0, 3.5, 11.0, 5.0, 14.0, 15.0, 5.0, 16.0, 14.0, 3.5, 2.75, 5.0, 8.0, 3.5, 3.5, 2.75, 18.0, 18.0, 3.5, 14.0, 14.0, 6.0, 14.0, 5.0, 6.0, 19.0, 15.0, 3.5, 6.0, 16.0, 14.0, 18.0, 6.0, 15.0, 6.0, 16.0, 5.0, 5.0, 2.75, 2.75, 16.0, 3.5]}],\n",
       "                        {\"legend\": {\"bgcolor\": \"#F5F6F9\", \"font\": {\"color\": \"#4D5663\"}}, \"paper_bgcolor\": \"#F5F6F9\", \"plot_bgcolor\": \"#F5F6F9\", \"template\": {\"data\": {\"bar\": [{\"error_x\": {\"color\": \"#2a3f5f\"}, \"error_y\": {\"color\": \"#2a3f5f\"}, \"marker\": {\"line\": {\"color\": \"#E5ECF6\", \"width\": 0.5}}, \"type\": \"bar\"}], \"barpolar\": [{\"marker\": {\"line\": {\"color\": \"#E5ECF6\", \"width\": 0.5}}, \"type\": \"barpolar\"}], \"carpet\": [{\"aaxis\": {\"endlinecolor\": \"#2a3f5f\", \"gridcolor\": \"white\", \"linecolor\": \"white\", \"minorgridcolor\": \"white\", \"startlinecolor\": \"#2a3f5f\"}, \"baxis\": {\"endlinecolor\": \"#2a3f5f\", \"gridcolor\": \"white\", \"linecolor\": \"white\", \"minorgridcolor\": \"white\", \"startlinecolor\": \"#2a3f5f\"}, \"type\": \"carpet\"}], \"choropleth\": [{\"colorbar\": {\"outlinewidth\": 0, \"ticks\": \"\"}, \"type\": \"choropleth\"}], \"contour\": [{\"colorbar\": {\"outlinewidth\": 0, \"ticks\": \"\"}, \"colorscale\": [[0.0, \"#0d0887\"], [0.1111111111111111, \"#46039f\"], [0.2222222222222222, \"#7201a8\"], [0.3333333333333333, \"#9c179e\"], [0.4444444444444444, \"#bd3786\"], [0.5555555555555556, \"#d8576b\"], [0.6666666666666666, \"#ed7953\"], [0.7777777777777778, \"#fb9f3a\"], [0.8888888888888888, \"#fdca26\"], [1.0, \"#f0f921\"]], \"type\": \"contour\"}], \"contourcarpet\": [{\"colorbar\": {\"outlinewidth\": 0, \"ticks\": \"\"}, \"type\": \"contourcarpet\"}], \"heatmap\": [{\"colorbar\": {\"outlinewidth\": 0, \"ticks\": \"\"}, \"colorscale\": [[0.0, \"#0d0887\"], [0.1111111111111111, \"#46039f\"], [0.2222222222222222, \"#7201a8\"], [0.3333333333333333, \"#9c179e\"], [0.4444444444444444, \"#bd3786\"], [0.5555555555555556, \"#d8576b\"], [0.6666666666666666, \"#ed7953\"], [0.7777777777777778, \"#fb9f3a\"], [0.8888888888888888, \"#fdca26\"], [1.0, \"#f0f921\"]], \"type\": \"heatmap\"}], \"heatmapgl\": [{\"colorbar\": {\"outlinewidth\": 0, \"ticks\": \"\"}, \"colorscale\": [[0.0, \"#0d0887\"], [0.1111111111111111, \"#46039f\"], [0.2222222222222222, \"#7201a8\"], [0.3333333333333333, \"#9c179e\"], [0.4444444444444444, \"#bd3786\"], [0.5555555555555556, \"#d8576b\"], [0.6666666666666666, \"#ed7953\"], [0.7777777777777778, \"#fb9f3a\"], [0.8888888888888888, \"#fdca26\"], [1.0, \"#f0f921\"]], \"type\": \"heatmapgl\"}], \"histogram\": [{\"marker\": {\"colorbar\": {\"outlinewidth\": 0, \"ticks\": \"\"}}, \"type\": \"histogram\"}], \"histogram2d\": [{\"colorbar\": {\"outlinewidth\": 0, \"ticks\": \"\"}, \"colorscale\": [[0.0, \"#0d0887\"], [0.1111111111111111, \"#46039f\"], [0.2222222222222222, \"#7201a8\"], [0.3333333333333333, \"#9c179e\"], [0.4444444444444444, \"#bd3786\"], [0.5555555555555556, \"#d8576b\"], [0.6666666666666666, \"#ed7953\"], [0.7777777777777778, \"#fb9f3a\"], [0.8888888888888888, \"#fdca26\"], [1.0, \"#f0f921\"]], \"type\": \"histogram2d\"}], \"histogram2dcontour\": [{\"colorbar\": {\"outlinewidth\": 0, \"ticks\": \"\"}, \"colorscale\": [[0.0, \"#0d0887\"], [0.1111111111111111, \"#46039f\"], [0.2222222222222222, \"#7201a8\"], [0.3333333333333333, \"#9c179e\"], [0.4444444444444444, \"#bd3786\"], [0.5555555555555556, \"#d8576b\"], [0.6666666666666666, \"#ed7953\"], [0.7777777777777778, \"#fb9f3a\"], [0.8888888888888888, \"#fdca26\"], [1.0, \"#f0f921\"]], \"type\": \"histogram2dcontour\"}], \"mesh3d\": [{\"colorbar\": {\"outlinewidth\": 0, \"ticks\": \"\"}, \"type\": \"mesh3d\"}], \"parcoords\": [{\"line\": {\"colorbar\": {\"outlinewidth\": 0, \"ticks\": \"\"}}, \"type\": \"parcoords\"}], \"pie\": [{\"automargin\": true, \"type\": \"pie\"}], \"scatter\": [{\"marker\": {\"colorbar\": {\"outlinewidth\": 0, \"ticks\": \"\"}}, \"type\": \"scatter\"}], \"scatter3d\": [{\"line\": {\"colorbar\": {\"outlinewidth\": 0, \"ticks\": \"\"}}, \"marker\": {\"colorbar\": {\"outlinewidth\": 0, \"ticks\": \"\"}}, \"type\": \"scatter3d\"}], \"scattercarpet\": [{\"marker\": {\"colorbar\": {\"outlinewidth\": 0, \"ticks\": \"\"}}, \"type\": \"scattercarpet\"}], \"scattergeo\": [{\"marker\": {\"colorbar\": {\"outlinewidth\": 0, \"ticks\": \"\"}}, \"type\": \"scattergeo\"}], \"scattergl\": [{\"marker\": {\"colorbar\": {\"outlinewidth\": 0, \"ticks\": \"\"}}, \"type\": \"scattergl\"}], \"scattermapbox\": [{\"marker\": {\"colorbar\": {\"outlinewidth\": 0, \"ticks\": \"\"}}, \"type\": \"scattermapbox\"}], \"scatterpolar\": [{\"marker\": {\"colorbar\": {\"outlinewidth\": 0, \"ticks\": \"\"}}, \"type\": \"scatterpolar\"}], \"scatterpolargl\": [{\"marker\": {\"colorbar\": {\"outlinewidth\": 0, \"ticks\": \"\"}}, \"type\": \"scatterpolargl\"}], \"scatterternary\": [{\"marker\": {\"colorbar\": {\"outlinewidth\": 0, \"ticks\": \"\"}}, \"type\": \"scatterternary\"}], \"surface\": [{\"colorbar\": {\"outlinewidth\": 0, \"ticks\": \"\"}, \"colorscale\": [[0.0, \"#0d0887\"], [0.1111111111111111, \"#46039f\"], [0.2222222222222222, \"#7201a8\"], [0.3333333333333333, \"#9c179e\"], [0.4444444444444444, \"#bd3786\"], [0.5555555555555556, \"#d8576b\"], [0.6666666666666666, \"#ed7953\"], [0.7777777777777778, \"#fb9f3a\"], [0.8888888888888888, \"#fdca26\"], [1.0, \"#f0f921\"]], \"type\": \"surface\"}], \"table\": [{\"cells\": {\"fill\": {\"color\": \"#EBF0F8\"}, \"line\": {\"color\": \"white\"}}, \"header\": {\"fill\": {\"color\": \"#C8D4E3\"}, \"line\": {\"color\": \"white\"}}, \"type\": \"table\"}]}, \"layout\": {\"annotationdefaults\": {\"arrowcolor\": \"#2a3f5f\", \"arrowhead\": 0, \"arrowwidth\": 1}, \"coloraxis\": {\"colorbar\": {\"outlinewidth\": 0, \"ticks\": \"\"}}, \"colorscale\": {\"diverging\": [[0, \"#8e0152\"], [0.1, \"#c51b7d\"], [0.2, \"#de77ae\"], [0.3, \"#f1b6da\"], [0.4, \"#fde0ef\"], [0.5, \"#f7f7f7\"], [0.6, \"#e6f5d0\"], [0.7, \"#b8e186\"], [0.8, \"#7fbc41\"], [0.9, \"#4d9221\"], [1, \"#276419\"]], \"sequential\": [[0.0, \"#0d0887\"], [0.1111111111111111, \"#46039f\"], [0.2222222222222222, \"#7201a8\"], [0.3333333333333333, \"#9c179e\"], [0.4444444444444444, \"#bd3786\"], [0.5555555555555556, \"#d8576b\"], [0.6666666666666666, \"#ed7953\"], [0.7777777777777778, \"#fb9f3a\"], [0.8888888888888888, \"#fdca26\"], [1.0, \"#f0f921\"]], \"sequentialminus\": [[0.0, \"#0d0887\"], [0.1111111111111111, \"#46039f\"], [0.2222222222222222, \"#7201a8\"], [0.3333333333333333, \"#9c179e\"], [0.4444444444444444, \"#bd3786\"], [0.5555555555555556, \"#d8576b\"], [0.6666666666666666, \"#ed7953\"], [0.7777777777777778, \"#fb9f3a\"], [0.8888888888888888, \"#fdca26\"], [1.0, \"#f0f921\"]]}, \"colorway\": [\"#636efa\", \"#EF553B\", \"#00cc96\", \"#ab63fa\", \"#FFA15A\", \"#19d3f3\", \"#FF6692\", \"#B6E880\", \"#FF97FF\", \"#FECB52\"], \"font\": {\"color\": \"#2a3f5f\"}, \"geo\": {\"bgcolor\": \"white\", \"lakecolor\": \"white\", \"landcolor\": \"#E5ECF6\", \"showlakes\": true, \"showland\": true, \"subunitcolor\": \"white\"}, \"hoverlabel\": {\"align\": \"left\"}, \"hovermode\": \"closest\", \"mapbox\": {\"style\": \"light\"}, \"paper_bgcolor\": \"white\", \"plot_bgcolor\": \"#E5ECF6\", \"polar\": {\"angularaxis\": {\"gridcolor\": \"white\", \"linecolor\": \"white\", \"ticks\": \"\"}, \"bgcolor\": \"#E5ECF6\", \"radialaxis\": {\"gridcolor\": \"white\", \"linecolor\": \"white\", \"ticks\": \"\"}}, \"scene\": {\"xaxis\": {\"backgroundcolor\": \"#E5ECF6\", \"gridcolor\": \"white\", \"gridwidth\": 2, \"linecolor\": \"white\", \"showbackground\": true, \"ticks\": \"\", \"zerolinecolor\": \"white\"}, \"yaxis\": {\"backgroundcolor\": \"#E5ECF6\", \"gridcolor\": \"white\", \"gridwidth\": 2, \"linecolor\": \"white\", \"showbackground\": true, \"ticks\": \"\", \"zerolinecolor\": \"white\"}, \"zaxis\": {\"backgroundcolor\": \"#E5ECF6\", \"gridcolor\": \"white\", \"gridwidth\": 2, \"linecolor\": \"white\", \"showbackground\": true, \"ticks\": \"\", \"zerolinecolor\": \"white\"}}, \"shapedefaults\": {\"line\": {\"color\": \"#2a3f5f\"}}, \"ternary\": {\"aaxis\": {\"gridcolor\": \"white\", \"linecolor\": \"white\", \"ticks\": \"\"}, \"baxis\": {\"gridcolor\": \"white\", \"linecolor\": \"white\", \"ticks\": \"\"}, \"bgcolor\": \"#E5ECF6\", \"caxis\": {\"gridcolor\": \"white\", \"linecolor\": \"white\", \"ticks\": \"\"}}, \"title\": {\"x\": 0.05}, \"xaxis\": {\"automargin\": true, \"gridcolor\": \"white\", \"linecolor\": \"white\", \"ticks\": \"\", \"title\": {\"standoff\": 15}, \"zerolinecolor\": \"white\", \"zerolinewidth\": 2}, \"yaxis\": {\"automargin\": true, \"gridcolor\": \"white\", \"linecolor\": \"white\", \"ticks\": \"\", \"title\": {\"standoff\": 15}, \"zerolinecolor\": \"white\", \"zerolinewidth\": 2}}}, \"title\": {\"font\": {\"color\": \"#4D5663\"}}, \"xaxis\": {\"gridcolor\": \"#E1E5ED\", \"showgrid\": true, \"tickfont\": {\"color\": \"#4D5663\"}, \"title\": {\"font\": {\"color\": \"#4D5663\"}, \"text\": \"\"}, \"zerolinecolor\": \"#E1E5ED\"}, \"yaxis\": {\"gridcolor\": \"#E1E5ED\", \"showgrid\": true, \"tickfont\": {\"color\": \"#4D5663\"}, \"title\": {\"font\": {\"color\": \"#4D5663\"}, \"text\": \"\"}, \"zerolinecolor\": \"#E1E5ED\"}},\n",
       "                        {\"showLink\": true, \"linkText\": \"Export to plot.ly\", \"plotlyServerURL\": \"https://plot.ly\", \"responsive\": true}\n",
       "                    ).then(function(){\n",
       "                            \n",
       "var gd = document.getElementById('73185dfe-6da8-4644-a7c7-f232a364371d');\n",
       "var x = new MutationObserver(function (mutations, observer) {{\n",
       "        var display = window.getComputedStyle(gd).display;\n",
       "        if (!display || display === 'none') {{\n",
       "            console.log([gd, 'removed!']);\n",
       "            Plotly.purge(gd);\n",
       "            observer.disconnect();\n",
       "        }}\n",
       "}});\n",
       "\n",
       "// Listen for the removal of the full notebook cells\n",
       "var notebookContainer = gd.closest('#notebook-container');\n",
       "if (notebookContainer) {{\n",
       "    x.observe(notebookContainer, {childList: true});\n",
       "}}\n",
       "\n",
       "// Listen for the clearing of the current output cell\n",
       "var outputEl = gd.closest('.output');\n",
       "if (outputEl) {{\n",
       "    x.observe(outputEl, {childList: true});\n",
       "}}\n",
       "\n",
       "                        })\n",
       "                };\n",
       "                });\n",
       "            </script>\n",
       "        </div>"
      ]
     },
     "metadata": {},
     "output_type": "display_data"
    },
    {
     "data": {
      "text/plain": [
       "<Figure size 432x288 with 0 Axes>"
      ]
     },
     "metadata": {},
     "output_type": "display_data"
    }
   ],
   "source": [
    "df[['Shift','DTS','Day','PartySize','MenuItem','ItemQty','ItemPrice']].iplot(kind='box')\n",
    "plt.tight_layout()"
   ]
  },
  {
   "cell_type": "code",
   "execution_count": 346,
   "metadata": {},
   "outputs": [
    {
     "data": {
      "application/vnd.plotly.v1+json": {
       "config": {
        "linkText": "Export to plot.ly",
        "plotlyServerURL": "https://plot.ly",
        "showLink": true
       },
       "data": [
        {
         "line": {
          "color": "rgba(255, 153, 51, 1.0)",
          "dash": "solid",
          "shape": "linear",
          "width": 1.3
         },
         "marker": {
          "size": 10,
          "symbol": "circle"
         },
         "mode": "markers",
         "name": "ItemPrice",
         "text": "",
         "type": "scatter",
         "x": [
          "Lunch",
          "Lunch",
          "Lunch",
          "Lunch",
          "Lunch",
          "Lunch",
          "Lunch",
          "Lunch",
          "Lunch",
          "Lunch",
          "Lunch",
          "Lunch",
          "Lunch",
          "Lunch",
          "Lunch",
          "Lunch",
          "Lunch",
          "Lunch",
          "Lunch",
          "Lunch",
          "Lunch",
          "Lunch",
          "Lunch",
          "Lunch",
          "Lunch",
          "Lunch",
          "Lunch",
          "Lunch",
          "Lunch",
          "Lunch",
          "Lunch",
          "Lunch",
          "Lunch",
          "Lunch",
          "Lunch",
          "Lunch",
          "Lunch",
          "Lunch",
          "Lunch",
          "Lunch",
          "Lunch",
          "Lunch",
          "Lunch",
          "Lunch",
          "Lunch",
          "Lunch",
          "Lunch",
          "Lunch",
          "Lunch",
          "Lunch",
          "Lunch",
          "Lunch",
          "Lunch",
          "Lunch",
          "Lunch",
          "Lunch",
          "Lunch",
          "Lunch",
          "Lunch",
          "Lunch",
          "Dinner",
          "Dinner",
          "Dinner",
          "Dinner",
          "Dinner",
          "Dinner",
          "Dinner",
          "Dinner",
          "Dinner",
          "Dinner",
          "Dinner",
          "Dinner",
          "Dinner",
          "Dinner",
          "Dinner",
          "Dinner",
          "Dinner",
          "Dinner",
          "Dinner",
          "Dinner",
          "Dinner",
          "Dinner",
          "Dinner",
          "Dinner",
          "Dinner",
          "Dinner",
          "Dinner",
          "Dinner",
          "Dinner",
          "Dinner",
          "Dinner",
          "Dinner",
          "Dinner",
          "Dinner",
          "Dinner",
          "Dinner",
          "Dinner",
          "Dinner",
          "Dinner",
          "Dinner",
          "Lunch",
          "Lunch",
          "Lunch",
          "Lunch",
          "Lunch",
          "Lunch",
          "Lunch",
          "Lunch",
          "Lunch",
          "Lunch",
          "Lunch",
          "Lunch",
          "Lunch",
          "Lunch",
          "Lunch",
          "Lunch",
          "Lunch",
          "Lunch",
          "Lunch",
          "Lunch",
          "Lunch",
          "Lunch",
          "Lunch",
          "Lunch",
          "Lunch",
          "Lunch",
          "Lunch",
          "Lunch",
          "Lunch",
          "Lunch",
          "Lunch",
          "Lunch",
          "Lunch",
          "Lunch",
          "Lunch",
          "Lunch",
          "Lunch",
          "Lunch",
          "Lunch",
          "Lunch",
          "Lunch",
          "Lunch",
          "Lunch",
          "Lunch",
          "Lunch",
          "Lunch",
          "Lunch",
          "Lunch",
          "Lunch",
          "Lunch",
          "Lunch",
          "Lunch",
          "Lunch",
          "Lunch",
          "Lunch",
          "Lunch",
          "Lunch",
          "Lunch",
          "Lunch",
          "Lunch",
          "Dinner",
          "Dinner",
          "Dinner",
          "Dinner",
          "Dinner",
          "Dinner",
          "Dinner",
          "Dinner",
          "Dinner",
          "Dinner",
          "Dinner",
          "Dinner",
          "Dinner",
          "Dinner",
          "Dinner",
          "Dinner",
          "Dinner",
          "Dinner",
          "Dinner",
          "Dinner",
          "Dinner",
          "Dinner",
          "Dinner",
          "Dinner",
          "Dinner",
          "Dinner",
          "Dinner",
          "Dinner",
          "Dinner",
          "Dinner",
          "Dinner",
          "Dinner",
          "Dinner",
          "Dinner",
          "Dinner",
          "Dinner",
          "Dinner",
          "Dinner",
          "Dinner",
          "Dinner"
         ],
         "y": [
          14,
          11,
          15,
          16,
          3.5,
          2.75,
          14,
          14,
          18,
          19,
          5,
          18,
          3.5,
          6,
          8,
          14,
          18,
          19,
          5,
          11,
          11,
          16,
          16,
          18,
          5,
          3.5,
          2.75,
          6,
          7,
          16,
          19,
          5,
          3.5,
          6,
          16,
          18,
          5,
          3.5,
          2.75,
          11,
          16,
          16,
          15,
          5,
          5,
          3.5,
          16,
          16,
          18,
          18,
          5,
          2.75,
          2.75,
          6,
          6,
          7,
          16,
          18,
          18,
          5,
          14,
          15,
          19,
          19,
          5,
          3.5,
          2.75,
          8,
          7,
          14,
          11,
          15,
          14,
          15,
          16,
          16,
          18,
          18,
          18,
          5,
          6,
          3.5,
          2.75,
          6,
          7,
          6,
          8,
          7,
          11,
          18,
          19,
          5,
          3.5,
          2.75,
          11,
          18,
          19,
          5,
          3.5,
          2.75,
          5,
          5,
          11,
          18,
          16,
          8,
          5,
          16,
          6,
          7,
          11,
          15,
          6,
          16,
          2.75,
          16,
          18,
          18,
          19,
          2.75,
          16,
          5,
          2.75,
          7,
          16,
          6,
          18,
          7,
          19,
          11,
          16,
          11,
          3.5,
          19,
          18,
          5,
          11,
          14,
          18,
          16,
          3.5,
          18,
          18,
          8,
          18,
          11,
          18,
          19,
          5,
          7,
          15,
          2.75,
          7,
          3.5,
          2.75,
          19,
          19,
          5,
          18,
          3.5,
          11,
          5,
          14,
          15,
          5,
          16,
          14,
          3.5,
          2.75,
          5,
          8,
          3.5,
          3.5,
          2.75,
          18,
          18,
          3.5,
          14,
          14,
          6,
          14,
          5,
          6,
          19,
          15,
          3.5,
          6,
          16,
          14,
          18,
          6,
          15,
          6,
          16,
          5,
          5,
          2.75,
          2.75,
          16,
          3.5
         ]
        }
       ],
       "layout": {
        "legend": {
         "bgcolor": "#F5F6F9",
         "font": {
          "color": "#4D5663"
         }
        },
        "paper_bgcolor": "#F5F6F9",
        "plot_bgcolor": "#F5F6F9",
        "template": {
         "data": {
          "bar": [
           {
            "error_x": {
             "color": "#2a3f5f"
            },
            "error_y": {
             "color": "#2a3f5f"
            },
            "marker": {
             "line": {
              "color": "#E5ECF6",
              "width": 0.5
             }
            },
            "type": "bar"
           }
          ],
          "barpolar": [
           {
            "marker": {
             "line": {
              "color": "#E5ECF6",
              "width": 0.5
             }
            },
            "type": "barpolar"
           }
          ],
          "carpet": [
           {
            "aaxis": {
             "endlinecolor": "#2a3f5f",
             "gridcolor": "white",
             "linecolor": "white",
             "minorgridcolor": "white",
             "startlinecolor": "#2a3f5f"
            },
            "baxis": {
             "endlinecolor": "#2a3f5f",
             "gridcolor": "white",
             "linecolor": "white",
             "minorgridcolor": "white",
             "startlinecolor": "#2a3f5f"
            },
            "type": "carpet"
           }
          ],
          "choropleth": [
           {
            "colorbar": {
             "outlinewidth": 0,
             "ticks": ""
            },
            "type": "choropleth"
           }
          ],
          "contour": [
           {
            "colorbar": {
             "outlinewidth": 0,
             "ticks": ""
            },
            "colorscale": [
             [
              0,
              "#0d0887"
             ],
             [
              0.1111111111111111,
              "#46039f"
             ],
             [
              0.2222222222222222,
              "#7201a8"
             ],
             [
              0.3333333333333333,
              "#9c179e"
             ],
             [
              0.4444444444444444,
              "#bd3786"
             ],
             [
              0.5555555555555556,
              "#d8576b"
             ],
             [
              0.6666666666666666,
              "#ed7953"
             ],
             [
              0.7777777777777778,
              "#fb9f3a"
             ],
             [
              0.8888888888888888,
              "#fdca26"
             ],
             [
              1,
              "#f0f921"
             ]
            ],
            "type": "contour"
           }
          ],
          "contourcarpet": [
           {
            "colorbar": {
             "outlinewidth": 0,
             "ticks": ""
            },
            "type": "contourcarpet"
           }
          ],
          "heatmap": [
           {
            "colorbar": {
             "outlinewidth": 0,
             "ticks": ""
            },
            "colorscale": [
             [
              0,
              "#0d0887"
             ],
             [
              0.1111111111111111,
              "#46039f"
             ],
             [
              0.2222222222222222,
              "#7201a8"
             ],
             [
              0.3333333333333333,
              "#9c179e"
             ],
             [
              0.4444444444444444,
              "#bd3786"
             ],
             [
              0.5555555555555556,
              "#d8576b"
             ],
             [
              0.6666666666666666,
              "#ed7953"
             ],
             [
              0.7777777777777778,
              "#fb9f3a"
             ],
             [
              0.8888888888888888,
              "#fdca26"
             ],
             [
              1,
              "#f0f921"
             ]
            ],
            "type": "heatmap"
           }
          ],
          "heatmapgl": [
           {
            "colorbar": {
             "outlinewidth": 0,
             "ticks": ""
            },
            "colorscale": [
             [
              0,
              "#0d0887"
             ],
             [
              0.1111111111111111,
              "#46039f"
             ],
             [
              0.2222222222222222,
              "#7201a8"
             ],
             [
              0.3333333333333333,
              "#9c179e"
             ],
             [
              0.4444444444444444,
              "#bd3786"
             ],
             [
              0.5555555555555556,
              "#d8576b"
             ],
             [
              0.6666666666666666,
              "#ed7953"
             ],
             [
              0.7777777777777778,
              "#fb9f3a"
             ],
             [
              0.8888888888888888,
              "#fdca26"
             ],
             [
              1,
              "#f0f921"
             ]
            ],
            "type": "heatmapgl"
           }
          ],
          "histogram": [
           {
            "marker": {
             "colorbar": {
              "outlinewidth": 0,
              "ticks": ""
             }
            },
            "type": "histogram"
           }
          ],
          "histogram2d": [
           {
            "colorbar": {
             "outlinewidth": 0,
             "ticks": ""
            },
            "colorscale": [
             [
              0,
              "#0d0887"
             ],
             [
              0.1111111111111111,
              "#46039f"
             ],
             [
              0.2222222222222222,
              "#7201a8"
             ],
             [
              0.3333333333333333,
              "#9c179e"
             ],
             [
              0.4444444444444444,
              "#bd3786"
             ],
             [
              0.5555555555555556,
              "#d8576b"
             ],
             [
              0.6666666666666666,
              "#ed7953"
             ],
             [
              0.7777777777777778,
              "#fb9f3a"
             ],
             [
              0.8888888888888888,
              "#fdca26"
             ],
             [
              1,
              "#f0f921"
             ]
            ],
            "type": "histogram2d"
           }
          ],
          "histogram2dcontour": [
           {
            "colorbar": {
             "outlinewidth": 0,
             "ticks": ""
            },
            "colorscale": [
             [
              0,
              "#0d0887"
             ],
             [
              0.1111111111111111,
              "#46039f"
             ],
             [
              0.2222222222222222,
              "#7201a8"
             ],
             [
              0.3333333333333333,
              "#9c179e"
             ],
             [
              0.4444444444444444,
              "#bd3786"
             ],
             [
              0.5555555555555556,
              "#d8576b"
             ],
             [
              0.6666666666666666,
              "#ed7953"
             ],
             [
              0.7777777777777778,
              "#fb9f3a"
             ],
             [
              0.8888888888888888,
              "#fdca26"
             ],
             [
              1,
              "#f0f921"
             ]
            ],
            "type": "histogram2dcontour"
           }
          ],
          "mesh3d": [
           {
            "colorbar": {
             "outlinewidth": 0,
             "ticks": ""
            },
            "type": "mesh3d"
           }
          ],
          "parcoords": [
           {
            "line": {
             "colorbar": {
              "outlinewidth": 0,
              "ticks": ""
             }
            },
            "type": "parcoords"
           }
          ],
          "pie": [
           {
            "automargin": true,
            "type": "pie"
           }
          ],
          "scatter": [
           {
            "marker": {
             "colorbar": {
              "outlinewidth": 0,
              "ticks": ""
             }
            },
            "type": "scatter"
           }
          ],
          "scatter3d": [
           {
            "line": {
             "colorbar": {
              "outlinewidth": 0,
              "ticks": ""
             }
            },
            "marker": {
             "colorbar": {
              "outlinewidth": 0,
              "ticks": ""
             }
            },
            "type": "scatter3d"
           }
          ],
          "scattercarpet": [
           {
            "marker": {
             "colorbar": {
              "outlinewidth": 0,
              "ticks": ""
             }
            },
            "type": "scattercarpet"
           }
          ],
          "scattergeo": [
           {
            "marker": {
             "colorbar": {
              "outlinewidth": 0,
              "ticks": ""
             }
            },
            "type": "scattergeo"
           }
          ],
          "scattergl": [
           {
            "marker": {
             "colorbar": {
              "outlinewidth": 0,
              "ticks": ""
             }
            },
            "type": "scattergl"
           }
          ],
          "scattermapbox": [
           {
            "marker": {
             "colorbar": {
              "outlinewidth": 0,
              "ticks": ""
             }
            },
            "type": "scattermapbox"
           }
          ],
          "scatterpolar": [
           {
            "marker": {
             "colorbar": {
              "outlinewidth": 0,
              "ticks": ""
             }
            },
            "type": "scatterpolar"
           }
          ],
          "scatterpolargl": [
           {
            "marker": {
             "colorbar": {
              "outlinewidth": 0,
              "ticks": ""
             }
            },
            "type": "scatterpolargl"
           }
          ],
          "scatterternary": [
           {
            "marker": {
             "colorbar": {
              "outlinewidth": 0,
              "ticks": ""
             }
            },
            "type": "scatterternary"
           }
          ],
          "surface": [
           {
            "colorbar": {
             "outlinewidth": 0,
             "ticks": ""
            },
            "colorscale": [
             [
              0,
              "#0d0887"
             ],
             [
              0.1111111111111111,
              "#46039f"
             ],
             [
              0.2222222222222222,
              "#7201a8"
             ],
             [
              0.3333333333333333,
              "#9c179e"
             ],
             [
              0.4444444444444444,
              "#bd3786"
             ],
             [
              0.5555555555555556,
              "#d8576b"
             ],
             [
              0.6666666666666666,
              "#ed7953"
             ],
             [
              0.7777777777777778,
              "#fb9f3a"
             ],
             [
              0.8888888888888888,
              "#fdca26"
             ],
             [
              1,
              "#f0f921"
             ]
            ],
            "type": "surface"
           }
          ],
          "table": [
           {
            "cells": {
             "fill": {
              "color": "#EBF0F8"
             },
             "line": {
              "color": "white"
             }
            },
            "header": {
             "fill": {
              "color": "#C8D4E3"
             },
             "line": {
              "color": "white"
             }
            },
            "type": "table"
           }
          ]
         },
         "layout": {
          "annotationdefaults": {
           "arrowcolor": "#2a3f5f",
           "arrowhead": 0,
           "arrowwidth": 1
          },
          "coloraxis": {
           "colorbar": {
            "outlinewidth": 0,
            "ticks": ""
           }
          },
          "colorscale": {
           "diverging": [
            [
             0,
             "#8e0152"
            ],
            [
             0.1,
             "#c51b7d"
            ],
            [
             0.2,
             "#de77ae"
            ],
            [
             0.3,
             "#f1b6da"
            ],
            [
             0.4,
             "#fde0ef"
            ],
            [
             0.5,
             "#f7f7f7"
            ],
            [
             0.6,
             "#e6f5d0"
            ],
            [
             0.7,
             "#b8e186"
            ],
            [
             0.8,
             "#7fbc41"
            ],
            [
             0.9,
             "#4d9221"
            ],
            [
             1,
             "#276419"
            ]
           ],
           "sequential": [
            [
             0,
             "#0d0887"
            ],
            [
             0.1111111111111111,
             "#46039f"
            ],
            [
             0.2222222222222222,
             "#7201a8"
            ],
            [
             0.3333333333333333,
             "#9c179e"
            ],
            [
             0.4444444444444444,
             "#bd3786"
            ],
            [
             0.5555555555555556,
             "#d8576b"
            ],
            [
             0.6666666666666666,
             "#ed7953"
            ],
            [
             0.7777777777777778,
             "#fb9f3a"
            ],
            [
             0.8888888888888888,
             "#fdca26"
            ],
            [
             1,
             "#f0f921"
            ]
           ],
           "sequentialminus": [
            [
             0,
             "#0d0887"
            ],
            [
             0.1111111111111111,
             "#46039f"
            ],
            [
             0.2222222222222222,
             "#7201a8"
            ],
            [
             0.3333333333333333,
             "#9c179e"
            ],
            [
             0.4444444444444444,
             "#bd3786"
            ],
            [
             0.5555555555555556,
             "#d8576b"
            ],
            [
             0.6666666666666666,
             "#ed7953"
            ],
            [
             0.7777777777777778,
             "#fb9f3a"
            ],
            [
             0.8888888888888888,
             "#fdca26"
            ],
            [
             1,
             "#f0f921"
            ]
           ]
          },
          "colorway": [
           "#636efa",
           "#EF553B",
           "#00cc96",
           "#ab63fa",
           "#FFA15A",
           "#19d3f3",
           "#FF6692",
           "#B6E880",
           "#FF97FF",
           "#FECB52"
          ],
          "font": {
           "color": "#2a3f5f"
          },
          "geo": {
           "bgcolor": "white",
           "lakecolor": "white",
           "landcolor": "#E5ECF6",
           "showlakes": true,
           "showland": true,
           "subunitcolor": "white"
          },
          "hoverlabel": {
           "align": "left"
          },
          "hovermode": "closest",
          "mapbox": {
           "style": "light"
          },
          "paper_bgcolor": "white",
          "plot_bgcolor": "#E5ECF6",
          "polar": {
           "angularaxis": {
            "gridcolor": "white",
            "linecolor": "white",
            "ticks": ""
           },
           "bgcolor": "#E5ECF6",
           "radialaxis": {
            "gridcolor": "white",
            "linecolor": "white",
            "ticks": ""
           }
          },
          "scene": {
           "xaxis": {
            "backgroundcolor": "#E5ECF6",
            "gridcolor": "white",
            "gridwidth": 2,
            "linecolor": "white",
            "showbackground": true,
            "ticks": "",
            "zerolinecolor": "white"
           },
           "yaxis": {
            "backgroundcolor": "#E5ECF6",
            "gridcolor": "white",
            "gridwidth": 2,
            "linecolor": "white",
            "showbackground": true,
            "ticks": "",
            "zerolinecolor": "white"
           },
           "zaxis": {
            "backgroundcolor": "#E5ECF6",
            "gridcolor": "white",
            "gridwidth": 2,
            "linecolor": "white",
            "showbackground": true,
            "ticks": "",
            "zerolinecolor": "white"
           }
          },
          "shapedefaults": {
           "line": {
            "color": "#2a3f5f"
           }
          },
          "ternary": {
           "aaxis": {
            "gridcolor": "white",
            "linecolor": "white",
            "ticks": ""
           },
           "baxis": {
            "gridcolor": "white",
            "linecolor": "white",
            "ticks": ""
           },
           "bgcolor": "#E5ECF6",
           "caxis": {
            "gridcolor": "white",
            "linecolor": "white",
            "ticks": ""
           }
          },
          "title": {
           "x": 0.05
          },
          "xaxis": {
           "automargin": true,
           "gridcolor": "white",
           "linecolor": "white",
           "ticks": "",
           "title": {
            "standoff": 15
           },
           "zerolinecolor": "white",
           "zerolinewidth": 2
          },
          "yaxis": {
           "automargin": true,
           "gridcolor": "white",
           "linecolor": "white",
           "ticks": "",
           "title": {
            "standoff": 15
           },
           "zerolinecolor": "white",
           "zerolinewidth": 2
          }
         }
        },
        "title": {
         "font": {
          "color": "#4D5663"
         }
        },
        "xaxis": {
         "gridcolor": "#E1E5ED",
         "showgrid": true,
         "tickfont": {
          "color": "#4D5663"
         },
         "title": {
          "font": {
           "color": "#4D5663"
          },
          "text": ""
         },
         "zerolinecolor": "#E1E5ED"
        },
        "yaxis": {
         "gridcolor": "#E1E5ED",
         "showgrid": true,
         "tickfont": {
          "color": "#4D5663"
         },
         "title": {
          "font": {
           "color": "#4D5663"
          },
          "text": ""
         },
         "zerolinecolor": "#E1E5ED"
        }
       }
      },
      "text/html": [
       "<div>\n",
       "        \n",
       "        \n",
       "            <div id=\"1150c01c-9878-4e5f-b62e-23df409396ed\" class=\"plotly-graph-div\" style=\"height:525px; width:100%;\"></div>\n",
       "            <script type=\"text/javascript\">\n",
       "                require([\"plotly\"], function(Plotly) {\n",
       "                    window.PLOTLYENV=window.PLOTLYENV || {};\n",
       "                    window.PLOTLYENV.BASE_URL='https://plot.ly';\n",
       "                    \n",
       "                if (document.getElementById(\"1150c01c-9878-4e5f-b62e-23df409396ed\")) {\n",
       "                    Plotly.newPlot(\n",
       "                        '1150c01c-9878-4e5f-b62e-23df409396ed',\n",
       "                        [{\"line\": {\"color\": \"rgba(255, 153, 51, 1.0)\", \"dash\": \"solid\", \"shape\": \"linear\", \"width\": 1.3}, \"marker\": {\"size\": 10, \"symbol\": \"circle\"}, \"mode\": \"markers\", \"name\": \"ItemPrice\", \"text\": \"\", \"type\": \"scatter\", \"x\": [\"Lunch\", \"Lunch\", \"Lunch\", \"Lunch\", \"Lunch\", \"Lunch\", \"Lunch\", \"Lunch\", \"Lunch\", \"Lunch\", \"Lunch\", \"Lunch\", \"Lunch\", \"Lunch\", \"Lunch\", \"Lunch\", \"Lunch\", \"Lunch\", \"Lunch\", \"Lunch\", \"Lunch\", \"Lunch\", \"Lunch\", \"Lunch\", \"Lunch\", \"Lunch\", \"Lunch\", \"Lunch\", \"Lunch\", \"Lunch\", \"Lunch\", \"Lunch\", \"Lunch\", \"Lunch\", \"Lunch\", \"Lunch\", \"Lunch\", \"Lunch\", \"Lunch\", \"Lunch\", \"Lunch\", \"Lunch\", \"Lunch\", \"Lunch\", \"Lunch\", \"Lunch\", \"Lunch\", \"Lunch\", \"Lunch\", \"Lunch\", \"Lunch\", \"Lunch\", \"Lunch\", \"Lunch\", \"Lunch\", \"Lunch\", \"Lunch\", \"Lunch\", \"Lunch\", \"Lunch\", \"Dinner\", \"Dinner\", \"Dinner\", \"Dinner\", \"Dinner\", \"Dinner\", \"Dinner\", \"Dinner\", \"Dinner\", \"Dinner\", \"Dinner\", \"Dinner\", \"Dinner\", \"Dinner\", \"Dinner\", \"Dinner\", \"Dinner\", \"Dinner\", \"Dinner\", \"Dinner\", \"Dinner\", \"Dinner\", \"Dinner\", \"Dinner\", \"Dinner\", \"Dinner\", \"Dinner\", \"Dinner\", \"Dinner\", \"Dinner\", \"Dinner\", \"Dinner\", \"Dinner\", \"Dinner\", \"Dinner\", \"Dinner\", \"Dinner\", \"Dinner\", \"Dinner\", \"Dinner\", \"Lunch\", \"Lunch\", \"Lunch\", \"Lunch\", \"Lunch\", \"Lunch\", \"Lunch\", \"Lunch\", \"Lunch\", \"Lunch\", \"Lunch\", \"Lunch\", \"Lunch\", \"Lunch\", \"Lunch\", \"Lunch\", \"Lunch\", \"Lunch\", \"Lunch\", \"Lunch\", \"Lunch\", \"Lunch\", \"Lunch\", \"Lunch\", \"Lunch\", \"Lunch\", \"Lunch\", \"Lunch\", \"Lunch\", \"Lunch\", \"Lunch\", \"Lunch\", \"Lunch\", \"Lunch\", \"Lunch\", \"Lunch\", \"Lunch\", \"Lunch\", \"Lunch\", \"Lunch\", \"Lunch\", \"Lunch\", \"Lunch\", \"Lunch\", \"Lunch\", \"Lunch\", \"Lunch\", \"Lunch\", \"Lunch\", \"Lunch\", \"Lunch\", \"Lunch\", \"Lunch\", \"Lunch\", \"Lunch\", \"Lunch\", \"Lunch\", \"Lunch\", \"Lunch\", \"Lunch\", \"Dinner\", \"Dinner\", \"Dinner\", \"Dinner\", \"Dinner\", \"Dinner\", \"Dinner\", \"Dinner\", \"Dinner\", \"Dinner\", \"Dinner\", \"Dinner\", \"Dinner\", \"Dinner\", \"Dinner\", \"Dinner\", \"Dinner\", \"Dinner\", \"Dinner\", \"Dinner\", \"Dinner\", \"Dinner\", \"Dinner\", \"Dinner\", \"Dinner\", \"Dinner\", \"Dinner\", \"Dinner\", \"Dinner\", \"Dinner\", \"Dinner\", \"Dinner\", \"Dinner\", \"Dinner\", \"Dinner\", \"Dinner\", \"Dinner\", \"Dinner\", \"Dinner\", \"Dinner\"], \"y\": [14.0, 11.0, 15.0, 16.0, 3.5, 2.75, 14.0, 14.0, 18.0, 19.0, 5.0, 18.0, 3.5, 6.0, 8.0, 14.0, 18.0, 19.0, 5.0, 11.0, 11.0, 16.0, 16.0, 18.0, 5.0, 3.5, 2.75, 6.0, 7.0, 16.0, 19.0, 5.0, 3.5, 6.0, 16.0, 18.0, 5.0, 3.5, 2.75, 11.0, 16.0, 16.0, 15.0, 5.0, 5.0, 3.5, 16.0, 16.0, 18.0, 18.0, 5.0, 2.75, 2.75, 6.0, 6.0, 7.0, 16.0, 18.0, 18.0, 5.0, 14.0, 15.0, 19.0, 19.0, 5.0, 3.5, 2.75, 8.0, 7.0, 14.0, 11.0, 15.0, 14.0, 15.0, 16.0, 16.0, 18.0, 18.0, 18.0, 5.0, 6.0, 3.5, 2.75, 6.0, 7.0, 6.0, 8.0, 7.0, 11.0, 18.0, 19.0, 5.0, 3.5, 2.75, 11.0, 18.0, 19.0, 5.0, 3.5, 2.75, 5.0, 5.0, 11.0, 18.0, 16.0, 8.0, 5.0, 16.0, 6.0, 7.0, 11.0, 15.0, 6.0, 16.0, 2.75, 16.0, 18.0, 18.0, 19.0, 2.75, 16.0, 5.0, 2.75, 7.0, 16.0, 6.0, 18.0, 7.0, 19.0, 11.0, 16.0, 11.0, 3.5, 19.0, 18.0, 5.0, 11.0, 14.0, 18.0, 16.0, 3.5, 18.0, 18.0, 8.0, 18.0, 11.0, 18.0, 19.0, 5.0, 7.0, 15.0, 2.75, 7.0, 3.5, 2.75, 19.0, 19.0, 5.0, 18.0, 3.5, 11.0, 5.0, 14.0, 15.0, 5.0, 16.0, 14.0, 3.5, 2.75, 5.0, 8.0, 3.5, 3.5, 2.75, 18.0, 18.0, 3.5, 14.0, 14.0, 6.0, 14.0, 5.0, 6.0, 19.0, 15.0, 3.5, 6.0, 16.0, 14.0, 18.0, 6.0, 15.0, 6.0, 16.0, 5.0, 5.0, 2.75, 2.75, 16.0, 3.5]}],\n",
       "                        {\"legend\": {\"bgcolor\": \"#F5F6F9\", \"font\": {\"color\": \"#4D5663\"}}, \"paper_bgcolor\": \"#F5F6F9\", \"plot_bgcolor\": \"#F5F6F9\", \"template\": {\"data\": {\"bar\": [{\"error_x\": {\"color\": \"#2a3f5f\"}, \"error_y\": {\"color\": \"#2a3f5f\"}, \"marker\": {\"line\": {\"color\": \"#E5ECF6\", \"width\": 0.5}}, \"type\": \"bar\"}], \"barpolar\": [{\"marker\": {\"line\": {\"color\": \"#E5ECF6\", \"width\": 0.5}}, \"type\": \"barpolar\"}], \"carpet\": [{\"aaxis\": {\"endlinecolor\": \"#2a3f5f\", \"gridcolor\": \"white\", \"linecolor\": \"white\", \"minorgridcolor\": \"white\", \"startlinecolor\": \"#2a3f5f\"}, \"baxis\": {\"endlinecolor\": \"#2a3f5f\", \"gridcolor\": \"white\", \"linecolor\": \"white\", \"minorgridcolor\": \"white\", \"startlinecolor\": \"#2a3f5f\"}, \"type\": \"carpet\"}], \"choropleth\": [{\"colorbar\": {\"outlinewidth\": 0, \"ticks\": \"\"}, \"type\": \"choropleth\"}], \"contour\": [{\"colorbar\": {\"outlinewidth\": 0, \"ticks\": \"\"}, \"colorscale\": [[0.0, \"#0d0887\"], [0.1111111111111111, \"#46039f\"], [0.2222222222222222, \"#7201a8\"], [0.3333333333333333, \"#9c179e\"], [0.4444444444444444, \"#bd3786\"], [0.5555555555555556, \"#d8576b\"], [0.6666666666666666, \"#ed7953\"], [0.7777777777777778, \"#fb9f3a\"], [0.8888888888888888, \"#fdca26\"], [1.0, \"#f0f921\"]], \"type\": \"contour\"}], \"contourcarpet\": [{\"colorbar\": {\"outlinewidth\": 0, \"ticks\": \"\"}, \"type\": \"contourcarpet\"}], \"heatmap\": [{\"colorbar\": {\"outlinewidth\": 0, \"ticks\": \"\"}, \"colorscale\": [[0.0, \"#0d0887\"], [0.1111111111111111, \"#46039f\"], [0.2222222222222222, \"#7201a8\"], [0.3333333333333333, \"#9c179e\"], [0.4444444444444444, \"#bd3786\"], [0.5555555555555556, \"#d8576b\"], [0.6666666666666666, \"#ed7953\"], [0.7777777777777778, \"#fb9f3a\"], [0.8888888888888888, \"#fdca26\"], [1.0, \"#f0f921\"]], \"type\": \"heatmap\"}], \"heatmapgl\": [{\"colorbar\": {\"outlinewidth\": 0, \"ticks\": \"\"}, \"colorscale\": [[0.0, \"#0d0887\"], [0.1111111111111111, \"#46039f\"], [0.2222222222222222, \"#7201a8\"], [0.3333333333333333, \"#9c179e\"], [0.4444444444444444, \"#bd3786\"], [0.5555555555555556, \"#d8576b\"], [0.6666666666666666, \"#ed7953\"], [0.7777777777777778, \"#fb9f3a\"], [0.8888888888888888, \"#fdca26\"], [1.0, \"#f0f921\"]], \"type\": \"heatmapgl\"}], \"histogram\": [{\"marker\": {\"colorbar\": {\"outlinewidth\": 0, \"ticks\": \"\"}}, \"type\": \"histogram\"}], \"histogram2d\": [{\"colorbar\": {\"outlinewidth\": 0, \"ticks\": \"\"}, \"colorscale\": [[0.0, \"#0d0887\"], [0.1111111111111111, \"#46039f\"], [0.2222222222222222, \"#7201a8\"], [0.3333333333333333, \"#9c179e\"], [0.4444444444444444, \"#bd3786\"], [0.5555555555555556, \"#d8576b\"], [0.6666666666666666, \"#ed7953\"], [0.7777777777777778, \"#fb9f3a\"], [0.8888888888888888, \"#fdca26\"], [1.0, \"#f0f921\"]], \"type\": \"histogram2d\"}], \"histogram2dcontour\": [{\"colorbar\": {\"outlinewidth\": 0, \"ticks\": \"\"}, \"colorscale\": [[0.0, \"#0d0887\"], [0.1111111111111111, \"#46039f\"], [0.2222222222222222, \"#7201a8\"], [0.3333333333333333, \"#9c179e\"], [0.4444444444444444, \"#bd3786\"], [0.5555555555555556, \"#d8576b\"], [0.6666666666666666, \"#ed7953\"], [0.7777777777777778, \"#fb9f3a\"], [0.8888888888888888, \"#fdca26\"], [1.0, \"#f0f921\"]], \"type\": \"histogram2dcontour\"}], \"mesh3d\": [{\"colorbar\": {\"outlinewidth\": 0, \"ticks\": \"\"}, \"type\": \"mesh3d\"}], \"parcoords\": [{\"line\": {\"colorbar\": {\"outlinewidth\": 0, \"ticks\": \"\"}}, \"type\": \"parcoords\"}], \"pie\": [{\"automargin\": true, \"type\": \"pie\"}], \"scatter\": [{\"marker\": {\"colorbar\": {\"outlinewidth\": 0, \"ticks\": \"\"}}, \"type\": \"scatter\"}], \"scatter3d\": [{\"line\": {\"colorbar\": {\"outlinewidth\": 0, \"ticks\": \"\"}}, \"marker\": {\"colorbar\": {\"outlinewidth\": 0, \"ticks\": \"\"}}, \"type\": \"scatter3d\"}], \"scattercarpet\": [{\"marker\": {\"colorbar\": {\"outlinewidth\": 0, \"ticks\": \"\"}}, \"type\": \"scattercarpet\"}], \"scattergeo\": [{\"marker\": {\"colorbar\": {\"outlinewidth\": 0, \"ticks\": \"\"}}, \"type\": \"scattergeo\"}], \"scattergl\": [{\"marker\": {\"colorbar\": {\"outlinewidth\": 0, \"ticks\": \"\"}}, \"type\": \"scattergl\"}], \"scattermapbox\": [{\"marker\": {\"colorbar\": {\"outlinewidth\": 0, \"ticks\": \"\"}}, \"type\": \"scattermapbox\"}], \"scatterpolar\": [{\"marker\": {\"colorbar\": {\"outlinewidth\": 0, \"ticks\": \"\"}}, \"type\": \"scatterpolar\"}], \"scatterpolargl\": [{\"marker\": {\"colorbar\": {\"outlinewidth\": 0, \"ticks\": \"\"}}, \"type\": \"scatterpolargl\"}], \"scatterternary\": [{\"marker\": {\"colorbar\": {\"outlinewidth\": 0, \"ticks\": \"\"}}, \"type\": \"scatterternary\"}], \"surface\": [{\"colorbar\": {\"outlinewidth\": 0, \"ticks\": \"\"}, \"colorscale\": [[0.0, \"#0d0887\"], [0.1111111111111111, \"#46039f\"], [0.2222222222222222, \"#7201a8\"], [0.3333333333333333, \"#9c179e\"], [0.4444444444444444, \"#bd3786\"], [0.5555555555555556, \"#d8576b\"], [0.6666666666666666, \"#ed7953\"], [0.7777777777777778, \"#fb9f3a\"], [0.8888888888888888, \"#fdca26\"], [1.0, \"#f0f921\"]], \"type\": \"surface\"}], \"table\": [{\"cells\": {\"fill\": {\"color\": \"#EBF0F8\"}, \"line\": {\"color\": \"white\"}}, \"header\": {\"fill\": {\"color\": \"#C8D4E3\"}, \"line\": {\"color\": \"white\"}}, \"type\": \"table\"}]}, \"layout\": {\"annotationdefaults\": {\"arrowcolor\": \"#2a3f5f\", \"arrowhead\": 0, \"arrowwidth\": 1}, \"coloraxis\": {\"colorbar\": {\"outlinewidth\": 0, \"ticks\": \"\"}}, \"colorscale\": {\"diverging\": [[0, \"#8e0152\"], [0.1, \"#c51b7d\"], [0.2, \"#de77ae\"], [0.3, \"#f1b6da\"], [0.4, \"#fde0ef\"], [0.5, \"#f7f7f7\"], [0.6, \"#e6f5d0\"], [0.7, \"#b8e186\"], [0.8, \"#7fbc41\"], [0.9, \"#4d9221\"], [1, \"#276419\"]], \"sequential\": [[0.0, \"#0d0887\"], [0.1111111111111111, \"#46039f\"], [0.2222222222222222, \"#7201a8\"], [0.3333333333333333, \"#9c179e\"], [0.4444444444444444, \"#bd3786\"], [0.5555555555555556, \"#d8576b\"], [0.6666666666666666, \"#ed7953\"], [0.7777777777777778, \"#fb9f3a\"], [0.8888888888888888, \"#fdca26\"], [1.0, \"#f0f921\"]], \"sequentialminus\": [[0.0, \"#0d0887\"], [0.1111111111111111, \"#46039f\"], [0.2222222222222222, \"#7201a8\"], [0.3333333333333333, \"#9c179e\"], [0.4444444444444444, \"#bd3786\"], [0.5555555555555556, \"#d8576b\"], [0.6666666666666666, \"#ed7953\"], [0.7777777777777778, \"#fb9f3a\"], [0.8888888888888888, \"#fdca26\"], [1.0, \"#f0f921\"]]}, \"colorway\": [\"#636efa\", \"#EF553B\", \"#00cc96\", \"#ab63fa\", \"#FFA15A\", \"#19d3f3\", \"#FF6692\", \"#B6E880\", \"#FF97FF\", \"#FECB52\"], \"font\": {\"color\": \"#2a3f5f\"}, \"geo\": {\"bgcolor\": \"white\", \"lakecolor\": \"white\", \"landcolor\": \"#E5ECF6\", \"showlakes\": true, \"showland\": true, \"subunitcolor\": \"white\"}, \"hoverlabel\": {\"align\": \"left\"}, \"hovermode\": \"closest\", \"mapbox\": {\"style\": \"light\"}, \"paper_bgcolor\": \"white\", \"plot_bgcolor\": \"#E5ECF6\", \"polar\": {\"angularaxis\": {\"gridcolor\": \"white\", \"linecolor\": \"white\", \"ticks\": \"\"}, \"bgcolor\": \"#E5ECF6\", \"radialaxis\": {\"gridcolor\": \"white\", \"linecolor\": \"white\", \"ticks\": \"\"}}, \"scene\": {\"xaxis\": {\"backgroundcolor\": \"#E5ECF6\", \"gridcolor\": \"white\", \"gridwidth\": 2, \"linecolor\": \"white\", \"showbackground\": true, \"ticks\": \"\", \"zerolinecolor\": \"white\"}, \"yaxis\": {\"backgroundcolor\": \"#E5ECF6\", \"gridcolor\": \"white\", \"gridwidth\": 2, \"linecolor\": \"white\", \"showbackground\": true, \"ticks\": \"\", \"zerolinecolor\": \"white\"}, \"zaxis\": {\"backgroundcolor\": \"#E5ECF6\", \"gridcolor\": \"white\", \"gridwidth\": 2, \"linecolor\": \"white\", \"showbackground\": true, \"ticks\": \"\", \"zerolinecolor\": \"white\"}}, \"shapedefaults\": {\"line\": {\"color\": \"#2a3f5f\"}}, \"ternary\": {\"aaxis\": {\"gridcolor\": \"white\", \"linecolor\": \"white\", \"ticks\": \"\"}, \"baxis\": {\"gridcolor\": \"white\", \"linecolor\": \"white\", \"ticks\": \"\"}, \"bgcolor\": \"#E5ECF6\", \"caxis\": {\"gridcolor\": \"white\", \"linecolor\": \"white\", \"ticks\": \"\"}}, \"title\": {\"x\": 0.05}, \"xaxis\": {\"automargin\": true, \"gridcolor\": \"white\", \"linecolor\": \"white\", \"ticks\": \"\", \"title\": {\"standoff\": 15}, \"zerolinecolor\": \"white\", \"zerolinewidth\": 2}, \"yaxis\": {\"automargin\": true, \"gridcolor\": \"white\", \"linecolor\": \"white\", \"ticks\": \"\", \"title\": {\"standoff\": 15}, \"zerolinecolor\": \"white\", \"zerolinewidth\": 2}}}, \"title\": {\"font\": {\"color\": \"#4D5663\"}}, \"xaxis\": {\"gridcolor\": \"#E1E5ED\", \"showgrid\": true, \"tickfont\": {\"color\": \"#4D5663\"}, \"title\": {\"font\": {\"color\": \"#4D5663\"}, \"text\": \"\"}, \"zerolinecolor\": \"#E1E5ED\"}, \"yaxis\": {\"gridcolor\": \"#E1E5ED\", \"showgrid\": true, \"tickfont\": {\"color\": \"#4D5663\"}, \"title\": {\"font\": {\"color\": \"#4D5663\"}, \"text\": \"\"}, \"zerolinecolor\": \"#E1E5ED\"}},\n",
       "                        {\"showLink\": true, \"linkText\": \"Export to plot.ly\", \"plotlyServerURL\": \"https://plot.ly\", \"responsive\": true}\n",
       "                    ).then(function(){\n",
       "                            \n",
       "var gd = document.getElementById('1150c01c-9878-4e5f-b62e-23df409396ed');\n",
       "var x = new MutationObserver(function (mutations, observer) {{\n",
       "        var display = window.getComputedStyle(gd).display;\n",
       "        if (!display || display === 'none') {{\n",
       "            console.log([gd, 'removed!']);\n",
       "            Plotly.purge(gd);\n",
       "            observer.disconnect();\n",
       "        }}\n",
       "}});\n",
       "\n",
       "// Listen for the removal of the full notebook cells\n",
       "var notebookContainer = gd.closest('#notebook-container');\n",
       "if (notebookContainer) {{\n",
       "    x.observe(notebookContainer, {childList: true});\n",
       "}}\n",
       "\n",
       "// Listen for the clearing of the current output cell\n",
       "var outputEl = gd.closest('.output');\n",
       "if (outputEl) {{\n",
       "    x.observe(outputEl, {childList: true});\n",
       "}}\n",
       "\n",
       "                        })\n",
       "                };\n",
       "                });\n",
       "            </script>\n",
       "        </div>"
      ]
     },
     "metadata": {},
     "output_type": "display_data"
    }
   ],
   "source": [
    "df.iplot(kind='scatter',x='Shift',y='ItemPrice',mode='markers',size=10)"
   ]
  },
  {
   "cell_type": "code",
   "execution_count": 347,
   "metadata": {},
   "outputs": [
    {
     "data": {
      "image/png": "[encoded data removed]",
      "text/plain": [
       "<Figure size 432x288 with 2 Axes>"
      ]
     },
     "metadata": {},
     "output_type": "display_data"
    },
    {
     "data": {
      "text/plain": [
       "<Figure size 864x432 with 0 Axes>"
      ]
     },
     "metadata": {},
     "output_type": "display_data"
    }
   ],
   "source": [
    "# We see that the dataset features are mostly negatively correlated\n",
    "# Or (They are mostly independent)\n",
    "sns.heatmap(df.corr(),annot = True,cmap='viridis')\n",
    "plt.figure(figsize = (12,6))\n",
    "plt.tight_layout()\n",
    "sns.set_style('whitegrid')"
   ]
  },
  {
   "cell_type": "markdown",
   "metadata": {},
   "source": [
    "DATA ANALYSIS"
   ]
  },
  {
   "cell_type": "code",
   "execution_count": 348,
   "metadata": {},
   "outputs": [
    {
     "data": {
      "text/html": [
       "<div>\n",
       "<style scoped>\n",
       "    .dataframe tbody tr th:only-of-type {\n",
       "        vertical-align: middle;\n",
       "    }\n",
       "\n",
       "    .dataframe tbody tr th {\n",
       "        vertical-align: top;\n",
       "    }\n",
       "\n",
       "    .dataframe thead tr th {\n",
       "        text-align: left;\n",
       "    }\n",
       "\n",
       "    .dataframe thead tr:last-of-type th {\n",
       "        text-align: right;\n",
       "    }\n",
       "</style>\n",
       "<table border=\"1\" class=\"dataframe\">\n",
       "  <thead>\n",
       "    <tr>\n",
       "      <th></th>\n",
       "      <th colspan=\"4\" halign=\"left\">MenuItem</th>\n",
       "    </tr>\n",
       "    <tr>\n",
       "      <th></th>\n",
       "      <th>count</th>\n",
       "      <th>unique</th>\n",
       "      <th>top</th>\n",
       "      <th>freq</th>\n",
       "    </tr>\n",
       "    <tr>\n",
       "      <th>Shift</th>\n",
       "      <th></th>\n",
       "      <th></th>\n",
       "      <th></th>\n",
       "      <th></th>\n",
       "    </tr>\n",
       "  </thead>\n",
       "  <tbody>\n",
       "    <tr>\n",
       "      <th>Dinner</th>\n",
       "      <td>80</td>\n",
       "      <td>31</td>\n",
       "      <td>GARLIC NAAN</td>\n",
       "      <td>10</td>\n",
       "    </tr>\n",
       "    <tr>\n",
       "      <th>Lunch</th>\n",
       "      <td>120</td>\n",
       "      <td>38</td>\n",
       "      <td>GARLIC NAAN</td>\n",
       "      <td>10</td>\n",
       "    </tr>\n",
       "  </tbody>\n",
       "</table>\n",
       "</div>"
      ],
      "text/plain": [
       "       MenuItem                         \n",
       "          count unique          top freq\n",
       "Shift                                   \n",
       "Dinner       80     31  GARLIC NAAN   10\n",
       "Lunch       120     38  GARLIC NAAN   10"
      ]
     },
     "execution_count": 348,
     "metadata": {},
     "output_type": "execute_result"
    }
   ],
   "source": [
    "# Here We Can see that top MenuItem is 'GARLIC NAAN'\n",
    "# So it was consumed 80 times at Dinner for the month of January\n",
    "# Was consumed 120 times at Lunch \n",
    "# So more preferred during Lunch Time\n",
    "df[['Shift','MenuItem']].groupby('Shift').describe() "
   ]
  },
  {
   "cell_type": "markdown",
   "metadata": {},
   "source": [
    "SO TOP FOOD ITEM IS 'GARLIC NAAN'"
   ]
  },
  {
   "cell_type": "code",
   "execution_count": 349,
   "metadata": {},
   "outputs": [
    {
     "data": {
      "text/plain": [
       "4"
      ]
     },
     "execution_count": 349,
     "metadata": {},
     "output_type": "execute_result"
    }
   ],
   "source": [
    "df.duplicated().sum()"
   ]
  },
  {
   "cell_type": "code",
   "execution_count": 350,
   "metadata": {},
   "outputs": [
    {
     "data": {
      "text/html": [
       "<div>\n",
       "<style scoped>\n",
       "    .dataframe tbody tr th:only-of-type {\n",
       "        vertical-align: middle;\n",
       "    }\n",
       "\n",
       "    .dataframe tbody tr th {\n",
       "        vertical-align: top;\n",
       "    }\n",
       "\n",
       "    .dataframe thead th {\n",
       "        text-align: right;\n",
       "    }\n",
       "</style>\n",
       "<table border=\"1\" class=\"dataframe\">\n",
       "  <thead>\n",
       "    <tr style=\"text-align: right;\">\n",
       "      <th></th>\n",
       "      <th>StoreCode</th>\n",
       "      <th>DTS</th>\n",
       "      <th>Shift</th>\n",
       "      <th>Day Type</th>\n",
       "      <th>Day</th>\n",
       "      <th>Month</th>\n",
       "      <th>Date</th>\n",
       "      <th>Year</th>\n",
       "      <th>Time</th>\n",
       "      <th>TicketCode</th>\n",
       "      <th>PartySize</th>\n",
       "      <th>MenuCateogry</th>\n",
       "      <th>MenuItem</th>\n",
       "      <th>ItemPrice</th>\n",
       "      <th>ItemQty</th>\n",
       "    </tr>\n",
       "  </thead>\n",
       "  <tbody>\n",
       "    <tr>\n",
       "      <th>127</th>\n",
       "      <td>YALEV6B6K4</td>\n",
       "      <td>01/02/2019 12:05PM</td>\n",
       "      <td>Lunch</td>\n",
       "      <td>Weekend</td>\n",
       "      <td>Wednesday</td>\n",
       "      <td>1</td>\n",
       "      <td>2</td>\n",
       "      <td>2019</td>\n",
       "      <td>12:05PM</td>\n",
       "      <td>YALE0014</td>\n",
       "      <td>5</td>\n",
       "      <td>DESSERTS</td>\n",
       "      <td>CARROT HALWA</td>\n",
       "      <td>7.00</td>\n",
       "      <td>1</td>\n",
       "    </tr>\n",
       "    <tr>\n",
       "      <th>154</th>\n",
       "      <td>YALEV6B6K4</td>\n",
       "      <td>01/02/2019 12:30PM</td>\n",
       "      <td>Lunch</td>\n",
       "      <td>Weekend</td>\n",
       "      <td>Wednesday</td>\n",
       "      <td>1</td>\n",
       "      <td>2</td>\n",
       "      <td>2019</td>\n",
       "      <td>12:30PM</td>\n",
       "      <td>YALE0017</td>\n",
       "      <td>5</td>\n",
       "      <td>BREADS</td>\n",
       "      <td>TANDOORI ROTI</td>\n",
       "      <td>2.75</td>\n",
       "      <td>2</td>\n",
       "    </tr>\n",
       "    <tr>\n",
       "      <th>172</th>\n",
       "      <td>YALEV6B6K4</td>\n",
       "      <td>01/02/2019 7:00PM</td>\n",
       "      <td>Dinner</td>\n",
       "      <td>Weekend</td>\n",
       "      <td>Wednesday</td>\n",
       "      <td>1</td>\n",
       "      <td>2</td>\n",
       "      <td>2019</td>\n",
       "      <td>7:00PM</td>\n",
       "      <td>YALE0019</td>\n",
       "      <td>5</td>\n",
       "      <td>BREADS</td>\n",
       "      <td>GARLIC NAAN</td>\n",
       "      <td>3.50</td>\n",
       "      <td>2</td>\n",
       "    </tr>\n",
       "    <tr>\n",
       "      <th>185</th>\n",
       "      <td>YALEV6B6K4</td>\n",
       "      <td>01/02/2019 7:00PM</td>\n",
       "      <td>Dinner</td>\n",
       "      <td>Weekend</td>\n",
       "      <td>Wednesday</td>\n",
       "      <td>1</td>\n",
       "      <td>2</td>\n",
       "      <td>2019</td>\n",
       "      <td>7:00PM</td>\n",
       "      <td>YALE0019</td>\n",
       "      <td>5</td>\n",
       "      <td>BREADS</td>\n",
       "      <td>GARLIC NAAN</td>\n",
       "      <td>3.50</td>\n",
       "      <td>2</td>\n",
       "    </tr>\n",
       "  </tbody>\n",
       "</table>\n",
       "</div>"
      ],
      "text/plain": [
       "      StoreCode                 DTS   Shift Day Type        Day  Month  Date  \\\n",
       "127  YALEV6B6K4  01/02/2019 12:05PM   Lunch  Weekend  Wednesday      1     2   \n",
       "154  YALEV6B6K4  01/02/2019 12:30PM   Lunch  Weekend  Wednesday      1     2   \n",
       "172  YALEV6B6K4   01/02/2019 7:00PM  Dinner  Weekend  Wednesday      1     2   \n",
       "185  YALEV6B6K4   01/02/2019 7:00PM  Dinner  Weekend  Wednesday      1     2   \n",
       "\n",
       "     Year     Time TicketCode PartySize MenuCateogry       MenuItem  \\\n",
       "127  2019  12:05PM   YALE0014         5     DESSERTS   CARROT HALWA   \n",
       "154  2019  12:30PM   YALE0017         5       BREADS  TANDOORI ROTI   \n",
       "172  2019   7:00PM   YALE0019         5       BREADS    GARLIC NAAN   \n",
       "185  2019   7:00PM   YALE0019         5       BREADS    GARLIC NAAN   \n",
       "\n",
       "     ItemPrice  ItemQty  \n",
       "127       7.00        1  \n",
       "154       2.75        2  \n",
       "172       3.50        2  \n",
       "185       3.50        2  "
      ]
     },
     "execution_count": 350,
     "metadata": {},
     "output_type": "execute_result"
    }
   ],
   "source": [
    "# There are 4 duplicate records\n",
    "# Not droping them, they might affect the model accuracy\n",
    "df[df.duplicated() == True]"
   ]
  },
  {
   "cell_type": "code",
   "execution_count": 351,
   "metadata": {},
   "outputs": [
    {
     "name": "stdout",
     "output_type": "stream",
     "text": [
      "Unique value/values in StoreCode are 2\n",
      "Unique value/values in DTS are 22\n",
      "Unique value/values in Shift are 2\n",
      "Unique value/values in Day Type are 2\n",
      "Unique value/values in Day are 2\n",
      "Unique value/values in Month are 1\n",
      "Unique value/values in Date are 2\n",
      "Unique value/values in Year are 1\n",
      "Unique value/values in Time are 10\n",
      "Unique value/values in TicketCode are 27\n",
      "Unique value/values in PartySize are 5\n",
      "Unique value/values in MenuCateogry are 8\n",
      "Unique value/values in MenuItem are 43\n",
      "Unique value/values in ItemPrice are 12\n",
      "Unique value/values in ItemQty are 4\n"
     ]
    }
   ],
   "source": [
    "# All the number of unique items in different feature columns \n",
    "for x in df.columns:\n",
    "    print('Unique value/values in',x,'are',df[x].nunique())"
   ]
  },
  {
   "cell_type": "code",
   "execution_count": 352,
   "metadata": {},
   "outputs": [
    {
     "name": "stdout",
     "output_type": "stream",
     "text": [
      "Unique value/values in StoreCode are ['YALEV6B6K3', 'YALEV6B6K4']\n",
      "\n",
      "\n",
      "Unique value/values in DTS are ['01/01/2019 11:30AM', '01/01/2019 11:40AM', '01/01/2019 11:50AM', '01/01/2019 12:05PM', '01/01/2019 12:10PM', '01/01/2019 12:20PM', '01/01/2019 12:30PM', '01/01/2019 6:30PM', '01/01/2019 7:00PM', '01/01/2019 8:30PM', '01/02/2019 11:30AM', '01/02/2019 11:40AM', '01/02/2019 11:50AM', '01/02/2019 12:05PM', '01/02/2019 12:10PM', '01/02/2019 12:20PM', '01/02/2019 12:30PM', '01/02/2019 1:00PM', '01/02/2019 6:30PM', '01/02/2019 7:00PM', '01/02/2019 8:30PM', '01/02/2019 8:15PM']\n",
      "\n",
      "\n",
      "Unique value/values in Shift are ['Lunch', 'Dinner']\n",
      "\n",
      "\n",
      "Unique value/values in Day Type are ['Weekday', 'Weekend']\n",
      "\n",
      "\n",
      "Unique value/values in Day are ['Tuesday', 'Wednesday']\n",
      "\n",
      "\n",
      "Unique value/values in Month are [1]\n",
      "\n",
      "\n",
      "Unique value/values in Date are [1, 2]\n",
      "\n",
      "\n",
      "Unique value/values in Year are [2019]\n",
      "\n",
      "\n",
      "Unique value/values in Time are ['11:30AM', '11:40AM', '11:50AM', '12:05PM', '12:10PM', '12:20PM', '12:30PM', '6:30PM', '7:00PM', '8:30PM']\n",
      "\n",
      "\n",
      "Unique value/values in TicketCode are ['YALE0001', 'YALE0002', 'YALE0003', 'UBER001', 'YALE0004', 'YALE0005', 'UBER002', 'YALE0006', 'YALE0007', 'GRHUB001', 'YALE0008', 'YALE0009', 'YALE0010', 'UBER003', 'YALE0011', 'YALE0012', 'YALE0013', 'GRHUB002', 'YALE0014', 'YALE0015', 'UBER004', 'YALE0016', 'YALE0017', 'YALE0018', 'YALE0019', 'YALE0020', 'UBER005']\n",
      "\n",
      "\n",
      "Unique value/values in PartySize are ['4', '3', '2', 'na', '5']\n",
      "\n",
      "\n",
      "Unique value/values in MenuCateogry are ['Starter', 'VEGETABLE SPECIALS', 'BREADS', 'CHICKEN SPECIALS', 'RICE SPECIALS', 'DESSERTS', 'LAMB SPECIALTIES', 'SEAFOOD SPECIALTIES']\n",
      "\n",
      "\n",
      "Unique value/values in MenuItem are ['GOBI MANCHURIAN', 'TASTY FLATBREAD', 'SARSON DA SAAG', 'PANEER VINDALOO', 'GARLIC NAAN', 'NAAN', 'MASALA CHICKEN WINGS', 'COCKTAIL CHICKEN SAMOSAS', 'CHICKEN KORMA', 'CHICKEN BIRYANI', 'ONION KULCHA', 'CHICKEN TIKKA MASALA', 'GULABJAMUN', 'MALPURA', 'VEGETABLE SAMOSA', 'CHAAT PAPRI', 'BAINGAN BARTHA', 'MALAI KOFTA', 'CHICKEN SAAG', 'RICE', 'TANDOORI ROTI', 'CARROT HALWA', 'KADAHI PANEER', 'KADAHI LAMB', 'ALOO PARATHA', 'RASMALAI', 'VEGETABLE PAKORA', 'HARA BHARA KABOB', 'SHAHI PANEER', 'YELLOW DAL FRY', 'BHINDI DO PIAZZA', 'COCONUT CHICKEN CURRY', 'BUTTER CHICKEN', 'LACHA PARATHA', 'FISH PAKORA', 'SHRIMP STRIPS', 'FISH KORMA', 'FISH CURRY', 'KHEER', 'TASTY SLIDERS : CHICKEN PANEER', 'SPICY CHICKEN BITES', 'TIKKA RICE BOWL : PANEER | CHICKEN', 'SPINACH NAAN']\n",
      "\n",
      "\n",
      "Unique value/values in ItemPrice are [14.0, 11.0, 15.0, 16.0, 3.5, 2.75, 18.0, 19.0, 5.0, 6.0, 8.0, 7.0]\n",
      "\n",
      "\n",
      "Unique value/values in ItemQty are [1, 2, 3, 4]\n",
      "\n",
      "\n"
     ]
    }
   ],
   "source": [
    "# All the unique items in different feature columns \n",
    "for x in df.columns:\n",
    "    print('Unique value/values in',x,'are',list(df[x].unique()))\n",
    "    print('\\n')"
   ]
  },
  {
   "cell_type": "code",
   "execution_count": 353,
   "metadata": {},
   "outputs": [],
   "source": [
    "# Replacing the missing values indicated by 'na' by Nan using (numpy.nan)\n",
    "df = df.replace('na',np.nan)"
   ]
  },
  {
   "cell_type": "code",
   "execution_count": 354,
   "metadata": {},
   "outputs": [
    {
     "data": {
      "text/plain": [
       "<matplotlib.axes._subplots.AxesSubplot at 0x1b7417d5948>"
      ]
     },
     "execution_count": 354,
     "metadata": {},
     "output_type": "execute_result"
    },
    {
     "data": {
      "image/png": "[encoded data removed]",
      "text/plain": [
       "<Figure size 432x288 with 1 Axes>"
      ]
     },
     "metadata": {},
     "output_type": "display_data"
    }
   ],
   "source": [
    "#There are some missing values in the 'PartySize' column\n",
    "# misiing values Indicated by yellow bars\n",
    "#Will fill these missing values in a little while \n",
    "sns.heatmap(df.isnull(),yticklabels = False,cbar = False,cmap = 'viridis')"
   ]
  },
  {
   "cell_type": "code",
   "execution_count": 355,
   "metadata": {},
   "outputs": [
    {
     "name": "stdout",
     "output_type": "stream",
     "text": [
      "Tuesday\n",
      "Tuesday\n",
      "Tuesday\n",
      "Tuesday\n",
      "Tuesday\n",
      "Wednesday\n",
      "Wednesday\n",
      "Wednesday\n",
      "Wednesday\n",
      "Wednesday\n"
     ]
    }
   ],
   "source": [
    "#different days when customers visited (For this DataSet it's only Tuesday and Wednesday)\n",
    "for i in df['DTS'][95:105]:\n",
    "    print(pd.Timestamp(i).day_name())"
   ]
  },
  {
   "cell_type": "code",
   "execution_count": 356,
   "metadata": {},
   "outputs": [
    {
     "data": {
      "text/html": [
       "<div>\n",
       "<style scoped>\n",
       "    .dataframe tbody tr th:only-of-type {\n",
       "        vertical-align: middle;\n",
       "    }\n",
       "\n",
       "    .dataframe tbody tr th {\n",
       "        vertical-align: top;\n",
       "    }\n",
       "\n",
       "    .dataframe thead th {\n",
       "        text-align: right;\n",
       "    }\n",
       "</style>\n",
       "<table border=\"1\" class=\"dataframe\">\n",
       "  <thead>\n",
       "    <tr style=\"text-align: right;\">\n",
       "      <th></th>\n",
       "      <th>Month</th>\n",
       "      <th>Date</th>\n",
       "      <th>Year</th>\n",
       "      <th>ItemPrice</th>\n",
       "      <th>ItemQty</th>\n",
       "    </tr>\n",
       "  </thead>\n",
       "  <tbody>\n",
       "    <tr>\n",
       "      <th>count</th>\n",
       "      <td>200.0</td>\n",
       "      <td>200.000000</td>\n",
       "      <td>200.0</td>\n",
       "      <td>200.000000</td>\n",
       "      <td>200.000000</td>\n",
       "    </tr>\n",
       "    <tr>\n",
       "      <th>mean</th>\n",
       "      <td>1.0</td>\n",
       "      <td>1.405000</td>\n",
       "      <td>2019.0</td>\n",
       "      <td>10.587500</td>\n",
       "      <td>1.430000</td>\n",
       "    </tr>\n",
       "    <tr>\n",
       "      <th>std</th>\n",
       "      <td>0.0</td>\n",
       "      <td>0.492124</td>\n",
       "      <td>0.0</td>\n",
       "      <td>5.939432</td>\n",
       "      <td>0.605751</td>\n",
       "    </tr>\n",
       "    <tr>\n",
       "      <th>min</th>\n",
       "      <td>1.0</td>\n",
       "      <td>1.000000</td>\n",
       "      <td>2019.0</td>\n",
       "      <td>2.750000</td>\n",
       "      <td>1.000000</td>\n",
       "    </tr>\n",
       "    <tr>\n",
       "      <th>25%</th>\n",
       "      <td>1.0</td>\n",
       "      <td>1.000000</td>\n",
       "      <td>2019.0</td>\n",
       "      <td>5.000000</td>\n",
       "      <td>1.000000</td>\n",
       "    </tr>\n",
       "    <tr>\n",
       "      <th>50%</th>\n",
       "      <td>1.0</td>\n",
       "      <td>1.000000</td>\n",
       "      <td>2019.0</td>\n",
       "      <td>11.000000</td>\n",
       "      <td>1.000000</td>\n",
       "    </tr>\n",
       "    <tr>\n",
       "      <th>75%</th>\n",
       "      <td>1.0</td>\n",
       "      <td>2.000000</td>\n",
       "      <td>2019.0</td>\n",
       "      <td>16.000000</td>\n",
       "      <td>2.000000</td>\n",
       "    </tr>\n",
       "    <tr>\n",
       "      <th>max</th>\n",
       "      <td>1.0</td>\n",
       "      <td>2.000000</td>\n",
       "      <td>2019.0</td>\n",
       "      <td>19.000000</td>\n",
       "      <td>4.000000</td>\n",
       "    </tr>\n",
       "  </tbody>\n",
       "</table>\n",
       "</div>"
      ],
      "text/plain": [
       "       Month        Date    Year   ItemPrice     ItemQty\n",
       "count  200.0  200.000000   200.0  200.000000  200.000000\n",
       "mean     1.0    1.405000  2019.0   10.587500    1.430000\n",
       "std      0.0    0.492124     0.0    5.939432    0.605751\n",
       "min      1.0    1.000000  2019.0    2.750000    1.000000\n",
       "25%      1.0    1.000000  2019.0    5.000000    1.000000\n",
       "50%      1.0    1.000000  2019.0   11.000000    1.000000\n",
       "75%      1.0    2.000000  2019.0   16.000000    2.000000\n",
       "max      1.0    2.000000  2019.0   19.000000    4.000000"
      ]
     },
     "execution_count": 356,
     "metadata": {},
     "output_type": "execute_result"
    }
   ],
   "source": [
    "# Basic Statistics from the given DataSet\n",
    "#Can Ignore the 'Month','Date' and 'Year' columns because it's not significant\n",
    "df.describe()"
   ]
  },
  {
   "cell_type": "code",
   "execution_count": 357,
   "metadata": {},
   "outputs": [
    {
     "name": "stdout",
     "output_type": "stream",
     "text": [
      "<class 'pandas.core.frame.DataFrame'>\n",
      "RangeIndex: 200 entries, 0 to 199\n",
      "Data columns (total 15 columns):\n",
      " #   Column        Non-Null Count  Dtype  \n",
      "---  ------        --------------  -----  \n",
      " 0   StoreCode     200 non-null    object \n",
      " 1   DTS           200 non-null    object \n",
      " 2   Shift         200 non-null    object \n",
      " 3   Day Type      200 non-null    object \n",
      " 4   Day           200 non-null    object \n",
      " 5   Month         200 non-null    int64  \n",
      " 6   Date          200 non-null    int64  \n",
      " 7   Year          200 non-null    int64  \n",
      " 8   Time          200 non-null    object \n",
      " 9   TicketCode    200 non-null    object \n",
      " 10  PartySize     162 non-null    object \n",
      " 11  MenuCateogry  200 non-null    object \n",
      " 12  MenuItem      200 non-null    object \n",
      " 13  ItemPrice     200 non-null    float64\n",
      " 14  ItemQty       200 non-null    int64  \n",
      "dtypes: float64(1), int64(4), object(10)\n",
      "memory usage: 23.6+ KB\n"
     ]
    }
   ],
   "source": [
    "#Summary of the Dataset\n",
    "df.info()"
   ]
  },
  {
   "cell_type": "code",
   "execution_count": 358,
   "metadata": {},
   "outputs": [
    {
     "data": {
      "text/plain": [
       "(200, 15)"
      ]
     },
     "execution_count": 358,
     "metadata": {},
     "output_type": "execute_result"
    }
   ],
   "source": [
    "# Dataframe consists of 200 rows and 15 columns\n",
    "df.shape"
   ]
  },
  {
   "cell_type": "code",
   "execution_count": 359,
   "metadata": {},
   "outputs": [
    {
     "data": {
      "text/plain": [
       "StoreCode        object\n",
       "DTS              object\n",
       "Shift            object\n",
       "Day Type         object\n",
       "Day              object\n",
       "Month             int64\n",
       "Date              int64\n",
       "Year              int64\n",
       "Time             object\n",
       "TicketCode       object\n",
       "PartySize        object\n",
       "MenuCateogry     object\n",
       "MenuItem         object\n",
       "ItemPrice       float64\n",
       "ItemQty           int64\n",
       "dtype: object"
      ]
     },
     "execution_count": 359,
     "metadata": {},
     "output_type": "execute_result"
    }
   ],
   "source": [
    "# Data Type of various feature columns of the Data Frame\n",
    "#Mostly of them are objects\n",
    "df.dtypes"
   ]
  },
  {
   "cell_type": "markdown",
   "metadata": {},
   "source": [
    "FILLING MISSING VALUES USING SIMPLE IMPUTER"
   ]
  },
  {
   "cell_type": "code",
   "execution_count": 360,
   "metadata": {},
   "outputs": [],
   "source": [
    "imputer = SimpleImputer(strategy = 'most_frequent')"
   ]
  },
  {
   "cell_type": "code",
   "execution_count": 361,
   "metadata": {},
   "outputs": [],
   "source": [
    "# Convert the TimeStamp format to DateTime format\n",
    "df['DTS'] = pd.to_datetime(df['DTS'])\n",
    "\n",
    "# Assign new columns using .dt by selecting hour,month,year,etc from datetime column\n",
    "# we just created above\n",
    "df = df.assign(hour=df['DTS'].dt.hour,\n",
    "               day=df['DTS'].dt.day,\n",
    "               month=df['DTS'].dt.month,\n",
    "               year=df['DTS'].dt.year,\n",
    "              minute=df['DTS'].dt.minute)"
   ]
  },
  {
   "cell_type": "code",
   "execution_count": 362,
   "metadata": {},
   "outputs": [],
   "source": [
    "# Drop the insignificant featutes like Store Code,Ticket Code\n",
    "# Also drop DTS and Time column\n",
    "#Since we have dealt with them above\n",
    "df = df.drop(['StoreCode','TicketCode','Time','DTS'],axis = 1)"
   ]
  },
  {
   "cell_type": "code",
   "execution_count": 363,
   "metadata": {},
   "outputs": [],
   "source": [
    "s = df.dtypes == 'object'\n",
    "categorical = list(s[s].index)"
   ]
  },
  {
   "cell_type": "code",
   "execution_count": 364,
   "metadata": {},
   "outputs": [
    {
     "data": {
      "text/plain": [
       "['Shift', 'Day Type', 'Day', 'PartySize', 'MenuCateogry', 'MenuItem']"
      ]
     },
     "execution_count": 364,
     "metadata": {},
     "output_type": "execute_result"
    }
   ],
   "source": [
    "categorical"
   ]
  },
  {
   "cell_type": "code",
   "execution_count": 365,
   "metadata": {},
   "outputs": [
    {
     "data": {
      "text/html": [
       "<div>\n",
       "<style scoped>\n",
       "    .dataframe tbody tr th:only-of-type {\n",
       "        vertical-align: middle;\n",
       "    }\n",
       "\n",
       "    .dataframe tbody tr th {\n",
       "        vertical-align: top;\n",
       "    }\n",
       "\n",
       "    .dataframe thead th {\n",
       "        text-align: right;\n",
       "    }\n",
       "</style>\n",
       "<table border=\"1\" class=\"dataframe\">\n",
       "  <thead>\n",
       "    <tr style=\"text-align: right;\">\n",
       "      <th></th>\n",
       "      <th>Shift</th>\n",
       "      <th>Day Type</th>\n",
       "      <th>Day</th>\n",
       "      <th>PartySize</th>\n",
       "      <th>MenuCateogry</th>\n",
       "      <th>MenuItem</th>\n",
       "    </tr>\n",
       "  </thead>\n",
       "  <tbody>\n",
       "    <tr>\n",
       "      <th>count</th>\n",
       "      <td>200</td>\n",
       "      <td>200</td>\n",
       "      <td>200</td>\n",
       "      <td>162</td>\n",
       "      <td>200</td>\n",
       "      <td>200</td>\n",
       "    </tr>\n",
       "    <tr>\n",
       "      <th>unique</th>\n",
       "      <td>2</td>\n",
       "      <td>2</td>\n",
       "      <td>2</td>\n",
       "      <td>4</td>\n",
       "      <td>8</td>\n",
       "      <td>43</td>\n",
       "    </tr>\n",
       "    <tr>\n",
       "      <th>top</th>\n",
       "      <td>Lunch</td>\n",
       "      <td>Weekend</td>\n",
       "      <td>Wednesday</td>\n",
       "      <td>5</td>\n",
       "      <td>BREADS</td>\n",
       "      <td>GARLIC NAAN</td>\n",
       "    </tr>\n",
       "    <tr>\n",
       "      <th>freq</th>\n",
       "      <td>120</td>\n",
       "      <td>100</td>\n",
       "      <td>100</td>\n",
       "      <td>68</td>\n",
       "      <td>54</td>\n",
       "      <td>20</td>\n",
       "    </tr>\n",
       "  </tbody>\n",
       "</table>\n",
       "</div>"
      ],
      "text/plain": [
       "        Shift Day Type        Day PartySize MenuCateogry     MenuItem\n",
       "count     200      200        200       162          200          200\n",
       "unique      2        2          2         4            8           43\n",
       "top     Lunch  Weekend  Wednesday         5       BREADS  GARLIC NAAN\n",
       "freq      120      100        100        68           54           20"
      ]
     },
     "execution_count": 365,
     "metadata": {},
     "output_type": "execute_result"
    }
   ],
   "source": [
    "# Statistics for categorical data\n",
    "df[categorical].describe()"
   ]
  },
  {
   "cell_type": "markdown",
   "metadata": {},
   "source": [
    "Split the Input and Output. Here we have to predict the Item Quantity, so treat it as output label.\n",
    "So rest of the features are treated as input"
   ]
  },
  {
   "cell_type": "markdown",
   "metadata": {},
   "source": [
    "# PREDICTING ITEM QUANTITY"
   ]
  },
  {
   "cell_type": "code",
   "execution_count": 366,
   "metadata": {},
   "outputs": [],
   "source": [
    "y= df['ItemQty']\n",
    "X = df.drop('ItemQty',axis = 1)"
   ]
  },
  {
   "cell_type": "code",
   "execution_count": 367,
   "metadata": {},
   "outputs": [],
   "source": [
    "#Train Test Split \n",
    "X_train, X_valid, y_train, y_valid = train_test_split(X, y, test_size = 0.3, random_state = 42)"
   ]
  },
  {
   "cell_type": "code",
   "execution_count": 368,
   "metadata": {},
   "outputs": [],
   "source": [
    "# The step of calculating most frequent value from respective column is done by the fit() method.\n",
    "# The transform() method will just replace the NaNs in the column with the newly calculated value, and return the new dataset\n",
    "imputed_X_train = pd.DataFrame(imputer.fit_transform(X_train))\n",
    "imputed_X_valid = pd.DataFrame(imputer.transform(X_valid))"
   ]
  },
  {
   "cell_type": "code",
   "execution_count": 369,
   "metadata": {},
   "outputs": [],
   "source": [
    "# Imputing removes the column, so just place them back\n",
    "imputed_X_train.columns = X_train.columns\n",
    "imputed_X_valid.columns = X_valid.columns"
   ]
  },
  {
   "cell_type": "code",
   "execution_count": 370,
   "metadata": {},
   "outputs": [
    {
     "data": {
      "text/plain": [
       "<matplotlib.axes._subplots.AxesSubplot at 0x1b743e0cf88>"
      ]
     },
     "execution_count": 370,
     "metadata": {},
     "output_type": "execute_result"
    },
    {
     "data": {
      "image/png": "[encoded data removed]",
      "text/plain": [
       "<Figure size 432x288 with 1 Axes>"
      ]
     },
     "metadata": {},
     "output_type": "display_data"
    }
   ],
   "source": [
    "sns.heatmap(imputed_X_train.isnull(),yticklabels = False,cbar = False,cmap = 'viridis')"
   ]
  },
  {
   "cell_type": "markdown",
   "metadata": {},
   "source": [
    "So Now we have filled the missing values.\n",
    "This can be seen by heatmap above"
   ]
  },
  {
   "cell_type": "markdown",
   "metadata": {},
   "source": [
    "Handling Categorical Data by One Hot Encoding"
   ]
  },
  {
   "cell_type": "markdown",
   "metadata": {},
   "source": [
    "Label Encoding didn't perform better than One Hot encoding.\n",
    "Since most of the categorical columns are Nominal, not ordinal"
   ]
  },
  {
   "cell_type": "code",
   "execution_count": 371,
   "metadata": {},
   "outputs": [],
   "source": [
    "#encoder = LabelEncoder()"
   ]
  },
  {
   "cell_type": "code",
   "execution_count": 372,
   "metadata": {},
   "outputs": [],
   "source": [
    "#label_X_train = imputed_X_train.copy()\n",
    "#label_X_valid = imputed_X_valid.copy()"
   ]
  },
  {
   "cell_type": "code",
   "execution_count": 373,
   "metadata": {},
   "outputs": [],
   "source": [
    "#for col in categorical:\n",
    "    #label_X_train[col] = encoder.fit_transform(imputed_X_train[col])\n",
    "    #label_X_valid[col] = encoder.transform(imputed_X_valid[col])\n"
   ]
  },
  {
   "cell_type": "code",
   "execution_count": 374,
   "metadata": {},
   "outputs": [],
   "source": [
    "#my_scaler = StandardScaler()"
   ]
  },
  {
   "cell_type": "code",
   "execution_count": 375,
   "metadata": {},
   "outputs": [],
   "source": [
    "#final_X_train_label = pd.DataFrame(my_scaler.fit_transform(label_X_train,y_train),columns = label_X_train.columns)\n",
    "#final_X_valid_label = pd.DataFrame(my_scaler.transform(label_X_valid),columns = label_X_valid.columns)"
   ]
  },
  {
   "cell_type": "code",
   "execution_count": 376,
   "metadata": {},
   "outputs": [],
   "source": [
    "#model = RandomForestRegressor(n_estimators = 100,random_state = 0)"
   ]
  },
  {
   "cell_type": "code",
   "execution_count": 377,
   "metadata": {},
   "outputs": [],
   "source": [
    "#model.fit(final_X_train_label,y_train)"
   ]
  },
  {
   "cell_type": "code",
   "execution_count": 378,
   "metadata": {},
   "outputs": [],
   "source": [
    "#preds = model.predict(final_X_valid_label)"
   ]
  },
  {
   "cell_type": "code",
   "execution_count": 379,
   "metadata": {},
   "outputs": [],
   "source": [
    "#mean_absolute_error(y_valid,preds)"
   ]
  },
  {
   "cell_type": "code",
   "execution_count": 380,
   "metadata": {},
   "outputs": [],
   "source": [
    "#mean_squared_error(y_valid,preds)"
   ]
  },
  {
   "cell_type": "code",
   "execution_count": 381,
   "metadata": {},
   "outputs": [],
   "source": [
    "ohe = OneHotEncoder(sparse = False,handle_unknown= 'ignore') "
   ]
  },
  {
   "cell_type": "code",
   "execution_count": 382,
   "metadata": {},
   "outputs": [
    {
     "data": {
      "text/html": [
       "<div>\n",
       "<style scoped>\n",
       "    .dataframe tbody tr th:only-of-type {\n",
       "        vertical-align: middle;\n",
       "    }\n",
       "\n",
       "    .dataframe tbody tr th {\n",
       "        vertical-align: top;\n",
       "    }\n",
       "\n",
       "    .dataframe thead th {\n",
       "        text-align: right;\n",
       "    }\n",
       "</style>\n",
       "<table border=\"1\" class=\"dataframe\">\n",
       "  <thead>\n",
       "    <tr style=\"text-align: right;\">\n",
       "      <th></th>\n",
       "      <th>Shift</th>\n",
       "      <th>Day Type</th>\n",
       "      <th>Day</th>\n",
       "      <th>Month</th>\n",
       "      <th>Date</th>\n",
       "      <th>Year</th>\n",
       "      <th>PartySize</th>\n",
       "      <th>MenuCateogry</th>\n",
       "      <th>MenuItem</th>\n",
       "      <th>ItemPrice</th>\n",
       "      <th>hour</th>\n",
       "      <th>day</th>\n",
       "      <th>month</th>\n",
       "      <th>year</th>\n",
       "      <th>minute</th>\n",
       "    </tr>\n",
       "  </thead>\n",
       "  <tbody>\n",
       "    <tr>\n",
       "      <th>0</th>\n",
       "      <td>Dinner</td>\n",
       "      <td>Weekend</td>\n",
       "      <td>Wednesday</td>\n",
       "      <td>1</td>\n",
       "      <td>2</td>\n",
       "      <td>2019</td>\n",
       "      <td>5</td>\n",
       "      <td>BREADS</td>\n",
       "      <td>ONION KULCHA</td>\n",
       "      <td>5</td>\n",
       "      <td>19</td>\n",
       "      <td>2</td>\n",
       "      <td>1</td>\n",
       "      <td>2019</td>\n",
       "      <td>0</td>\n",
       "    </tr>\n",
       "    <tr>\n",
       "      <th>1</th>\n",
       "      <td>Dinner</td>\n",
       "      <td>Weekday</td>\n",
       "      <td>Tuesday</td>\n",
       "      <td>1</td>\n",
       "      <td>1</td>\n",
       "      <td>2019</td>\n",
       "      <td>5</td>\n",
       "      <td>RICE SPECIALS</td>\n",
       "      <td>RICE</td>\n",
       "      <td>5</td>\n",
       "      <td>20</td>\n",
       "      <td>1</td>\n",
       "      <td>1</td>\n",
       "      <td>2019</td>\n",
       "      <td>30</td>\n",
       "    </tr>\n",
       "    <tr>\n",
       "      <th>2</th>\n",
       "      <td>Lunch</td>\n",
       "      <td>Weekday</td>\n",
       "      <td>Tuesday</td>\n",
       "      <td>1</td>\n",
       "      <td>1</td>\n",
       "      <td>2019</td>\n",
       "      <td>2</td>\n",
       "      <td>BREADS</td>\n",
       "      <td>ALOO PARATHA</td>\n",
       "      <td>5</td>\n",
       "      <td>12</td>\n",
       "      <td>1</td>\n",
       "      <td>1</td>\n",
       "      <td>2019</td>\n",
       "      <td>10</td>\n",
       "    </tr>\n",
       "    <tr>\n",
       "      <th>3</th>\n",
       "      <td>Lunch</td>\n",
       "      <td>Weekday</td>\n",
       "      <td>Tuesday</td>\n",
       "      <td>1</td>\n",
       "      <td>1</td>\n",
       "      <td>2019</td>\n",
       "      <td>2</td>\n",
       "      <td>BREADS</td>\n",
       "      <td>GARLIC NAAN</td>\n",
       "      <td>3.5</td>\n",
       "      <td>11</td>\n",
       "      <td>1</td>\n",
       "      <td>1</td>\n",
       "      <td>2019</td>\n",
       "      <td>50</td>\n",
       "    </tr>\n",
       "    <tr>\n",
       "      <th>4</th>\n",
       "      <td>Lunch</td>\n",
       "      <td>Weekday</td>\n",
       "      <td>Tuesday</td>\n",
       "      <td>1</td>\n",
       "      <td>1</td>\n",
       "      <td>2019</td>\n",
       "      <td>5</td>\n",
       "      <td>CHICKEN SPECIALS</td>\n",
       "      <td>CHICKEN SAAG</td>\n",
       "      <td>18</td>\n",
       "      <td>12</td>\n",
       "      <td>1</td>\n",
       "      <td>1</td>\n",
       "      <td>2019</td>\n",
       "      <td>10</td>\n",
       "    </tr>\n",
       "  </tbody>\n",
       "</table>\n",
       "</div>"
      ],
      "text/plain": [
       "    Shift Day Type        Day Month Date  Year PartySize      MenuCateogry  \\\n",
       "0  Dinner  Weekend  Wednesday     1    2  2019         5            BREADS   \n",
       "1  Dinner  Weekday    Tuesday     1    1  2019         5     RICE SPECIALS   \n",
       "2   Lunch  Weekday    Tuesday     1    1  2019         2            BREADS   \n",
       "3   Lunch  Weekday    Tuesday     1    1  2019         2            BREADS   \n",
       "4   Lunch  Weekday    Tuesday     1    1  2019         5  CHICKEN SPECIALS   \n",
       "\n",
       "       MenuItem ItemPrice hour day month  year minute  \n",
       "0  ONION KULCHA         5   19   2     1  2019      0  \n",
       "1          RICE         5   20   1     1  2019     30  \n",
       "2  ALOO PARATHA         5   12   1     1  2019     10  \n",
       "3   GARLIC NAAN       3.5   11   1     1  2019     50  \n",
       "4  CHICKEN SAAG        18   12   1     1  2019     10  "
      ]
     },
     "execution_count": 382,
     "metadata": {},
     "output_type": "execute_result"
    }
   ],
   "source": [
    "imputed_X_train.head()"
   ]
  },
  {
   "cell_type": "code",
   "execution_count": 383,
   "metadata": {},
   "outputs": [],
   "source": [
    "# Again fitting and transforming the imputed Data for categorical features \n",
    "ohe_cols_train = pd.DataFrame(ohe.fit_transform(imputed_X_train[categorical]))\n",
    "ohe_cols_valid = pd.DataFrame(ohe.transform(imputed_X_valid[categorical]))"
   ]
  },
  {
   "cell_type": "code",
   "execution_count": 384,
   "metadata": {},
   "outputs": [],
   "source": [
    "# One Hot Encoding removes the indexes, so place them back\n",
    "ohe_cols_train.index = imputed_X_train.index\n",
    "ohe_cols_valid.index = imputed_X_valid.index"
   ]
  },
  {
   "cell_type": "code",
   "execution_count": 385,
   "metadata": {},
   "outputs": [
    {
     "data": {
      "text/html": [
       "<div>\n",
       "<style scoped>\n",
       "    .dataframe tbody tr th:only-of-type {\n",
       "        vertical-align: middle;\n",
       "    }\n",
       "\n",
       "    .dataframe tbody tr th {\n",
       "        vertical-align: top;\n",
       "    }\n",
       "\n",
       "    .dataframe thead th {\n",
       "        text-align: right;\n",
       "    }\n",
       "</style>\n",
       "<table border=\"1\" class=\"dataframe\">\n",
       "  <thead>\n",
       "    <tr style=\"text-align: right;\">\n",
       "      <th></th>\n",
       "      <th>0</th>\n",
       "      <th>1</th>\n",
       "      <th>2</th>\n",
       "      <th>3</th>\n",
       "      <th>4</th>\n",
       "      <th>5</th>\n",
       "      <th>6</th>\n",
       "      <th>7</th>\n",
       "      <th>8</th>\n",
       "      <th>9</th>\n",
       "      <th>...</th>\n",
       "      <th>51</th>\n",
       "      <th>52</th>\n",
       "      <th>53</th>\n",
       "      <th>54</th>\n",
       "      <th>55</th>\n",
       "      <th>56</th>\n",
       "      <th>57</th>\n",
       "      <th>58</th>\n",
       "      <th>59</th>\n",
       "      <th>60</th>\n",
       "    </tr>\n",
       "  </thead>\n",
       "  <tbody>\n",
       "    <tr>\n",
       "      <th>0</th>\n",
       "      <td>1.0</td>\n",
       "      <td>0.0</td>\n",
       "      <td>0.0</td>\n",
       "      <td>1.0</td>\n",
       "      <td>0.0</td>\n",
       "      <td>1.0</td>\n",
       "      <td>0.0</td>\n",
       "      <td>0.0</td>\n",
       "      <td>0.0</td>\n",
       "      <td>1.0</td>\n",
       "      <td>...</td>\n",
       "      <td>0.0</td>\n",
       "      <td>0.0</td>\n",
       "      <td>0.0</td>\n",
       "      <td>0.0</td>\n",
       "      <td>0.0</td>\n",
       "      <td>0.0</td>\n",
       "      <td>0.0</td>\n",
       "      <td>0.0</td>\n",
       "      <td>0.0</td>\n",
       "      <td>0.0</td>\n",
       "    </tr>\n",
       "    <tr>\n",
       "      <th>1</th>\n",
       "      <td>1.0</td>\n",
       "      <td>0.0</td>\n",
       "      <td>1.0</td>\n",
       "      <td>0.0</td>\n",
       "      <td>1.0</td>\n",
       "      <td>0.0</td>\n",
       "      <td>0.0</td>\n",
       "      <td>0.0</td>\n",
       "      <td>0.0</td>\n",
       "      <td>1.0</td>\n",
       "      <td>...</td>\n",
       "      <td>0.0</td>\n",
       "      <td>0.0</td>\n",
       "      <td>0.0</td>\n",
       "      <td>0.0</td>\n",
       "      <td>0.0</td>\n",
       "      <td>0.0</td>\n",
       "      <td>0.0</td>\n",
       "      <td>0.0</td>\n",
       "      <td>0.0</td>\n",
       "      <td>0.0</td>\n",
       "    </tr>\n",
       "    <tr>\n",
       "      <th>2</th>\n",
       "      <td>0.0</td>\n",
       "      <td>1.0</td>\n",
       "      <td>1.0</td>\n",
       "      <td>0.0</td>\n",
       "      <td>1.0</td>\n",
       "      <td>0.0</td>\n",
       "      <td>1.0</td>\n",
       "      <td>0.0</td>\n",
       "      <td>0.0</td>\n",
       "      <td>0.0</td>\n",
       "      <td>...</td>\n",
       "      <td>0.0</td>\n",
       "      <td>0.0</td>\n",
       "      <td>0.0</td>\n",
       "      <td>0.0</td>\n",
       "      <td>0.0</td>\n",
       "      <td>0.0</td>\n",
       "      <td>0.0</td>\n",
       "      <td>0.0</td>\n",
       "      <td>0.0</td>\n",
       "      <td>0.0</td>\n",
       "    </tr>\n",
       "    <tr>\n",
       "      <th>3</th>\n",
       "      <td>0.0</td>\n",
       "      <td>1.0</td>\n",
       "      <td>1.0</td>\n",
       "      <td>0.0</td>\n",
       "      <td>1.0</td>\n",
       "      <td>0.0</td>\n",
       "      <td>1.0</td>\n",
       "      <td>0.0</td>\n",
       "      <td>0.0</td>\n",
       "      <td>0.0</td>\n",
       "      <td>...</td>\n",
       "      <td>0.0</td>\n",
       "      <td>0.0</td>\n",
       "      <td>0.0</td>\n",
       "      <td>0.0</td>\n",
       "      <td>0.0</td>\n",
       "      <td>0.0</td>\n",
       "      <td>0.0</td>\n",
       "      <td>0.0</td>\n",
       "      <td>0.0</td>\n",
       "      <td>0.0</td>\n",
       "    </tr>\n",
       "    <tr>\n",
       "      <th>4</th>\n",
       "      <td>0.0</td>\n",
       "      <td>1.0</td>\n",
       "      <td>1.0</td>\n",
       "      <td>0.0</td>\n",
       "      <td>1.0</td>\n",
       "      <td>0.0</td>\n",
       "      <td>0.0</td>\n",
       "      <td>0.0</td>\n",
       "      <td>0.0</td>\n",
       "      <td>1.0</td>\n",
       "      <td>...</td>\n",
       "      <td>0.0</td>\n",
       "      <td>0.0</td>\n",
       "      <td>0.0</td>\n",
       "      <td>0.0</td>\n",
       "      <td>0.0</td>\n",
       "      <td>0.0</td>\n",
       "      <td>0.0</td>\n",
       "      <td>0.0</td>\n",
       "      <td>0.0</td>\n",
       "      <td>0.0</td>\n",
       "    </tr>\n",
       "  </tbody>\n",
       "</table>\n",
       "<p>5 rows × 61 columns</p>\n",
       "</div>"
      ],
      "text/plain": [
       "    0    1    2    3    4    5    6    7    8    9   ...   51   52   53   54  \\\n",
       "0  1.0  0.0  0.0  1.0  0.0  1.0  0.0  0.0  0.0  1.0  ...  0.0  0.0  0.0  0.0   \n",
       "1  1.0  0.0  1.0  0.0  1.0  0.0  0.0  0.0  0.0  1.0  ...  0.0  0.0  0.0  0.0   \n",
       "2  0.0  1.0  1.0  0.0  1.0  0.0  1.0  0.0  0.0  0.0  ...  0.0  0.0  0.0  0.0   \n",
       "3  0.0  1.0  1.0  0.0  1.0  0.0  1.0  0.0  0.0  0.0  ...  0.0  0.0  0.0  0.0   \n",
       "4  0.0  1.0  1.0  0.0  1.0  0.0  0.0  0.0  0.0  1.0  ...  0.0  0.0  0.0  0.0   \n",
       "\n",
       "    55   56   57   58   59   60  \n",
       "0  0.0  0.0  0.0  0.0  0.0  0.0  \n",
       "1  0.0  0.0  0.0  0.0  0.0  0.0  \n",
       "2  0.0  0.0  0.0  0.0  0.0  0.0  \n",
       "3  0.0  0.0  0.0  0.0  0.0  0.0  \n",
       "4  0.0  0.0  0.0  0.0  0.0  0.0  \n",
       "\n",
       "[5 rows x 61 columns]"
      ]
     },
     "execution_count": 385,
     "metadata": {},
     "output_type": "execute_result"
    }
   ],
   "source": [
    "ohe_cols_train.head()"
   ]
  },
  {
   "cell_type": "code",
   "execution_count": 386,
   "metadata": {},
   "outputs": [],
   "source": [
    "num_X_train =  imputed_X_train.drop(categorical,axis = 1)\n",
    "num_X_valid =  imputed_X_valid.drop(categorical,axis = 1)"
   ]
  },
  {
   "cell_type": "code",
   "execution_count": 387,
   "metadata": {},
   "outputs": [],
   "source": [
    "ohe_X_train = pd.concat([num_X_train, ohe_cols_train], axis=1)\n",
    "ohe_X_valid = pd.concat([num_X_valid, ohe_cols_valid], axis=1)"
   ]
  },
  {
   "cell_type": "code",
   "execution_count": 388,
   "metadata": {},
   "outputs": [
    {
     "data": {
      "text/html": [
       "<div>\n",
       "<style scoped>\n",
       "    .dataframe tbody tr th:only-of-type {\n",
       "        vertical-align: middle;\n",
       "    }\n",
       "\n",
       "    .dataframe tbody tr th {\n",
       "        vertical-align: top;\n",
       "    }\n",
       "\n",
       "    .dataframe thead th {\n",
       "        text-align: right;\n",
       "    }\n",
       "</style>\n",
       "<table border=\"1\" class=\"dataframe\">\n",
       "  <thead>\n",
       "    <tr style=\"text-align: right;\">\n",
       "      <th></th>\n",
       "      <th>Month</th>\n",
       "      <th>Date</th>\n",
       "      <th>Year</th>\n",
       "      <th>ItemPrice</th>\n",
       "      <th>hour</th>\n",
       "      <th>day</th>\n",
       "      <th>month</th>\n",
       "      <th>year</th>\n",
       "      <th>minute</th>\n",
       "      <th>0</th>\n",
       "      <th>...</th>\n",
       "      <th>51</th>\n",
       "      <th>52</th>\n",
       "      <th>53</th>\n",
       "      <th>54</th>\n",
       "      <th>55</th>\n",
       "      <th>56</th>\n",
       "      <th>57</th>\n",
       "      <th>58</th>\n",
       "      <th>59</th>\n",
       "      <th>60</th>\n",
       "    </tr>\n",
       "  </thead>\n",
       "  <tbody>\n",
       "    <tr>\n",
       "      <th>0</th>\n",
       "      <td>1</td>\n",
       "      <td>2</td>\n",
       "      <td>2019</td>\n",
       "      <td>5</td>\n",
       "      <td>19</td>\n",
       "      <td>2</td>\n",
       "      <td>1</td>\n",
       "      <td>2019</td>\n",
       "      <td>0</td>\n",
       "      <td>1.0</td>\n",
       "      <td>...</td>\n",
       "      <td>0.0</td>\n",
       "      <td>0.0</td>\n",
       "      <td>0.0</td>\n",
       "      <td>0.0</td>\n",
       "      <td>0.0</td>\n",
       "      <td>0.0</td>\n",
       "      <td>0.0</td>\n",
       "      <td>0.0</td>\n",
       "      <td>0.0</td>\n",
       "      <td>0.0</td>\n",
       "    </tr>\n",
       "    <tr>\n",
       "      <th>1</th>\n",
       "      <td>1</td>\n",
       "      <td>1</td>\n",
       "      <td>2019</td>\n",
       "      <td>5</td>\n",
       "      <td>20</td>\n",
       "      <td>1</td>\n",
       "      <td>1</td>\n",
       "      <td>2019</td>\n",
       "      <td>30</td>\n",
       "      <td>1.0</td>\n",
       "      <td>...</td>\n",
       "      <td>0.0</td>\n",
       "      <td>0.0</td>\n",
       "      <td>0.0</td>\n",
       "      <td>0.0</td>\n",
       "      <td>0.0</td>\n",
       "      <td>0.0</td>\n",
       "      <td>0.0</td>\n",
       "      <td>0.0</td>\n",
       "      <td>0.0</td>\n",
       "      <td>0.0</td>\n",
       "    </tr>\n",
       "    <tr>\n",
       "      <th>2</th>\n",
       "      <td>1</td>\n",
       "      <td>1</td>\n",
       "      <td>2019</td>\n",
       "      <td>5</td>\n",
       "      <td>12</td>\n",
       "      <td>1</td>\n",
       "      <td>1</td>\n",
       "      <td>2019</td>\n",
       "      <td>10</td>\n",
       "      <td>0.0</td>\n",
       "      <td>...</td>\n",
       "      <td>0.0</td>\n",
       "      <td>0.0</td>\n",
       "      <td>0.0</td>\n",
       "      <td>0.0</td>\n",
       "      <td>0.0</td>\n",
       "      <td>0.0</td>\n",
       "      <td>0.0</td>\n",
       "      <td>0.0</td>\n",
       "      <td>0.0</td>\n",
       "      <td>0.0</td>\n",
       "    </tr>\n",
       "    <tr>\n",
       "      <th>3</th>\n",
       "      <td>1</td>\n",
       "      <td>1</td>\n",
       "      <td>2019</td>\n",
       "      <td>3.5</td>\n",
       "      <td>11</td>\n",
       "      <td>1</td>\n",
       "      <td>1</td>\n",
       "      <td>2019</td>\n",
       "      <td>50</td>\n",
       "      <td>0.0</td>\n",
       "      <td>...</td>\n",
       "      <td>0.0</td>\n",
       "      <td>0.0</td>\n",
       "      <td>0.0</td>\n",
       "      <td>0.0</td>\n",
       "      <td>0.0</td>\n",
       "      <td>0.0</td>\n",
       "      <td>0.0</td>\n",
       "      <td>0.0</td>\n",
       "      <td>0.0</td>\n",
       "      <td>0.0</td>\n",
       "    </tr>\n",
       "    <tr>\n",
       "      <th>4</th>\n",
       "      <td>1</td>\n",
       "      <td>1</td>\n",
       "      <td>2019</td>\n",
       "      <td>18</td>\n",
       "      <td>12</td>\n",
       "      <td>1</td>\n",
       "      <td>1</td>\n",
       "      <td>2019</td>\n",
       "      <td>10</td>\n",
       "      <td>0.0</td>\n",
       "      <td>...</td>\n",
       "      <td>0.0</td>\n",
       "      <td>0.0</td>\n",
       "      <td>0.0</td>\n",
       "      <td>0.0</td>\n",
       "      <td>0.0</td>\n",
       "      <td>0.0</td>\n",
       "      <td>0.0</td>\n",
       "      <td>0.0</td>\n",
       "      <td>0.0</td>\n",
       "      <td>0.0</td>\n",
       "    </tr>\n",
       "  </tbody>\n",
       "</table>\n",
       "<p>5 rows × 70 columns</p>\n",
       "</div>"
      ],
      "text/plain": [
       "  Month Date  Year ItemPrice hour day month  year minute    0  ...   51   52  \\\n",
       "0     1    2  2019         5   19   2     1  2019      0  1.0  ...  0.0  0.0   \n",
       "1     1    1  2019         5   20   1     1  2019     30  1.0  ...  0.0  0.0   \n",
       "2     1    1  2019         5   12   1     1  2019     10  0.0  ...  0.0  0.0   \n",
       "3     1    1  2019       3.5   11   1     1  2019     50  0.0  ...  0.0  0.0   \n",
       "4     1    1  2019        18   12   1     1  2019     10  0.0  ...  0.0  0.0   \n",
       "\n",
       "    53   54   55   56   57   58   59   60  \n",
       "0  0.0  0.0  0.0  0.0  0.0  0.0  0.0  0.0  \n",
       "1  0.0  0.0  0.0  0.0  0.0  0.0  0.0  0.0  \n",
       "2  0.0  0.0  0.0  0.0  0.0  0.0  0.0  0.0  \n",
       "3  0.0  0.0  0.0  0.0  0.0  0.0  0.0  0.0  \n",
       "4  0.0  0.0  0.0  0.0  0.0  0.0  0.0  0.0  \n",
       "\n",
       "[5 rows x 70 columns]"
      ]
     },
     "execution_count": 388,
     "metadata": {},
     "output_type": "execute_result"
    }
   ],
   "source": [
    "ohe_X_train.head()"
   ]
  },
  {
   "cell_type": "markdown",
   "metadata": {},
   "source": [
    "We need to scale down our data , since most of the values far away from each other.\n",
    "But range still will be the same.\n",
    "We will use Standard Scaling, where mean is zero and Standard deviation is unity(of the distribution) "
   ]
  },
  {
   "cell_type": "code",
   "execution_count": 389,
   "metadata": {},
   "outputs": [],
   "source": [
    "my_scaler = StandardScaler()"
   ]
  },
  {
   "cell_type": "code",
   "execution_count": 390,
   "metadata": {},
   "outputs": [],
   "source": [
    "# Fitting and transforming the data\n",
    "ohe_X_final_train = pd.DataFrame(my_scaler.fit_transform(ohe_X_train),columns = ohe_X_train.columns)"
   ]
  },
  {
   "cell_type": "code",
   "execution_count": 391,
   "metadata": {},
   "outputs": [],
   "source": [
    "ohe_X_final_valid = pd.DataFrame(my_scaler.transform(ohe_X_valid),columns = ohe_X_valid.columns)"
   ]
  },
  {
   "cell_type": "code",
   "execution_count": 392,
   "metadata": {},
   "outputs": [
    {
     "data": {
      "text/html": [
       "<div>\n",
       "<style scoped>\n",
       "    .dataframe tbody tr th:only-of-type {\n",
       "        vertical-align: middle;\n",
       "    }\n",
       "\n",
       "    .dataframe tbody tr th {\n",
       "        vertical-align: top;\n",
       "    }\n",
       "\n",
       "    .dataframe thead th {\n",
       "        text-align: right;\n",
       "    }\n",
       "</style>\n",
       "<table border=\"1\" class=\"dataframe\">\n",
       "  <thead>\n",
       "    <tr style=\"text-align: right;\">\n",
       "      <th></th>\n",
       "      <th>Month</th>\n",
       "      <th>Date</th>\n",
       "      <th>Year</th>\n",
       "      <th>ItemPrice</th>\n",
       "      <th>hour</th>\n",
       "      <th>day</th>\n",
       "      <th>month</th>\n",
       "      <th>year</th>\n",
       "      <th>minute</th>\n",
       "      <th>0</th>\n",
       "      <th>...</th>\n",
       "      <th>51</th>\n",
       "      <th>52</th>\n",
       "      <th>53</th>\n",
       "      <th>54</th>\n",
       "      <th>55</th>\n",
       "      <th>56</th>\n",
       "      <th>57</th>\n",
       "      <th>58</th>\n",
       "      <th>59</th>\n",
       "      <th>60</th>\n",
       "    </tr>\n",
       "  </thead>\n",
       "  <tbody>\n",
       "    <tr>\n",
       "      <th>0</th>\n",
       "      <td>0.0</td>\n",
       "      <td>1.171700</td>\n",
       "      <td>0.0</td>\n",
       "      <td>-0.997938</td>\n",
       "      <td>1.264240</td>\n",
       "      <td>0.985815</td>\n",
       "      <td>0.0</td>\n",
       "      <td>0.0</td>\n",
       "      <td>-1.433474</td>\n",
       "      <td>1.321022</td>\n",
       "      <td>...</td>\n",
       "      <td>-0.120386</td>\n",
       "      <td>-0.120386</td>\n",
       "      <td>-0.084819</td>\n",
       "      <td>-0.19245</td>\n",
       "      <td>-0.171499</td>\n",
       "      <td>-0.120386</td>\n",
       "      <td>-0.084819</td>\n",
       "      <td>-0.211604</td>\n",
       "      <td>-0.084819</td>\n",
       "      <td>-0.084819</td>\n",
       "    </tr>\n",
       "    <tr>\n",
       "      <th>1</th>\n",
       "      <td>0.0</td>\n",
       "      <td>-0.853461</td>\n",
       "      <td>0.0</td>\n",
       "      <td>-0.997938</td>\n",
       "      <td>1.539931</td>\n",
       "      <td>-1.014389</td>\n",
       "      <td>0.0</td>\n",
       "      <td>0.0</td>\n",
       "      <td>0.603951</td>\n",
       "      <td>1.321022</td>\n",
       "      <td>...</td>\n",
       "      <td>-0.120386</td>\n",
       "      <td>-0.120386</td>\n",
       "      <td>-0.084819</td>\n",
       "      <td>-0.19245</td>\n",
       "      <td>-0.171499</td>\n",
       "      <td>-0.120386</td>\n",
       "      <td>-0.084819</td>\n",
       "      <td>-0.211604</td>\n",
       "      <td>-0.084819</td>\n",
       "      <td>-0.084819</td>\n",
       "    </tr>\n",
       "    <tr>\n",
       "      <th>2</th>\n",
       "      <td>0.0</td>\n",
       "      <td>-0.853461</td>\n",
       "      <td>0.0</td>\n",
       "      <td>-0.997938</td>\n",
       "      <td>-0.665597</td>\n",
       "      <td>-1.014389</td>\n",
       "      <td>0.0</td>\n",
       "      <td>0.0</td>\n",
       "      <td>-0.754332</td>\n",
       "      <td>-0.756990</td>\n",
       "      <td>...</td>\n",
       "      <td>-0.120386</td>\n",
       "      <td>-0.120386</td>\n",
       "      <td>-0.084819</td>\n",
       "      <td>-0.19245</td>\n",
       "      <td>-0.171499</td>\n",
       "      <td>-0.120386</td>\n",
       "      <td>-0.084819</td>\n",
       "      <td>-0.211604</td>\n",
       "      <td>-0.084819</td>\n",
       "      <td>-0.084819</td>\n",
       "    </tr>\n",
       "    <tr>\n",
       "      <th>3</th>\n",
       "      <td>0.0</td>\n",
       "      <td>-0.853461</td>\n",
       "      <td>0.0</td>\n",
       "      <td>-1.254839</td>\n",
       "      <td>-0.941288</td>\n",
       "      <td>-1.014389</td>\n",
       "      <td>0.0</td>\n",
       "      <td>0.0</td>\n",
       "      <td>1.962234</td>\n",
       "      <td>-0.756990</td>\n",
       "      <td>...</td>\n",
       "      <td>-0.120386</td>\n",
       "      <td>-0.120386</td>\n",
       "      <td>-0.084819</td>\n",
       "      <td>-0.19245</td>\n",
       "      <td>-0.171499</td>\n",
       "      <td>-0.120386</td>\n",
       "      <td>-0.084819</td>\n",
       "      <td>-0.211604</td>\n",
       "      <td>-0.084819</td>\n",
       "      <td>-0.084819</td>\n",
       "    </tr>\n",
       "    <tr>\n",
       "      <th>4</th>\n",
       "      <td>0.0</td>\n",
       "      <td>-0.853461</td>\n",
       "      <td>0.0</td>\n",
       "      <td>1.228537</td>\n",
       "      <td>-0.665597</td>\n",
       "      <td>-1.014389</td>\n",
       "      <td>0.0</td>\n",
       "      <td>0.0</td>\n",
       "      <td>-0.754332</td>\n",
       "      <td>-0.756990</td>\n",
       "      <td>...</td>\n",
       "      <td>-0.120386</td>\n",
       "      <td>-0.120386</td>\n",
       "      <td>-0.084819</td>\n",
       "      <td>-0.19245</td>\n",
       "      <td>-0.171499</td>\n",
       "      <td>-0.120386</td>\n",
       "      <td>-0.084819</td>\n",
       "      <td>-0.211604</td>\n",
       "      <td>-0.084819</td>\n",
       "      <td>-0.084819</td>\n",
       "    </tr>\n",
       "  </tbody>\n",
       "</table>\n",
       "<p>5 rows × 70 columns</p>\n",
       "</div>"
      ],
      "text/plain": [
       "   Month      Date  Year  ItemPrice      hour       day  month  year  \\\n",
       "0    0.0  1.171700   0.0  -0.997938  1.264240  0.985815    0.0   0.0   \n",
       "1    0.0 -0.853461   0.0  -0.997938  1.539931 -1.014389    0.0   0.0   \n",
       "2    0.0 -0.853461   0.0  -0.997938 -0.665597 -1.014389    0.0   0.0   \n",
       "3    0.0 -0.853461   0.0  -1.254839 -0.941288 -1.014389    0.0   0.0   \n",
       "4    0.0 -0.853461   0.0   1.228537 -0.665597 -1.014389    0.0   0.0   \n",
       "\n",
       "     minute         0  ...        51        52        53       54        55  \\\n",
       "0 -1.433474  1.321022  ... -0.120386 -0.120386 -0.084819 -0.19245 -0.171499   \n",
       "1  0.603951  1.321022  ... -0.120386 -0.120386 -0.084819 -0.19245 -0.171499   \n",
       "2 -0.754332 -0.756990  ... -0.120386 -0.120386 -0.084819 -0.19245 -0.171499   \n",
       "3  1.962234 -0.756990  ... -0.120386 -0.120386 -0.084819 -0.19245 -0.171499   \n",
       "4 -0.754332 -0.756990  ... -0.120386 -0.120386 -0.084819 -0.19245 -0.171499   \n",
       "\n",
       "         56        57        58        59        60  \n",
       "0 -0.120386 -0.084819 -0.211604 -0.084819 -0.084819  \n",
       "1 -0.120386 -0.084819 -0.211604 -0.084819 -0.084819  \n",
       "2 -0.120386 -0.084819 -0.211604 -0.084819 -0.084819  \n",
       "3 -0.120386 -0.084819 -0.211604 -0.084819 -0.084819  \n",
       "4 -0.120386 -0.084819 -0.211604 -0.084819 -0.084819  \n",
       "\n",
       "[5 rows x 70 columns]"
      ]
     },
     "execution_count": 392,
     "metadata": {},
     "output_type": "execute_result"
    }
   ],
   "source": [
    "ohe_X_final_train.head()"
   ]
  },
  {
   "cell_type": "markdown",
   "metadata": {},
   "source": [
    "Now that our data is Standardised , as can be seen above.\n",
    "We can now finally train our model and make predictions from validation set"
   ]
  },
  {
   "cell_type": "markdown",
   "metadata": {},
   "source": [
    "Model 1- Random Forest"
   ]
  },
  {
   "cell_type": "code",
   "execution_count": 393,
   "metadata": {},
   "outputs": [],
   "source": [
    " model = RandomForestRegressor(n_estimators=100, random_state=0)"
   ]
  },
  {
   "cell_type": "code",
   "execution_count": 394,
   "metadata": {},
   "outputs": [
    {
     "data": {
      "text/plain": [
       "RandomForestRegressor(bootstrap=True, ccp_alpha=0.0, criterion='mse',\n",
       "                      max_depth=None, max_features='auto', max_leaf_nodes=None,\n",
       "                      max_samples=None, min_impurity_decrease=0.0,\n",
       "                      min_impurity_split=None, min_samples_leaf=1,\n",
       "                      min_samples_split=2, min_weight_fraction_leaf=0.0,\n",
       "                      n_estimators=100, n_jobs=None, oob_score=False,\n",
       "                      random_state=0, verbose=0, warm_start=False)"
      ]
     },
     "execution_count": 394,
     "metadata": {},
     "output_type": "execute_result"
    }
   ],
   "source": [
    "model.fit(ohe_X_final_train,y_train)"
   ]
  },
  {
   "cell_type": "code",
   "execution_count": 395,
   "metadata": {},
   "outputs": [],
   "source": [
    "pred = np.round(model.predict(ohe_X_final_valid))"
   ]
  },
  {
   "cell_type": "code",
   "execution_count": 396,
   "metadata": {},
   "outputs": [
    {
     "data": {
      "text/plain": [
       "0.36666666666666664"
      ]
     },
     "execution_count": 396,
     "metadata": {},
     "output_type": "execute_result"
    }
   ],
   "source": [
    "#Metrics to calculate the error\n",
    "#mean absolute error\n",
    "mean_absolute_error(y_valid,pred)"
   ]
  },
  {
   "cell_type": "code",
   "execution_count": 397,
   "metadata": {},
   "outputs": [
    {
     "data": {
      "text/plain": [
       "0.43333333333333335"
      ]
     },
     "execution_count": 397,
     "metadata": {},
     "output_type": "execute_result"
    }
   ],
   "source": [
    "#Mean Squared Error\n",
    "mean_squared_error(y_valid,pred)"
   ]
  },
  {
   "cell_type": "code",
   "execution_count": 398,
   "metadata": {},
   "outputs": [
    {
     "data": {
      "image/png": "[encoded data removed]",
      "text/plain": [
       "<Figure size 432x288 with 1 Axes>"
      ]
     },
     "metadata": {},
     "output_type": "display_data"
    },
    {
     "data": {
      "text/plain": [
       "<Figure size 864x432 with 0 Axes>"
      ]
     },
     "metadata": {},
     "output_type": "display_data"
    }
   ],
   "source": [
    "# Plot of predicted Item Quantity vs actual unseen validation set Item Quantity\n",
    "sns.barplot(x= y_valid,y = pred)\n",
    "plt.tight_layout()\n",
    "plt.figure(figsize = (12,6))\n",
    "sns.set_style('whitegrid')"
   ]
  },
  {
   "cell_type": "markdown",
   "metadata": {},
   "source": [
    "Model 2- XGBOOST"
   ]
  },
  {
   "cell_type": "code",
   "execution_count": 399,
   "metadata": {},
   "outputs": [],
   "source": [
    "model = XGBRegressor()"
   ]
  },
  {
   "cell_type": "code",
   "execution_count": 400,
   "metadata": {},
   "outputs": [
    {
     "data": {
      "text/plain": [
       "XGBRegressor(base_score=0.5, booster='gbtree', colsample_bylevel=1,\n",
       "             colsample_bynode=1, colsample_bytree=1, gamma=0, gpu_id=-1,\n",
       "             importance_type='gain', interaction_constraints='',\n",
       "             learning_rate=0.300000012, max_delta_step=0, max_depth=6,\n",
       "             min_child_weight=1, missing=nan, monotone_constraints='()',\n",
       "             n_estimators=100, n_jobs=0, num_parallel_tree=1,\n",
       "             objective='reg:squarederror', random_state=0, reg_alpha=0,\n",
       "             reg_lambda=1, scale_pos_weight=1, subsample=1, tree_method='exact',\n",
       "             validate_parameters=1, verbosity=None)"
      ]
     },
     "execution_count": 400,
     "metadata": {},
     "output_type": "execute_result"
    }
   ],
   "source": [
    "model.fit(ohe_X_final_train,y_train)"
   ]
  },
  {
   "cell_type": "code",
   "execution_count": 401,
   "metadata": {},
   "outputs": [],
   "source": [
    "preds = model.predict(ohe_X_final_valid)"
   ]
  },
  {
   "cell_type": "code",
   "execution_count": 402,
   "metadata": {},
   "outputs": [
    {
     "name": "stdout",
     "output_type": "stream",
     "text": [
      "0.36666666666666664\n",
      "0.43333333333333335\n"
     ]
    }
   ],
   "source": [
    "print(mean_absolute_error(y_valid,pred))\n",
    "print(mean_squared_error(y_valid,pred))"
   ]
  },
  {
   "cell_type": "code",
   "execution_count": 403,
   "metadata": {},
   "outputs": [
    {
     "data": {
      "image/png": "[encoded data removed]",
      "text/plain": [
       "<Figure size 432x288 with 1 Axes>"
      ]
     },
     "metadata": {},
     "output_type": "display_data"
    },
    {
     "data": {
      "text/plain": [
       "<Figure size 864x432 with 0 Axes>"
      ]
     },
     "metadata": {},
     "output_type": "display_data"
    }
   ],
   "source": [
    "# Plot of predicted Item Quantity vs actual unseen validation set Item Quantity\n",
    "sns.barplot(x= y_valid,y = preds)\n",
    "plt.tight_layout()\n",
    "plt.figure(figsize = (12,6))\n",
    "sns.set_style('whitegrid')"
   ]
  },
  {
   "cell_type": "markdown",
   "metadata": {},
   "source": [
    "Model 3 -Linear Regression"
   ]
  },
  {
   "cell_type": "code",
   "execution_count": 409,
   "metadata": {},
   "outputs": [],
   "source": [
    "model = LinearRegression()"
   ]
  },
  {
   "cell_type": "code",
   "execution_count": 410,
   "metadata": {},
   "outputs": [
    {
     "data": {
      "text/plain": [
       "LinearRegression(copy_X=True, fit_intercept=True, n_jobs=None, normalize=False)"
      ]
     },
     "execution_count": 410,
     "metadata": {},
     "output_type": "execute_result"
    }
   ],
   "source": [
    "model.fit(ohe_X_final_train,y_train)"
   ]
  },
  {
   "cell_type": "code",
   "execution_count": 411,
   "metadata": {},
   "outputs": [],
   "source": [
    "pred = model.predict(ohe_X_final_valid)"
   ]
  },
  {
   "cell_type": "code",
   "execution_count": 412,
   "metadata": {},
   "outputs": [
    {
     "name": "stdout",
     "output_type": "stream",
     "text": [
      "0.4177511887516905\n",
      "0.2909046641218503\n"
     ]
    }
   ],
   "source": [
    "print(mean_absolute_error(y_valid,pred))\n",
    "print(mean_squared_error(y_valid,pred))"
   ]
  },
  {
   "cell_type": "code",
   "execution_count": 413,
   "metadata": {},
   "outputs": [
    {
     "data": {
      "image/png": "[encoded data removed]",
      "text/plain": [
       "<Figure size 432x288 with 1 Axes>"
      ]
     },
     "metadata": {},
     "output_type": "display_data"
    },
    {
     "data": {
      "text/plain": [
       "<Figure size 864x432 with 0 Axes>"
      ]
     },
     "metadata": {},
     "output_type": "display_data"
    }
   ],
   "source": [
    "# Plot of predicted Item Quantity vs actual unseen validation set Item Quantity\n",
    "sns.barplot(x= y_valid,y = pred)\n",
    "plt.tight_layout()\n",
    "plt.figure(figsize = (12,6))\n",
    "sns.set_style('whitegrid')"
   ]
  },
  {
   "cell_type": "markdown",
   "metadata": {},
   "source": [
    "Model 4 -KNearest Neighbors"
   ]
  },
  {
   "cell_type": "code",
   "execution_count": 414,
   "metadata": {},
   "outputs": [],
   "source": [
    "error_list = []\n",
    "for i in range(1,25):\n",
    "    model = KNeighborsRegressor(n_neighbors = i)\n",
    "    model.fit(ohe_X_final_train,y_train)\n",
    "    preds = model.predict(ohe_X_final_valid)\n",
    "    error_list.append(np.mean(preds != y_valid ))"
   ]
  },
  {
   "cell_type": "code",
   "execution_count": 415,
   "metadata": {},
   "outputs": [
    {
     "data": {
      "text/plain": [
       "Text(0.5, 1.0, 'Error Rate Vs K Values')"
      ]
     },
     "execution_count": 415,
     "metadata": {},
     "output_type": "execute_result"
    },
    {
     "data": {
      "image/png": "[encoded data removed]",
      "text/plain": [
       "<Figure size 864x432 with 1 Axes>"
      ]
     },
     "metadata": {},
     "output_type": "display_data"
    }
   ],
   "source": [
    "plt.figure(figsize= (12,6) )\n",
    "plt.plot(range(1,25),error_list,marker = 'o',markersize = 10)\n",
    "plt.xlabel('K Values')\n",
    "plt.ylabel('Error Rate')\n",
    "\n",
    "plt.title('Error Rate Vs K Values')"
   ]
  },
  {
   "cell_type": "code",
   "execution_count": 416,
   "metadata": {},
   "outputs": [],
   "source": [
    "model = KNeighborsRegressor(n_neighbors = 5)"
   ]
  },
  {
   "cell_type": "code",
   "execution_count": 417,
   "metadata": {},
   "outputs": [
    {
     "data": {
      "text/plain": [
       "KNeighborsRegressor(algorithm='auto', leaf_size=30, metric='minkowski',\n",
       "                    metric_params=None, n_jobs=None, n_neighbors=5, p=2,\n",
       "                    weights='uniform')"
      ]
     },
     "execution_count": 417,
     "metadata": {},
     "output_type": "execute_result"
    }
   ],
   "source": [
    "model.fit(ohe_X_final_train,y_train)"
   ]
  },
  {
   "cell_type": "code",
   "execution_count": 418,
   "metadata": {},
   "outputs": [],
   "source": [
    "preds = model.predict(ohe_X_final_valid)"
   ]
  },
  {
   "cell_type": "code",
   "execution_count": 419,
   "metadata": {},
   "outputs": [
    {
     "data": {
      "text/plain": [
       "array([1.2, 1.6, 1.6, 1.6, 1.8, 2.4, 1.8, 1.4, 1.2, 1.8, 2.4, 1.6, 1.4,\n",
       "       1.8, 1.6, 1.6, 1.4, 1.8, 1.8, 1.8, 2. , 1.4, 1.8, 2.2, 2.2, 1.4,\n",
       "       1.8, 1.6, 1.4, 2. , 1.4, 1.6, 1. , 1.4, 2. , 1.4, 1.2, 1.8, 1. ,\n",
       "       1.4, 1.8, 2.2, 1.6, 1.2, 1.6, 1. , 1.2, 1.8, 1.4, 1.6, 2.4, 2. ,\n",
       "       2.2, 1.8, 1.8, 1.4, 2. , 2.2, 1.8, 1.8])"
      ]
     },
     "execution_count": 419,
     "metadata": {},
     "output_type": "execute_result"
    }
   ],
   "source": [
    "preds"
   ]
  },
  {
   "cell_type": "code",
   "execution_count": 420,
   "metadata": {},
   "outputs": [
    {
     "name": "stdout",
     "output_type": "stream",
     "text": [
      "0.5133333333333333\n",
      "0.4133333333333333\n"
     ]
    }
   ],
   "source": [
    "print(mean_absolute_error(y_valid,preds))\n",
    "print(mean_squared_error(y_valid,preds))"
   ]
  },
  {
   "cell_type": "code",
   "execution_count": 421,
   "metadata": {},
   "outputs": [
    {
     "data": {
      "image/png": "[encoded data removed]",
      "text/plain": [
       "<Figure size 432x288 with 1 Axes>"
      ]
     },
     "metadata": {},
     "output_type": "display_data"
    },
    {
     "data": {
      "text/plain": [
       "<Figure size 864x432 with 0 Axes>"
      ]
     },
     "metadata": {},
     "output_type": "display_data"
    }
   ],
   "source": [
    "# Plot of predicted Item Quantity vs actual unseen validation set Item Quantity\n",
    "sns.barplot(x= y_valid,y = preds)\n",
    "plt.tight_layout()\n",
    "plt.figure(figsize = (12,6))\n",
    "sns.set_style('whitegrid')"
   ]
  },
  {
   "cell_type": "markdown",
   "metadata": {},
   "source": [
    "So Random Forest and XG Boost refressors perfomed well\n",
    "Giving us lesser error in predicting the Item Quantity.\n",
    "\n",
    "So Best model would be Random Forest/XG Boost"
   ]
  },
  {
   "cell_type": "markdown",
   "metadata": {},
   "source": [
    "# Predicting MenuItem"
   ]
  },
  {
   "cell_type": "code",
   "execution_count": 422,
   "metadata": {},
   "outputs": [],
   "source": [
    "df = pd.read_csv('Restaurant.csv')"
   ]
  },
  {
   "cell_type": "code",
   "execution_count": 423,
   "metadata": {},
   "outputs": [
    {
     "data": {
      "text/html": [
       "<div>\n",
       "<style scoped>\n",
       "    .dataframe tbody tr th:only-of-type {\n",
       "        vertical-align: middle;\n",
       "    }\n",
       "\n",
       "    .dataframe tbody tr th {\n",
       "        vertical-align: top;\n",
       "    }\n",
       "\n",
       "    .dataframe thead th {\n",
       "        text-align: right;\n",
       "    }\n",
       "</style>\n",
       "<table border=\"1\" class=\"dataframe\">\n",
       "  <thead>\n",
       "    <tr style=\"text-align: right;\">\n",
       "      <th></th>\n",
       "      <th>StoreCode</th>\n",
       "      <th>DTS</th>\n",
       "      <th>Shift</th>\n",
       "      <th>Day Type</th>\n",
       "      <th>Day</th>\n",
       "      <th>Month</th>\n",
       "      <th>Date</th>\n",
       "      <th>Year</th>\n",
       "      <th>Time</th>\n",
       "      <th>TicketCode</th>\n",
       "      <th>PartySize</th>\n",
       "      <th>MenuCateogry</th>\n",
       "      <th>MenuItem</th>\n",
       "      <th>ItemPrice</th>\n",
       "      <th>ItemQty</th>\n",
       "    </tr>\n",
       "  </thead>\n",
       "  <tbody>\n",
       "    <tr>\n",
       "      <th>0</th>\n",
       "      <td>YALEV6B6K3</td>\n",
       "      <td>01/01/2019 11:30AM</td>\n",
       "      <td>Lunch</td>\n",
       "      <td>Weekday</td>\n",
       "      <td>Tuesday</td>\n",
       "      <td>1</td>\n",
       "      <td>1</td>\n",
       "      <td>2019</td>\n",
       "      <td>11:30AM</td>\n",
       "      <td>YALE0001</td>\n",
       "      <td>4</td>\n",
       "      <td>Starter</td>\n",
       "      <td>GOBI MANCHURIAN</td>\n",
       "      <td>14.0</td>\n",
       "      <td>1</td>\n",
       "    </tr>\n",
       "    <tr>\n",
       "      <th>1</th>\n",
       "      <td>YALEV6B6K3</td>\n",
       "      <td>01/01/2019 11:30AM</td>\n",
       "      <td>Lunch</td>\n",
       "      <td>Weekday</td>\n",
       "      <td>Tuesday</td>\n",
       "      <td>1</td>\n",
       "      <td>1</td>\n",
       "      <td>2019</td>\n",
       "      <td>11:30AM</td>\n",
       "      <td>YALE0001</td>\n",
       "      <td>4</td>\n",
       "      <td>Starter</td>\n",
       "      <td>TASTY FLATBREAD</td>\n",
       "      <td>11.0</td>\n",
       "      <td>1</td>\n",
       "    </tr>\n",
       "    <tr>\n",
       "      <th>2</th>\n",
       "      <td>YALEV6B6K3</td>\n",
       "      <td>01/01/2019 11:30AM</td>\n",
       "      <td>Lunch</td>\n",
       "      <td>Weekday</td>\n",
       "      <td>Tuesday</td>\n",
       "      <td>1</td>\n",
       "      <td>1</td>\n",
       "      <td>2019</td>\n",
       "      <td>11:30AM</td>\n",
       "      <td>YALE0001</td>\n",
       "      <td>4</td>\n",
       "      <td>VEGETABLE SPECIALS</td>\n",
       "      <td>SARSON DA SAAG</td>\n",
       "      <td>15.0</td>\n",
       "      <td>1</td>\n",
       "    </tr>\n",
       "    <tr>\n",
       "      <th>3</th>\n",
       "      <td>YALEV6B6K3</td>\n",
       "      <td>01/01/2019 11:30AM</td>\n",
       "      <td>Lunch</td>\n",
       "      <td>Weekday</td>\n",
       "      <td>Tuesday</td>\n",
       "      <td>1</td>\n",
       "      <td>1</td>\n",
       "      <td>2019</td>\n",
       "      <td>11:30AM</td>\n",
       "      <td>YALE0001</td>\n",
       "      <td>4</td>\n",
       "      <td>VEGETABLE SPECIALS</td>\n",
       "      <td>PANEER VINDALOO</td>\n",
       "      <td>16.0</td>\n",
       "      <td>1</td>\n",
       "    </tr>\n",
       "    <tr>\n",
       "      <th>4</th>\n",
       "      <td>YALEV6B6K3</td>\n",
       "      <td>01/01/2019 11:30AM</td>\n",
       "      <td>Lunch</td>\n",
       "      <td>Weekday</td>\n",
       "      <td>Tuesday</td>\n",
       "      <td>1</td>\n",
       "      <td>1</td>\n",
       "      <td>2019</td>\n",
       "      <td>11:30AM</td>\n",
       "      <td>YALE0001</td>\n",
       "      <td>4</td>\n",
       "      <td>BREADS</td>\n",
       "      <td>GARLIC NAAN</td>\n",
       "      <td>3.5</td>\n",
       "      <td>2</td>\n",
       "    </tr>\n",
       "  </tbody>\n",
       "</table>\n",
       "</div>"
      ],
      "text/plain": [
       "    StoreCode                 DTS  Shift Day Type      Day  Month  Date  Year  \\\n",
       "0  YALEV6B6K3  01/01/2019 11:30AM  Lunch  Weekday  Tuesday      1     1  2019   \n",
       "1  YALEV6B6K3  01/01/2019 11:30AM  Lunch  Weekday  Tuesday      1     1  2019   \n",
       "2  YALEV6B6K3  01/01/2019 11:30AM  Lunch  Weekday  Tuesday      1     1  2019   \n",
       "3  YALEV6B6K3  01/01/2019 11:30AM  Lunch  Weekday  Tuesday      1     1  2019   \n",
       "4  YALEV6B6K3  01/01/2019 11:30AM  Lunch  Weekday  Tuesday      1     1  2019   \n",
       "\n",
       "      Time TicketCode PartySize        MenuCateogry         MenuItem  \\\n",
       "0  11:30AM   YALE0001         4             Starter  GOBI MANCHURIAN   \n",
       "1  11:30AM   YALE0001         4             Starter  TASTY FLATBREAD   \n",
       "2  11:30AM   YALE0001         4  VEGETABLE SPECIALS   SARSON DA SAAG   \n",
       "3  11:30AM   YALE0001         4  VEGETABLE SPECIALS  PANEER VINDALOO   \n",
       "4  11:30AM   YALE0001         4              BREADS      GARLIC NAAN   \n",
       "\n",
       "   ItemPrice  ItemQty  \n",
       "0       14.0        1  \n",
       "1       11.0        1  \n",
       "2       15.0        1  \n",
       "3       16.0        1  \n",
       "4        3.5        2  "
      ]
     },
     "execution_count": 423,
     "metadata": {},
     "output_type": "execute_result"
    }
   ],
   "source": [
    "df.head()"
   ]
  },
  {
   "cell_type": "code",
   "execution_count": 424,
   "metadata": {},
   "outputs": [],
   "source": [
    "df = df.replace('na',np.nan)"
   ]
  },
  {
   "cell_type": "code",
   "execution_count": 425,
   "metadata": {},
   "outputs": [],
   "source": [
    "# Convert object data type to numeric for PartySize column\n",
    "df['PartySize'] = pd.to_numeric(df['PartySize'])"
   ]
  },
  {
   "cell_type": "code",
   "execution_count": 426,
   "metadata": {},
   "outputs": [],
   "source": [
    "# Filling Missing values with the median of the PartySize column which is 4.0\n",
    "df[df['PartySize'].isnull() == True] = df[df['PartySize'].isnull() == True].fillna(df['PartySize'].median())"
   ]
  },
  {
   "cell_type": "code",
   "execution_count": 427,
   "metadata": {},
   "outputs": [
    {
     "data": {
      "text/html": [
       "<div>\n",
       "<style scoped>\n",
       "    .dataframe tbody tr th:only-of-type {\n",
       "        vertical-align: middle;\n",
       "    }\n",
       "\n",
       "    .dataframe tbody tr th {\n",
       "        vertical-align: top;\n",
       "    }\n",
       "\n",
       "    .dataframe thead th {\n",
       "        text-align: right;\n",
       "    }\n",
       "</style>\n",
       "<table border=\"1\" class=\"dataframe\">\n",
       "  <thead>\n",
       "    <tr style=\"text-align: right;\">\n",
       "      <th></th>\n",
       "      <th>StoreCode</th>\n",
       "      <th>DTS</th>\n",
       "      <th>Shift</th>\n",
       "      <th>Day Type</th>\n",
       "      <th>Day</th>\n",
       "      <th>Month</th>\n",
       "      <th>Date</th>\n",
       "      <th>Year</th>\n",
       "      <th>Time</th>\n",
       "      <th>TicketCode</th>\n",
       "      <th>PartySize</th>\n",
       "      <th>MenuCateogry</th>\n",
       "      <th>MenuItem</th>\n",
       "      <th>ItemPrice</th>\n",
       "      <th>ItemQty</th>\n",
       "    </tr>\n",
       "  </thead>\n",
       "  <tbody>\n",
       "    <tr>\n",
       "      <th>0</th>\n",
       "      <td>YALEV6B6K3</td>\n",
       "      <td>01/01/2019 11:30AM</td>\n",
       "      <td>Lunch</td>\n",
       "      <td>Weekday</td>\n",
       "      <td>Tuesday</td>\n",
       "      <td>1</td>\n",
       "      <td>1</td>\n",
       "      <td>2019</td>\n",
       "      <td>11:30AM</td>\n",
       "      <td>YALE0001</td>\n",
       "      <td>4.0</td>\n",
       "      <td>Starter</td>\n",
       "      <td>GOBI MANCHURIAN</td>\n",
       "      <td>14.0</td>\n",
       "      <td>1</td>\n",
       "    </tr>\n",
       "    <tr>\n",
       "      <th>1</th>\n",
       "      <td>YALEV6B6K3</td>\n",
       "      <td>01/01/2019 11:30AM</td>\n",
       "      <td>Lunch</td>\n",
       "      <td>Weekday</td>\n",
       "      <td>Tuesday</td>\n",
       "      <td>1</td>\n",
       "      <td>1</td>\n",
       "      <td>2019</td>\n",
       "      <td>11:30AM</td>\n",
       "      <td>YALE0001</td>\n",
       "      <td>4.0</td>\n",
       "      <td>Starter</td>\n",
       "      <td>TASTY FLATBREAD</td>\n",
       "      <td>11.0</td>\n",
       "      <td>1</td>\n",
       "    </tr>\n",
       "    <tr>\n",
       "      <th>2</th>\n",
       "      <td>YALEV6B6K3</td>\n",
       "      <td>01/01/2019 11:30AM</td>\n",
       "      <td>Lunch</td>\n",
       "      <td>Weekday</td>\n",
       "      <td>Tuesday</td>\n",
       "      <td>1</td>\n",
       "      <td>1</td>\n",
       "      <td>2019</td>\n",
       "      <td>11:30AM</td>\n",
       "      <td>YALE0001</td>\n",
       "      <td>4.0</td>\n",
       "      <td>VEGETABLE SPECIALS</td>\n",
       "      <td>SARSON DA SAAG</td>\n",
       "      <td>15.0</td>\n",
       "      <td>1</td>\n",
       "    </tr>\n",
       "    <tr>\n",
       "      <th>3</th>\n",
       "      <td>YALEV6B6K3</td>\n",
       "      <td>01/01/2019 11:30AM</td>\n",
       "      <td>Lunch</td>\n",
       "      <td>Weekday</td>\n",
       "      <td>Tuesday</td>\n",
       "      <td>1</td>\n",
       "      <td>1</td>\n",
       "      <td>2019</td>\n",
       "      <td>11:30AM</td>\n",
       "      <td>YALE0001</td>\n",
       "      <td>4.0</td>\n",
       "      <td>VEGETABLE SPECIALS</td>\n",
       "      <td>PANEER VINDALOO</td>\n",
       "      <td>16.0</td>\n",
       "      <td>1</td>\n",
       "    </tr>\n",
       "    <tr>\n",
       "      <th>4</th>\n",
       "      <td>YALEV6B6K3</td>\n",
       "      <td>01/01/2019 11:30AM</td>\n",
       "      <td>Lunch</td>\n",
       "      <td>Weekday</td>\n",
       "      <td>Tuesday</td>\n",
       "      <td>1</td>\n",
       "      <td>1</td>\n",
       "      <td>2019</td>\n",
       "      <td>11:30AM</td>\n",
       "      <td>YALE0001</td>\n",
       "      <td>4.0</td>\n",
       "      <td>BREADS</td>\n",
       "      <td>GARLIC NAAN</td>\n",
       "      <td>3.5</td>\n",
       "      <td>2</td>\n",
       "    </tr>\n",
       "  </tbody>\n",
       "</table>\n",
       "</div>"
      ],
      "text/plain": [
       "    StoreCode                 DTS  Shift Day Type      Day  Month  Date  Year  \\\n",
       "0  YALEV6B6K3  01/01/2019 11:30AM  Lunch  Weekday  Tuesday      1     1  2019   \n",
       "1  YALEV6B6K3  01/01/2019 11:30AM  Lunch  Weekday  Tuesday      1     1  2019   \n",
       "2  YALEV6B6K3  01/01/2019 11:30AM  Lunch  Weekday  Tuesday      1     1  2019   \n",
       "3  YALEV6B6K3  01/01/2019 11:30AM  Lunch  Weekday  Tuesday      1     1  2019   \n",
       "4  YALEV6B6K3  01/01/2019 11:30AM  Lunch  Weekday  Tuesday      1     1  2019   \n",
       "\n",
       "      Time TicketCode  PartySize        MenuCateogry         MenuItem  \\\n",
       "0  11:30AM   YALE0001        4.0             Starter  GOBI MANCHURIAN   \n",
       "1  11:30AM   YALE0001        4.0             Starter  TASTY FLATBREAD   \n",
       "2  11:30AM   YALE0001        4.0  VEGETABLE SPECIALS   SARSON DA SAAG   \n",
       "3  11:30AM   YALE0001        4.0  VEGETABLE SPECIALS  PANEER VINDALOO   \n",
       "4  11:30AM   YALE0001        4.0              BREADS      GARLIC NAAN   \n",
       "\n",
       "   ItemPrice  ItemQty  \n",
       "0       14.0        1  \n",
       "1       11.0        1  \n",
       "2       15.0        1  \n",
       "3       16.0        1  \n",
       "4        3.5        2  "
      ]
     },
     "execution_count": 427,
     "metadata": {},
     "output_type": "execute_result"
    }
   ],
   "source": [
    "df.head()"
   ]
  },
  {
   "cell_type": "code",
   "execution_count": 428,
   "metadata": {},
   "outputs": [
    {
     "data": {
      "text/plain": [
       "array([4., 3., 2., 5.])"
      ]
     },
     "execution_count": 428,
     "metadata": {},
     "output_type": "execute_result"
    }
   ],
   "source": [
    "df['PartySize'].unique()"
   ]
  },
  {
   "cell_type": "code",
   "execution_count": 429,
   "metadata": {},
   "outputs": [],
   "source": [
    "df['DTS'] = pd.to_datetime(df['DTS'])\n",
    "\n",
    "df = df.assign(hour=df['DTS'].dt.hour,\n",
    "               day=df['DTS'].dt.day,\n",
    "               month=df['DTS'].dt.month,\n",
    "               year=df['DTS'].dt.year,\n",
    "              minute=df['DTS'].dt.minute)"
   ]
  },
  {
   "cell_type": "code",
   "execution_count": 430,
   "metadata": {},
   "outputs": [
    {
     "data": {
      "text/html": [
       "<div>\n",
       "<style scoped>\n",
       "    .dataframe tbody tr th:only-of-type {\n",
       "        vertical-align: middle;\n",
       "    }\n",
       "\n",
       "    .dataframe tbody tr th {\n",
       "        vertical-align: top;\n",
       "    }\n",
       "\n",
       "    .dataframe thead th {\n",
       "        text-align: right;\n",
       "    }\n",
       "</style>\n",
       "<table border=\"1\" class=\"dataframe\">\n",
       "  <thead>\n",
       "    <tr style=\"text-align: right;\">\n",
       "      <th></th>\n",
       "      <th>StoreCode</th>\n",
       "      <th>DTS</th>\n",
       "      <th>Shift</th>\n",
       "      <th>Day Type</th>\n",
       "      <th>Day</th>\n",
       "      <th>Month</th>\n",
       "      <th>Date</th>\n",
       "      <th>Year</th>\n",
       "      <th>Time</th>\n",
       "      <th>TicketCode</th>\n",
       "      <th>PartySize</th>\n",
       "      <th>MenuCateogry</th>\n",
       "      <th>MenuItem</th>\n",
       "      <th>ItemPrice</th>\n",
       "      <th>ItemQty</th>\n",
       "      <th>hour</th>\n",
       "      <th>day</th>\n",
       "      <th>month</th>\n",
       "      <th>year</th>\n",
       "      <th>minute</th>\n",
       "    </tr>\n",
       "  </thead>\n",
       "  <tbody>\n",
       "    <tr>\n",
       "      <th>0</th>\n",
       "      <td>YALEV6B6K3</td>\n",
       "      <td>2019-01-01 11:30:00</td>\n",
       "      <td>Lunch</td>\n",
       "      <td>Weekday</td>\n",
       "      <td>Tuesday</td>\n",
       "      <td>1</td>\n",
       "      <td>1</td>\n",
       "      <td>2019</td>\n",
       "      <td>11:30AM</td>\n",
       "      <td>YALE0001</td>\n",
       "      <td>4.0</td>\n",
       "      <td>Starter</td>\n",
       "      <td>GOBI MANCHURIAN</td>\n",
       "      <td>14.0</td>\n",
       "      <td>1</td>\n",
       "      <td>11</td>\n",
       "      <td>1</td>\n",
       "      <td>1</td>\n",
       "      <td>2019</td>\n",
       "      <td>30</td>\n",
       "    </tr>\n",
       "    <tr>\n",
       "      <th>1</th>\n",
       "      <td>YALEV6B6K3</td>\n",
       "      <td>2019-01-01 11:30:00</td>\n",
       "      <td>Lunch</td>\n",
       "      <td>Weekday</td>\n",
       "      <td>Tuesday</td>\n",
       "      <td>1</td>\n",
       "      <td>1</td>\n",
       "      <td>2019</td>\n",
       "      <td>11:30AM</td>\n",
       "      <td>YALE0001</td>\n",
       "      <td>4.0</td>\n",
       "      <td>Starter</td>\n",
       "      <td>TASTY FLATBREAD</td>\n",
       "      <td>11.0</td>\n",
       "      <td>1</td>\n",
       "      <td>11</td>\n",
       "      <td>1</td>\n",
       "      <td>1</td>\n",
       "      <td>2019</td>\n",
       "      <td>30</td>\n",
       "    </tr>\n",
       "    <tr>\n",
       "      <th>2</th>\n",
       "      <td>YALEV6B6K3</td>\n",
       "      <td>2019-01-01 11:30:00</td>\n",
       "      <td>Lunch</td>\n",
       "      <td>Weekday</td>\n",
       "      <td>Tuesday</td>\n",
       "      <td>1</td>\n",
       "      <td>1</td>\n",
       "      <td>2019</td>\n",
       "      <td>11:30AM</td>\n",
       "      <td>YALE0001</td>\n",
       "      <td>4.0</td>\n",
       "      <td>VEGETABLE SPECIALS</td>\n",
       "      <td>SARSON DA SAAG</td>\n",
       "      <td>15.0</td>\n",
       "      <td>1</td>\n",
       "      <td>11</td>\n",
       "      <td>1</td>\n",
       "      <td>1</td>\n",
       "      <td>2019</td>\n",
       "      <td>30</td>\n",
       "    </tr>\n",
       "    <tr>\n",
       "      <th>3</th>\n",
       "      <td>YALEV6B6K3</td>\n",
       "      <td>2019-01-01 11:30:00</td>\n",
       "      <td>Lunch</td>\n",
       "      <td>Weekday</td>\n",
       "      <td>Tuesday</td>\n",
       "      <td>1</td>\n",
       "      <td>1</td>\n",
       "      <td>2019</td>\n",
       "      <td>11:30AM</td>\n",
       "      <td>YALE0001</td>\n",
       "      <td>4.0</td>\n",
       "      <td>VEGETABLE SPECIALS</td>\n",
       "      <td>PANEER VINDALOO</td>\n",
       "      <td>16.0</td>\n",
       "      <td>1</td>\n",
       "      <td>11</td>\n",
       "      <td>1</td>\n",
       "      <td>1</td>\n",
       "      <td>2019</td>\n",
       "      <td>30</td>\n",
       "    </tr>\n",
       "    <tr>\n",
       "      <th>4</th>\n",
       "      <td>YALEV6B6K3</td>\n",
       "      <td>2019-01-01 11:30:00</td>\n",
       "      <td>Lunch</td>\n",
       "      <td>Weekday</td>\n",
       "      <td>Tuesday</td>\n",
       "      <td>1</td>\n",
       "      <td>1</td>\n",
       "      <td>2019</td>\n",
       "      <td>11:30AM</td>\n",
       "      <td>YALE0001</td>\n",
       "      <td>4.0</td>\n",
       "      <td>BREADS</td>\n",
       "      <td>GARLIC NAAN</td>\n",
       "      <td>3.5</td>\n",
       "      <td>2</td>\n",
       "      <td>11</td>\n",
       "      <td>1</td>\n",
       "      <td>1</td>\n",
       "      <td>2019</td>\n",
       "      <td>30</td>\n",
       "    </tr>\n",
       "  </tbody>\n",
       "</table>\n",
       "</div>"
      ],
      "text/plain": [
       "    StoreCode                 DTS  Shift Day Type      Day  Month  Date  Year  \\\n",
       "0  YALEV6B6K3 2019-01-01 11:30:00  Lunch  Weekday  Tuesday      1     1  2019   \n",
       "1  YALEV6B6K3 2019-01-01 11:30:00  Lunch  Weekday  Tuesday      1     1  2019   \n",
       "2  YALEV6B6K3 2019-01-01 11:30:00  Lunch  Weekday  Tuesday      1     1  2019   \n",
       "3  YALEV6B6K3 2019-01-01 11:30:00  Lunch  Weekday  Tuesday      1     1  2019   \n",
       "4  YALEV6B6K3 2019-01-01 11:30:00  Lunch  Weekday  Tuesday      1     1  2019   \n",
       "\n",
       "      Time TicketCode  PartySize        MenuCateogry         MenuItem  \\\n",
       "0  11:30AM   YALE0001        4.0             Starter  GOBI MANCHURIAN   \n",
       "1  11:30AM   YALE0001        4.0             Starter  TASTY FLATBREAD   \n",
       "2  11:30AM   YALE0001        4.0  VEGETABLE SPECIALS   SARSON DA SAAG   \n",
       "3  11:30AM   YALE0001        4.0  VEGETABLE SPECIALS  PANEER VINDALOO   \n",
       "4  11:30AM   YALE0001        4.0              BREADS      GARLIC NAAN   \n",
       "\n",
       "   ItemPrice  ItemQty  hour  day  month  year  minute  \n",
       "0       14.0        1    11    1      1  2019      30  \n",
       "1       11.0        1    11    1      1  2019      30  \n",
       "2       15.0        1    11    1      1  2019      30  \n",
       "3       16.0        1    11    1      1  2019      30  \n",
       "4        3.5        2    11    1      1  2019      30  "
      ]
     },
     "execution_count": 430,
     "metadata": {},
     "output_type": "execute_result"
    }
   ],
   "source": [
    "df.head()"
   ]
  },
  {
   "cell_type": "code",
   "execution_count": 431,
   "metadata": {},
   "outputs": [],
   "source": [
    "df = df.drop(['StoreCode','TicketCode','Time','DTS'],axis = 1)"
   ]
  },
  {
   "cell_type": "code",
   "execution_count": 432,
   "metadata": {},
   "outputs": [
    {
     "data": {
      "text/html": [
       "<div>\n",
       "<style scoped>\n",
       "    .dataframe tbody tr th:only-of-type {\n",
       "        vertical-align: middle;\n",
       "    }\n",
       "\n",
       "    .dataframe tbody tr th {\n",
       "        vertical-align: top;\n",
       "    }\n",
       "\n",
       "    .dataframe thead th {\n",
       "        text-align: right;\n",
       "    }\n",
       "</style>\n",
       "<table border=\"1\" class=\"dataframe\">\n",
       "  <thead>\n",
       "    <tr style=\"text-align: right;\">\n",
       "      <th></th>\n",
       "      <th>Shift</th>\n",
       "      <th>Day Type</th>\n",
       "      <th>Day</th>\n",
       "      <th>Month</th>\n",
       "      <th>Date</th>\n",
       "      <th>Year</th>\n",
       "      <th>PartySize</th>\n",
       "      <th>MenuCateogry</th>\n",
       "      <th>MenuItem</th>\n",
       "      <th>ItemPrice</th>\n",
       "      <th>ItemQty</th>\n",
       "      <th>hour</th>\n",
       "      <th>day</th>\n",
       "      <th>month</th>\n",
       "      <th>year</th>\n",
       "      <th>minute</th>\n",
       "    </tr>\n",
       "  </thead>\n",
       "  <tbody>\n",
       "    <tr>\n",
       "      <th>0</th>\n",
       "      <td>Lunch</td>\n",
       "      <td>Weekday</td>\n",
       "      <td>Tuesday</td>\n",
       "      <td>1</td>\n",
       "      <td>1</td>\n",
       "      <td>2019</td>\n",
       "      <td>4.0</td>\n",
       "      <td>Starter</td>\n",
       "      <td>GOBI MANCHURIAN</td>\n",
       "      <td>14.0</td>\n",
       "      <td>1</td>\n",
       "      <td>11</td>\n",
       "      <td>1</td>\n",
       "      <td>1</td>\n",
       "      <td>2019</td>\n",
       "      <td>30</td>\n",
       "    </tr>\n",
       "    <tr>\n",
       "      <th>1</th>\n",
       "      <td>Lunch</td>\n",
       "      <td>Weekday</td>\n",
       "      <td>Tuesday</td>\n",
       "      <td>1</td>\n",
       "      <td>1</td>\n",
       "      <td>2019</td>\n",
       "      <td>4.0</td>\n",
       "      <td>Starter</td>\n",
       "      <td>TASTY FLATBREAD</td>\n",
       "      <td>11.0</td>\n",
       "      <td>1</td>\n",
       "      <td>11</td>\n",
       "      <td>1</td>\n",
       "      <td>1</td>\n",
       "      <td>2019</td>\n",
       "      <td>30</td>\n",
       "    </tr>\n",
       "    <tr>\n",
       "      <th>2</th>\n",
       "      <td>Lunch</td>\n",
       "      <td>Weekday</td>\n",
       "      <td>Tuesday</td>\n",
       "      <td>1</td>\n",
       "      <td>1</td>\n",
       "      <td>2019</td>\n",
       "      <td>4.0</td>\n",
       "      <td>VEGETABLE SPECIALS</td>\n",
       "      <td>SARSON DA SAAG</td>\n",
       "      <td>15.0</td>\n",
       "      <td>1</td>\n",
       "      <td>11</td>\n",
       "      <td>1</td>\n",
       "      <td>1</td>\n",
       "      <td>2019</td>\n",
       "      <td>30</td>\n",
       "    </tr>\n",
       "    <tr>\n",
       "      <th>3</th>\n",
       "      <td>Lunch</td>\n",
       "      <td>Weekday</td>\n",
       "      <td>Tuesday</td>\n",
       "      <td>1</td>\n",
       "      <td>1</td>\n",
       "      <td>2019</td>\n",
       "      <td>4.0</td>\n",
       "      <td>VEGETABLE SPECIALS</td>\n",
       "      <td>PANEER VINDALOO</td>\n",
       "      <td>16.0</td>\n",
       "      <td>1</td>\n",
       "      <td>11</td>\n",
       "      <td>1</td>\n",
       "      <td>1</td>\n",
       "      <td>2019</td>\n",
       "      <td>30</td>\n",
       "    </tr>\n",
       "    <tr>\n",
       "      <th>4</th>\n",
       "      <td>Lunch</td>\n",
       "      <td>Weekday</td>\n",
       "      <td>Tuesday</td>\n",
       "      <td>1</td>\n",
       "      <td>1</td>\n",
       "      <td>2019</td>\n",
       "      <td>4.0</td>\n",
       "      <td>BREADS</td>\n",
       "      <td>GARLIC NAAN</td>\n",
       "      <td>3.5</td>\n",
       "      <td>2</td>\n",
       "      <td>11</td>\n",
       "      <td>1</td>\n",
       "      <td>1</td>\n",
       "      <td>2019</td>\n",
       "      <td>30</td>\n",
       "    </tr>\n",
       "  </tbody>\n",
       "</table>\n",
       "</div>"
      ],
      "text/plain": [
       "   Shift Day Type      Day  Month  Date  Year  PartySize        MenuCateogry  \\\n",
       "0  Lunch  Weekday  Tuesday      1     1  2019        4.0             Starter   \n",
       "1  Lunch  Weekday  Tuesday      1     1  2019        4.0             Starter   \n",
       "2  Lunch  Weekday  Tuesday      1     1  2019        4.0  VEGETABLE SPECIALS   \n",
       "3  Lunch  Weekday  Tuesday      1     1  2019        4.0  VEGETABLE SPECIALS   \n",
       "4  Lunch  Weekday  Tuesday      1     1  2019        4.0              BREADS   \n",
       "\n",
       "          MenuItem  ItemPrice  ItemQty  hour  day  month  year  minute  \n",
       "0  GOBI MANCHURIAN       14.0        1    11    1      1  2019      30  \n",
       "1  TASTY FLATBREAD       11.0        1    11    1      1  2019      30  \n",
       "2   SARSON DA SAAG       15.0        1    11    1      1  2019      30  \n",
       "3  PANEER VINDALOO       16.0        1    11    1      1  2019      30  \n",
       "4      GARLIC NAAN        3.5        2    11    1      1  2019      30  "
      ]
     },
     "execution_count": 432,
     "metadata": {},
     "output_type": "execute_result"
    }
   ],
   "source": [
    "df.head()"
   ]
  },
  {
   "cell_type": "markdown",
   "metadata": {},
   "source": [
    "Split the Input and Output. Here we have to predict the Menu Item, so treat it as output label.\n",
    "So rest of the features are treated as input"
   ]
  },
  {
   "cell_type": "code",
   "execution_count": 433,
   "metadata": {},
   "outputs": [],
   "source": [
    "y= df['MenuItem']\n",
    "X = df.drop('MenuItem',axis = 1)"
   ]
  },
  {
   "cell_type": "code",
   "execution_count": 434,
   "metadata": {},
   "outputs": [],
   "source": [
    "encoder = LabelEncoder()"
   ]
  },
  {
   "cell_type": "code",
   "execution_count": 435,
   "metadata": {},
   "outputs": [],
   "source": [
    "y = encoder.fit_transform(y.values)"
   ]
  },
  {
   "cell_type": "markdown",
   "metadata": {},
   "source": [
    "Since the 'y' feature is categorical so we have to encode it\n",
    "to numeric values so that machine can interpret that"
   ]
  },
  {
   "cell_type": "code",
   "execution_count": 436,
   "metadata": {},
   "outputs": [],
   "source": [
    "X_train, X_valid, y_train, y_valid = train_test_split(X, y, test_size = 0.3, random_state = 42)"
   ]
  },
  {
   "cell_type": "code",
   "execution_count": 437,
   "metadata": {},
   "outputs": [],
   "source": [
    "s = df.dtypes == 'object'\n",
    "categorical = list(s[s].index)"
   ]
  },
  {
   "cell_type": "code",
   "execution_count": 438,
   "metadata": {},
   "outputs": [],
   "source": [
    "categorical.remove('MenuItem')"
   ]
  },
  {
   "cell_type": "code",
   "execution_count": 439,
   "metadata": {},
   "outputs": [],
   "source": [
    "# Columnwise encoding using Label Encoding each of the input columns\n",
    "for col in categorical:\n",
    "    X_train[col] = encoder.fit_transform(X_train[col])\n",
    "    X_valid[col] = encoder.transform(X_valid[col])\n"
   ]
  },
  {
   "cell_type": "code",
   "execution_count": 440,
   "metadata": {},
   "outputs": [],
   "source": [
    "#ohe = OneHotEncoder(sparse = False,handle_unknown= 'ignore') "
   ]
  },
  {
   "cell_type": "code",
   "execution_count": 441,
   "metadata": {},
   "outputs": [],
   "source": [
    "#ohe_cols_train = pd.DataFrame(ohe.fit_transform(X_train[categorical]),index = X_train.index)\n",
    "#ohe_cols_valid = pd.DataFrame(ohe.transform(X_valid[categorical]),index = X_valid.index)"
   ]
  },
  {
   "cell_type": "code",
   "execution_count": 442,
   "metadata": {},
   "outputs": [],
   "source": [
    "#num_X_train =  X_train.drop(categorical,axis = 1)\n",
    "#num_X_valid =  X_valid.drop(categorical,axis = 1)"
   ]
  },
  {
   "cell_type": "code",
   "execution_count": 443,
   "metadata": {},
   "outputs": [],
   "source": [
    "#ohe_X_train = pd.concat([num_X_train, ohe_cols_train], axis=1)\n",
    "#ohe_X_valid = pd.concat([num_X_valid, ohe_cols_valid], axis=1)"
   ]
  },
  {
   "cell_type": "code",
   "execution_count": 444,
   "metadata": {},
   "outputs": [],
   "source": [
    "my_scaler = StandardScaler()"
   ]
  },
  {
   "cell_type": "code",
   "execution_count": 445,
   "metadata": {},
   "outputs": [],
   "source": [
    "final_X_train_label = pd.DataFrame(my_scaler.fit_transform(X_train,y_train),columns = X_train.columns)\n",
    "final_X_valid_label = pd.DataFrame(my_scaler.transform(X_valid),columns = X_valid.columns)"
   ]
  },
  {
   "cell_type": "code",
   "execution_count": 446,
   "metadata": {},
   "outputs": [],
   "source": [
    "#ohe_X_final_train = pd.DataFrame(my_scaler.fit_transform(ohe_X_train,y_train),columns = ohe_X_train.columns)"
   ]
  },
  {
   "cell_type": "code",
   "execution_count": 447,
   "metadata": {},
   "outputs": [],
   "source": [
    "#ohe_X_final_valid = pd.DataFrame(my_scaler.transform(ohe_X_valid),columns = ohe_X_valid.columns)"
   ]
  },
  {
   "cell_type": "markdown",
   "metadata": {},
   "source": [
    "Random Forest Regressor (Model)"
   ]
  },
  {
   "cell_type": "code",
   "execution_count": 448,
   "metadata": {},
   "outputs": [],
   "source": [
    " model = RandomForestRegressor(n_estimators=100, random_state=0)"
   ]
  },
  {
   "cell_type": "code",
   "execution_count": 449,
   "metadata": {},
   "outputs": [
    {
     "data": {
      "text/plain": [
       "RandomForestRegressor(bootstrap=True, ccp_alpha=0.0, criterion='mse',\n",
       "                      max_depth=None, max_features='auto', max_leaf_nodes=None,\n",
       "                      max_samples=None, min_impurity_decrease=0.0,\n",
       "                      min_impurity_split=None, min_samples_leaf=1,\n",
       "                      min_samples_split=2, min_weight_fraction_leaf=0.0,\n",
       "                      n_estimators=100, n_jobs=None, oob_score=False,\n",
       "                      random_state=0, verbose=0, warm_start=False)"
      ]
     },
     "execution_count": 449,
     "metadata": {},
     "output_type": "execute_result"
    }
   ],
   "source": [
    "model.fit(final_X_train_label,y_train)"
   ]
  },
  {
   "cell_type": "code",
   "execution_count": 450,
   "metadata": {},
   "outputs": [],
   "source": [
    "#model.fit(ohe_X_final_train,y_train)"
   ]
  },
  {
   "cell_type": "code",
   "execution_count": 451,
   "metadata": {},
   "outputs": [],
   "source": [
    "#pred = np.round(model.predict(ohe_X_final_valid))"
   ]
  },
  {
   "cell_type": "code",
   "execution_count": 452,
   "metadata": {},
   "outputs": [],
   "source": [
    "pred = np.round(model.predict(final_X_valid_label))"
   ]
  },
  {
   "cell_type": "markdown",
   "metadata": {},
   "source": [
    "Can use encoder.inverse_tramsform() to get the actual labels back.."
   ]
  },
  {
   "cell_type": "code",
   "execution_count": 453,
   "metadata": {},
   "outputs": [
    {
     "data": {
      "text/plain": [
       "2.4596747752497685"
      ]
     },
     "execution_count": 453,
     "metadata": {},
     "output_type": "execute_result"
    }
   ],
   "source": [
    "#Metrics to calculate the error\n",
    "#Root Mean Square error\n",
    "np.sqrt(mean_absolute_error(y_valid,pred))"
   ]
  },
  {
   "cell_type": "code",
   "execution_count": 454,
   "metadata": {},
   "outputs": [
    {
     "data": {
      "image/png": "[encoded data removed]",
      "text/plain": [
       "<Figure size 432x288 with 1 Axes>"
      ]
     },
     "metadata": {},
     "output_type": "display_data"
    },
    {
     "data": {
      "text/plain": [
       "<Figure size 864x432 with 0 Axes>"
      ]
     },
     "metadata": {},
     "output_type": "display_data"
    }
   ],
   "source": [
    "## Plot of predicted MenuItem vs actual unseen validation set MenuItem\n",
    "sns.barplot(x = y_valid,y = pred)\n",
    "plt.tight_layout()\n",
    "plt.figure(figsize = (12,6))\n",
    "sns.set_style('whitegrid')"
   ]
  },
  {
   "cell_type": "markdown",
   "metadata": {},
   "source": [
    "Here Also Random Forrest Regressor is giving the lesser error.\n",
    "So Here also our best model would be Random Forest Regressor"
   ]
  }
 ],
 "metadata": {
  "kernelspec": {
   "display_name": "Python 3",
   "language": "python",
   "name": "python3"
  },
  "language_info": {
   "codemirror_mode": {
    "name": "ipython",
    "version": 3
   },
   "file_extension": ".py",
   "mimetype": "text/x-python",
   "name": "python",
   "nbconvert_exporter": "python",
   "pygments_lexer": "ipython3",
   "version": "3.7.6"
  }
 },
 "nbformat": 4,
 "nbformat_minor": 4
}
